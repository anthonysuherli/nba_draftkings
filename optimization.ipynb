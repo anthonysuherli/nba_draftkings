{
 "cells": [
  {
   "cell_type": "code",
   "execution_count": 22,
   "outputs": [],
   "source": [
    "import json\n",
    "import os\n",
    "import pandas as pd\n",
    "import warnings\n",
    "import requests\n",
    "import datetime as dt\n",
    "warnings.filterwarnings('ignore')\n",
    "\n",
    "from tqdm.notebook import  tqdm\n",
    "\n",
    "with open('config.txt', 'r') as f:\n",
    "    names = f.read().split('\\n')\n",
    "\n",
    "def process_roster(path):\n",
    "    roster = pd.read_csv(path)\n",
    "    roster['Game'] = roster.Game.str.split('@').apply(lambda x: set([y.strip() for y in x]))\n",
    "    roster['Name'] = roster.Name\n",
    "    roster['TeamAbbrev'] = roster.TeamAbbrev.apply(lambda x: set([x]))\n",
    "    roster['OppAbbrev'] = roster.Game - roster.TeamAbbrev\n",
    "    roster['Team'] = roster.TeamAbbrev.apply(lambda x: list(x)[0])\n",
    "    roster['Opp'] = roster.OppAbbrev.apply(lambda x: list(x)[0])\n",
    "    roster.Time = pd.to_datetime(roster.Time)\n",
    "    roster.drop(['TeamAbbrev','OppAbbrev', 'Game'], axis = 1, inplace=True)\n",
    "    return roster[['Name','Position', 'ID', 'Time', 'Salary', 'Team', 'Opp']]\n",
    "\n",
    "def url_join(*args):\n",
    "    return '/'.join(args)\n",
    "\n",
    "class draftProcessor:\n",
    "    def __init__(self, draft, load_ids = True):\n",
    "        self.local_dir = 'data/NBA_API'\n",
    "        self.base_url = \"https://api-nba-v1.p.rapidapi.com\"\n",
    "        self.headers = {\n",
    "            'x-rapidapi-host': \"api-nba-v1.p.rapidapi.com\",\n",
    "            'x-rapidapi-key': \"3c3966d785msh9c9c037d21ff8a9p1af469jsn475bf58bcbe1\"\n",
    "        }\n",
    "\n",
    "        self.load_ids = load_ids\n",
    "        self.draft = draft\n",
    "        self.id_mapping = json.load(open(url_join(self.local_dir, 'id_mapping.json'), 'r'))\n",
    "\n",
    "        if self.load_ids:\n",
    "            self.get_player_ids()\n",
    "\n",
    "        self.draft.index = [x.lower() for x in self.draft.index]\n",
    "        self.draft = self.draft.join(pd.DataFrame.from_dict(self.id_mapping, orient='index').rename({0: 'api_id'}, axis = 1))\n",
    "        self.draft.dropna(inplace=True)\n",
    "        self.draft['api_id'] = self.draft['api_id'].astype(int)\n",
    "\n",
    "\n",
    "    def get_player_ids(self):\n",
    "        names = list(self.draft.index)\n",
    "\n",
    "        for name in names:\n",
    "            if name.lower() not in self.id_mapping:\n",
    "                last_name = name.split(' ')[-1]\n",
    "                print(f'id not found for {name}, getting id for {last_name}')\n",
    "                try:\n",
    "                    players = self.get_players({'name': last_name})\n",
    "                except Exception as e:\n",
    "                    print(f'failed. Error Message: {e}')\n",
    "                    continue\n",
    "\n",
    "                if type(players) == dict:\n",
    "                    player_name = players['firstname'] + ' ' + players['lastname']\n",
    "                    self.id_mapping[players[player_name.lower()]] = players['id']\n",
    "                else:\n",
    "                    for player in players:\n",
    "                        player_name = player['firstname'] + ' ' + player['lastname']\n",
    "                        player_id = player['id']\n",
    "                        self.id_mapping[player_name.lower()] = player_id\n",
    "\n",
    "                with open(url_join(self.local_dir, 'id_mapping.json'), 'w') as f:\n",
    "                    json.dump(self.id_mapping,f)\n",
    "            else:\n",
    "                continue\n",
    "\n",
    "    def get_players(self, params):\n",
    "        url = url_join(self.base_url, 'players')\n",
    "        print(url)\n",
    "        resp= requests.get(url, headers = self.headers, params = params).json()\n",
    "        return resp['response']\n",
    "\n",
    "\n",
    "    def load_player_stats(self, params, ret = False):\n",
    "        url = url_join(self.base_url, 'players','statistics')\n",
    "        data_path = url_join(self.local_dir, 'stats', str(params['season']))\n",
    "        params['id'] = int(params['id'])\n",
    "\n",
    "        if f\"{params['id']}.csv\" in os.listdir(data_path):\n",
    "            if ret:\n",
    "                data = pd.read_csv(url_join(data_path, f\"{params['id']}.csv\"))\n",
    "                data['id'] = params['id']\n",
    "            else:\n",
    "                return\n",
    "        else:\n",
    "            print(f\"downloading data for id: {params['id']}\")\n",
    "            try:\n",
    "                data = requests.get(url, headers=headers, params = params).json()\n",
    "                data = pd.DataFrame(data['response']).drop(['team', 'player', 'game'], axis=1)\n",
    "                data.to_csv(url_join(data_path, f\"{params['id']}.csv\"), index = False)\n",
    "            except:\n",
    "                print(f\"failed. n_games = {len(data)}\")\n",
    "                return\n",
    "\n",
    "        if ret:\n",
    "            return data\n"
   ],
   "metadata": {
    "collapsed": false
   }
  },
  {
   "cell_type": "code",
   "execution_count": 30,
   "outputs": [],
   "source": [
    "from draft_kings import Client\n",
    "from draft_kings import Sport as dk_Sport"
   ],
   "metadata": {
    "collapsed": false
   }
  },
  {
   "cell_type": "code",
   "execution_count": 31,
   "metadata": {
    "collapsed": true
   },
   "outputs": [],
   "source": [
    "from pydfs_lineup_optimizer import get_optimizer, Site, Sport\n",
    "optimizer = get_optimizer(Site.DRAFTKINGS, Sport.BASKETBALL)"
   ]
  },
  {
   "cell_type": "code",
   "execution_count": 24,
   "outputs": [],
   "source": [
    "url = 'https://www.draftkings.com/lineup/getavailableplayerscsv?contestTypeId=70&draftGroupId=75319'"
   ],
   "metadata": {
    "collapsed": false
   }
  },
  {
   "cell_type": "code",
   "execution_count": 25,
   "outputs": [],
   "source": [
    "import requests\n",
    "resp = requests.get(url)\n",
    "\n",
    "with open('test.csv', 'w') as f:\n",
    "    f.write(resp.content.decode(\"utf-8\") )"
   ],
   "metadata": {
    "collapsed": false
   }
  },
  {
   "cell_type": "code",
   "execution_count": 25,
   "outputs": [],
   "source": [],
   "metadata": {
    "collapsed": false
   }
  },
  {
   "cell_type": "code",
   "execution_count": 25,
   "outputs": [],
   "source": [],
   "metadata": {
    "collapsed": false
   }
  },
  {
   "cell_type": "code",
   "execution_count": 25,
   "outputs": [],
   "source": [],
   "metadata": {
    "collapsed": false
   }
  }
 ],
 "metadata": {
  "kernelspec": {
   "display_name": "Python 3",
   "language": "python",
   "name": "python3"
  },
  "language_info": {
   "codemirror_mode": {
    "name": "ipython",
    "version": 2
   },
   "file_extension": ".py",
   "mimetype": "text/x-python",
   "name": "python",
   "nbconvert_exporter": "python",
   "pygments_lexer": "ipython2",
   "version": "2.7.6"
  }
 },
 "nbformat": 4,
 "nbformat_minor": 0
}
