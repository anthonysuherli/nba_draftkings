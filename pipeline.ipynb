{
 "cells": [
  {
   "cell_type": "code",
   "execution_count": 203,
   "outputs": [],
   "source": [
    "import json\n",
    "import os\n",
    "import pandas as pd\n",
    "import warnings\n",
    "import datetime as dt\n",
    "warnings.filterwarnings('ignore')\n",
    "\n",
    "from tqdm.notebook import  tqdm\n",
    "\n",
    "with open('config.txt', 'r') as f:\n",
    "    names = f.read().split('\\n')\n",
    "\n",
    "def process_roster(path):\n",
    "    roster = pd.read_csv(path)\n",
    "    roster['Game'] = roster.Game.str.split('@').apply(lambda x: set([y.strip() for y in x]))\n",
    "    roster['Name'] = roster.Name\n",
    "    roster['TeamAbbrev'] = roster.TeamAbbrev.apply(lambda x: set([x]))\n",
    "    roster['OppAbbrev'] = roster.Game - roster.TeamAbbrev\n",
    "    roster['Team'] = roster.TeamAbbrev.apply(lambda x: list(x)[0])\n",
    "    roster['Opp'] = roster.OppAbbrev.apply(lambda x: list(x)[0])\n",
    "    roster.Time = pd.to_datetime(roster.Time)\n",
    "    roster.drop(['TeamAbbrev','OppAbbrev', 'Game'], axis = 1, inplace=True)\n",
    "    return roster[['Name','Position', 'ID', 'Time', 'Salary', 'Team', 'Opp']]\n",
    "\n",
    "import requests\n",
    "\n",
    "def url_join(*args):\n",
    "    return '/'.join(args)\n",
    "\n",
    "class draftProcessor:\n",
    "    def __init__(self, draft, load_ids = True):\n",
    "        self.local_dir = 'data/NBA_API'\n",
    "        self.base_url = \"https://api-nba-v1.p.rapidapi.com\"\n",
    "        self.headers = {\n",
    "            'x-rapidapi-host': \"api-nba-v1.p.rapidapi.com\",\n",
    "            'x-rapidapi-key': \"3c3966d785msh9c9c037d21ff8a9p1af469jsn475bf58bcbe1\"\n",
    "        }\n",
    "\n",
    "        self.load_ids = load_ids\n",
    "        self.draft = draft\n",
    "        self.id_mapping = json.load(open(url_join(self.local_dir, 'id_mapping.json'), 'r'))\n",
    "\n",
    "        if self.load_ids:\n",
    "            self.get_player_ids()\n",
    "\n",
    "        self.draft.index = [x.lower() for x in self.draft.index]\n",
    "        self.draft = self.draft.join(pd.DataFrame.from_dict(self.id_mapping, orient='index').rename({0: 'api_id'}, axis = 1))\n",
    "        self.draft.dropna(inplace=True)\n",
    "        self.draft['api_id'] = self.draft['api_id'].astype(int)\n",
    "\n",
    "\n",
    "    def get_player_ids(self):\n",
    "        names = list(self.draft.index)\n",
    "\n",
    "        for name in names:\n",
    "            if name.lower() not in self.id_mapping:\n",
    "                last_name = name.split(' ')[-1]\n",
    "                print(f'id not found for {name}, getting id for {last_name}')\n",
    "                try:\n",
    "                    players = self.get_players({'name': last_name})\n",
    "                except Exception as e:\n",
    "                    print(f'failed. Error Message: {e}')\n",
    "                    continue\n",
    "\n",
    "                if type(players) == dict:\n",
    "                    player_name = players['firstname'] + ' ' + players['lastname']\n",
    "                    self.id_mapping[players[player_name.lower()]] = players['id']\n",
    "                else:\n",
    "                    for player in players:\n",
    "                        player_name = player['firstname'] + ' ' + player['lastname']\n",
    "                        player_id = player['id']\n",
    "                        self.id_mapping[player_name.lower()] = player_id\n",
    "\n",
    "                with open(url_join(self.local_dir, 'id_mapping.json'), 'w') as f:\n",
    "                    json.dump(self.id_mapping,f)\n",
    "            else:\n",
    "                continue\n",
    "\n",
    "    def get_players(self, params):\n",
    "        url = url_join(self.base_url, 'players')\n",
    "        print(url)\n",
    "        resp= requests.get(url, headers = self.headers, params = params).json()\n",
    "        return resp['response']\n",
    "\n",
    "\n",
    "    def load_player_stats(self, params, ret = False):\n",
    "        url = url_join(self.base_url, 'players','statistics')\n",
    "        data_path = url_join(self.local_dir, 'stats', str(params['season']))\n",
    "        params['id'] = int(params['id'])\n",
    "\n",
    "        if f\"{params['id']}.csv\" in os.listdir(data_path):\n",
    "            if ret:\n",
    "                data = pd.read_csv(url_join(data_path, f\"{params['id']}.csv\"))\n",
    "                data['id'] = params['id']\n",
    "            else:\n",
    "                return\n",
    "        else:\n",
    "            print(f\"downloading data for id: {params['id']}\")\n",
    "            try:\n",
    "                data = requests.get(url, headers= self.headers, params = params).json()\n",
    "                data = pd.DataFrame(data['response']).drop(['team', 'player', 'game'], axis=1)\n",
    "                data.to_csv(url_join(data_path, f\"{params['id']}.csv\"), index = False)\n",
    "            except Exception as e:\n",
    "                print(f\"failed. {data} {key}\")\n",
    "                return\n",
    "\n",
    "        if ret:\n",
    "            return data\n"
   ],
   "metadata": {
    "collapsed": false
   }
  },
  {
   "cell_type": "code",
   "execution_count": 168,
   "outputs": [
    {
     "data": {
      "text/plain": "                        Position       ID                      Time  Salary  \\\nName                                                                          \nGiannis Antetokounmpo       PF/C   739957 2022-10-12 00:00:00+00:00  9900.0   \nDamian Lillard                PG   463121 2022-10-12 02:00:00+00:00  9600.0   \nJa Morant                     PG  1065906 2022-10-11 23:00:00+00:00  9500.0   \nShai Gilgeous-Alexander       PG  1067856 2022-10-11 23:00:00+00:00  9400.0   \nStephen Curry                 PG   338365 2022-10-12 02:00:00+00:00  9300.0   \n\n                        Team  Opp  \nName                               \nGiannis Antetokounmpo    MIL  CHI  \nDamian Lillard           POR  GSW  \nJa Morant                MEM  ORL  \nShai Gilgeous-Alexander  OKC  DET  \nStephen Curry            GSW  POR  ",
      "text/html": "<div>\n<style scoped>\n    .dataframe tbody tr th:only-of-type {\n        vertical-align: middle;\n    }\n\n    .dataframe tbody tr th {\n        vertical-align: top;\n    }\n\n    .dataframe thead th {\n        text-align: right;\n    }\n</style>\n<table border=\"1\" class=\"dataframe\">\n  <thead>\n    <tr style=\"text-align: right;\">\n      <th></th>\n      <th>Position</th>\n      <th>ID</th>\n      <th>Time</th>\n      <th>Salary</th>\n      <th>Team</th>\n      <th>Opp</th>\n    </tr>\n    <tr>\n      <th>Name</th>\n      <th></th>\n      <th></th>\n      <th></th>\n      <th></th>\n      <th></th>\n      <th></th>\n    </tr>\n  </thead>\n  <tbody>\n    <tr>\n      <th>Giannis Antetokounmpo</th>\n      <td>PF/C</td>\n      <td>739957</td>\n      <td>2022-10-12 00:00:00+00:00</td>\n      <td>9900.0</td>\n      <td>MIL</td>\n      <td>CHI</td>\n    </tr>\n    <tr>\n      <th>Damian Lillard</th>\n      <td>PG</td>\n      <td>463121</td>\n      <td>2022-10-12 02:00:00+00:00</td>\n      <td>9600.0</td>\n      <td>POR</td>\n      <td>GSW</td>\n    </tr>\n    <tr>\n      <th>Ja Morant</th>\n      <td>PG</td>\n      <td>1065906</td>\n      <td>2022-10-11 23:00:00+00:00</td>\n      <td>9500.0</td>\n      <td>MEM</td>\n      <td>ORL</td>\n    </tr>\n    <tr>\n      <th>Shai Gilgeous-Alexander</th>\n      <td>PG</td>\n      <td>1067856</td>\n      <td>2022-10-11 23:00:00+00:00</td>\n      <td>9400.0</td>\n      <td>OKC</td>\n      <td>DET</td>\n    </tr>\n    <tr>\n      <th>Stephen Curry</th>\n      <td>PG</td>\n      <td>338365</td>\n      <td>2022-10-12 02:00:00+00:00</td>\n      <td>9300.0</td>\n      <td>GSW</td>\n      <td>POR</td>\n    </tr>\n  </tbody>\n</table>\n</div>"
     },
     "execution_count": 168,
     "metadata": {},
     "output_type": "execute_result"
    }
   ],
   "source": [
    "with open('config.txt', 'r') as f:\n",
    "    names = f.read().split('\\n')\n",
    "\n",
    "name = names[0]\n",
    "date = dt.datetime.now().strftime('%Y-%m-%d')\n",
    "path = f'data/{name}/{date}.csv'\n",
    "\n",
    "\n",
    "df = process_roster(path).set_index('Name')\n",
    "df.head()"
   ],
   "metadata": {
    "collapsed": false
   }
  },
  {
   "cell_type": "code",
   "execution_count": 181,
   "outputs": [
    {
     "name": "stdout",
     "output_type": "stream",
     "text": [
      "id not found for shai gilgeous-alexander, getting id for gilgeous-alexander\n",
      "https://api-nba-v1.p.rapidapi.com/players\n",
      "id not found for wendell carter jr., getting id for jr.\n",
      "https://api-nba-v1.p.rapidapi.com/players\n",
      "id not found for marvin bagley iii, getting id for iii\n",
      "https://api-nba-v1.p.rapidapi.com/players\n",
      "id not found for derrick jones jr., getting id for jr.\n",
      "https://api-nba-v1.p.rapidapi.com/players\n",
      "id not found for nickeil alexander-walker, getting id for alexander-walker\n",
      "https://api-nba-v1.p.rapidapi.com/players\n",
      "id not found for talen horton-tucker, getting id for horton-tucker\n",
      "https://api-nba-v1.p.rapidapi.com/players\n",
      "id not found for kenneth lofton jr., getting id for jr.\n",
      "https://api-nba-v1.p.rapidapi.com/players\n",
      "id not found for vince williams jr., getting id for jr.\n",
      "https://api-nba-v1.p.rapidapi.com/players\n",
      "id not found for lindy waters iii, getting id for iii\n",
      "https://api-nba-v1.p.rapidapi.com/players\n",
      "id not found for keita bates-diop, getting id for bates-diop\n",
      "https://api-nba-v1.p.rapidapi.com/players\n",
      "id not found for javon freeman-liberty, getting id for freeman-liberty\n",
      "https://api-nba-v1.p.rapidapi.com/players\n",
      "id not found for aj green, getting id for green\n",
      "https://api-nba-v1.p.rapidapi.com/players\n",
      "id not found for gary payton ii, getting id for ii\n",
      "https://api-nba-v1.p.rapidapi.com/players\n",
      "id not found for kevin knox ii, getting id for ii\n",
      "https://api-nba-v1.p.rapidapi.com/players\n",
      "id not found for jeremiah robinson-earl, getting id for robinson-earl\n",
      "https://api-nba-v1.p.rapidapi.com/players\n",
      "id not found for greg brown, getting id for brown\n",
      "https://api-nba-v1.p.rapidapi.com/players\n",
      "id not found for patrick baldwin jr., getting id for jr.\n",
      "https://api-nba-v1.p.rapidapi.com/players\n",
      "id not found for jaren jackson jr., getting id for jr.\n",
      "https://api-nba-v1.p.rapidapi.com/players\n",
      "id not found for robert woodard ii, getting id for ii\n",
      "https://api-nba-v1.p.rapidapi.com/players\n"
     ]
    }
   ],
   "source": [
    "dprocessor = draftProcessor(df)\n",
    "\n",
    "#\n",
    "# for name in test.id_mapping:\n",
    "#     try:\n",
    "#         print(name)\n",
    "#         test.load_player_stats({'id': test.id_mapping[name], 'season': 2021})\n",
    "#     except:\n",
    "#         continue"
   ],
   "metadata": {
    "collapsed": false
   }
  },
  {
   "cell_type": "code",
   "execution_count": 171,
   "outputs": [
    {
     "data": {
      "text/plain": "  0%|          | 0/179 [00:00<?, ?it/s]",
      "application/vnd.jupyter.widget-view+json": {
       "version_major": 2,
       "version_minor": 0,
       "model_id": "fc237389116d41d6b2cfc55cb6fa009d"
      }
     },
     "metadata": {},
     "output_type": "display_data"
    }
   ],
   "source": [
    "import numpy as np\n",
    "df_factors = []\n",
    "\n",
    "def calc_fp(scores):\n",
    "    multiplier = np.array([1, .5, 1.25, 1.5, 2, 2, -.5, 1.5, 3])\n",
    "    return np.dot(multiplier, scores)\n",
    "\n",
    "for id in tqdm(dprocessor.draft.api_id):\n",
    "    try:\n",
    "        data = pd.read_csv(f'data/NBA_API/stats/2021/{id}.csv')\n",
    "        data['min'] = data['min'].astype(str)\n",
    "    except:\n",
    "        continue\n",
    "\n",
    "    data = data.drop(['pos', 'comment'], axis=1).dropna()\n",
    "    data = data[data['min'] != \"0\"]\n",
    "\n",
    "    if data.shape[0] <= 5:\n",
    "        continue\n",
    "\n",
    "    data['min'] = data['min'].str.split(':').apply(lambda x: float(f\"{x[0]}.{str((int(x[1])/60)).split('.')[-1]}\"))\n",
    "\n",
    "    factors = pd.DataFrame(data.mean().rename(id)).T.reset_index()\n",
    "    factors = factors.rename({'index' : 'api_id'}, axis = 1)\n",
    "    factors['dd'] = ((data[['points', 'totReb', 'assists', 'steals', 'blocks']] > 10).sum(axis=1) >= 2).astype(int).mean()\n",
    "    factors['td'] = ((data[['points', 'totReb', 'assists', 'steals', 'blocks']] > 10).sum(axis=1) >= 3).astype(int).mean()\n",
    "\n",
    "    fp_cols = ['points', 'tpm', 'totReb', 'assists', 'steals', 'blocks', 'turnovers', 'dd', 'td']\n",
    "    factors['fp'] = calc_fp(np.array(factors[fp_cols]).reshape(-1, 1))\n",
    "\n",
    "    df_factors.append(factors)\n",
    "    # test.load_player_stats(params = {'id': id, 'season': 2021})\n",
    "df_factors = pd.concat(df_factors)\n",
    "df_factors = pd.merge(dprocessor.draft.reset_index(), df_factors, left_on = 'api_id', right_on = 'api_id').rename({'index': 'Name'}, axis = 1)"
   ],
   "metadata": {
    "collapsed": false
   }
  },
  {
   "cell_type": "code",
   "execution_count": 172,
   "outputs": [
    {
     "data": {
      "text/plain": "                    Name Position       ID TeamAbbrev  Salary  \\\n0  giannis antetokounmpo     PF/C   739957        MIL  9900.0   \n1         damian lillard       PG   463121        POR  9600.0   \n2              ja morant       PG  1065906        MEM  9500.0   \n3          stephen curry       PG   338365        GSW  9300.0   \n4        cade cunningham       PG  1232182        DET  9200.0   \n\n   AvgPointsPerGame  \n0         57.912651  \n1         41.064516  \n2         46.806338  \n3         45.383152  \n4         35.625000  ",
      "text/html": "<div>\n<style scoped>\n    .dataframe tbody tr th:only-of-type {\n        vertical-align: middle;\n    }\n\n    .dataframe tbody tr th {\n        vertical-align: top;\n    }\n\n    .dataframe thead th {\n        text-align: right;\n    }\n</style>\n<table border=\"1\" class=\"dataframe\">\n  <thead>\n    <tr style=\"text-align: right;\">\n      <th></th>\n      <th>Name</th>\n      <th>Position</th>\n      <th>ID</th>\n      <th>TeamAbbrev</th>\n      <th>Salary</th>\n      <th>AvgPointsPerGame</th>\n    </tr>\n  </thead>\n  <tbody>\n    <tr>\n      <th>0</th>\n      <td>giannis antetokounmpo</td>\n      <td>PF/C</td>\n      <td>739957</td>\n      <td>MIL</td>\n      <td>9900.0</td>\n      <td>57.912651</td>\n    </tr>\n    <tr>\n      <th>1</th>\n      <td>damian lillard</td>\n      <td>PG</td>\n      <td>463121</td>\n      <td>POR</td>\n      <td>9600.0</td>\n      <td>41.064516</td>\n    </tr>\n    <tr>\n      <th>2</th>\n      <td>ja morant</td>\n      <td>PG</td>\n      <td>1065906</td>\n      <td>MEM</td>\n      <td>9500.0</td>\n      <td>46.806338</td>\n    </tr>\n    <tr>\n      <th>3</th>\n      <td>stephen curry</td>\n      <td>PG</td>\n      <td>338365</td>\n      <td>GSW</td>\n      <td>9300.0</td>\n      <td>45.383152</td>\n    </tr>\n    <tr>\n      <th>4</th>\n      <td>cade cunningham</td>\n      <td>PG</td>\n      <td>1232182</td>\n      <td>DET</td>\n      <td>9200.0</td>\n      <td>35.625000</td>\n    </tr>\n  </tbody>\n</table>\n</div>"
     },
     "execution_count": 172,
     "metadata": {},
     "output_type": "execute_result"
    }
   ],
   "source": [
    "df_opt = df_factors[['Name', 'Position', 'ID', 'Team', 'Salary', 'fp']]\n",
    "df_opt.columns = ['Name', 'Position', 'ID', 'TeamAbbrev', 'Salary', 'AvgPointsPerGame']\n",
    "df_opt.to_csv('test_opt.csv')\n",
    "\n",
    "from pydfs_lineup_optimizer import get_optimizer, Site, Sport\n",
    "optimizer = get_optimizer(Site.DRAFTKINGS, Sport.BASKETBALL)\n",
    "optimizer.load_players_from_csv('test_opt.csv')\n",
    "\n",
    "lineups = []\n",
    "for lineup in optimizer.optimize(n=5):\n",
    "    print(lineup)\n",
    "    players = lineup.players\n",
    "    names = [x.full_name for x in players]\n",
    "    lineups.append(names)"
   ],
   "metadata": {
    "collapsed": false
   }
  },
  {
   "cell_type": "code",
   "execution_count": 191,
   "outputs": [
    {
     "data": {
      "text/plain": "24725562"
     },
     "execution_count": 191,
     "metadata": {},
     "output_type": "execute_result"
    }
   ],
   "source": [
    "df_out.loc['andrew wiggins'].ID"
   ],
   "metadata": {
    "collapsed": false
   }
  },
  {
   "cell_type": "code",
   "execution_count": 192,
   "outputs": [],
   "source": [
    "df_out = pd.read_csv('data/NBA $3K High Five [Single Entry]/base_draft.csv')\n",
    "df_out.Name = df_out.Name.str.lower()\n",
    "df_out = df_out.set_index('Name')\n",
    "\n",
    "for idx, lineup in enumerate(lineups):\n",
    "    lineups[idx] = [df_out.loc[x].ID for x in lineup]\n"
   ],
   "metadata": {
    "collapsed": false
   }
  },
  {
   "cell_type": "code",
   "execution_count": 202,
   "outputs": [],
   "source": [
    "df_out = pd.DataFrame(lineups)\n",
    "df_out.to_csv('out.csv', header=False, index = False)"
   ],
   "metadata": {
    "collapsed": false
   }
  },
  {
   "cell_type": "code",
   "execution_count": 199,
   "outputs": [],
   "source": [],
   "metadata": {
    "collapsed": false
   }
  },
  {
   "cell_type": "code",
   "execution_count": null,
   "outputs": [],
   "source": [],
   "metadata": {
    "collapsed": false
   }
  }
 ],
 "metadata": {
  "kernelspec": {
   "display_name": "Python 3",
   "language": "python",
   "name": "python3"
  },
  "language_info": {
   "codemirror_mode": {
    "name": "ipython",
    "version": 2
   },
   "file_extension": ".py",
   "mimetype": "text/x-python",
   "name": "python",
   "nbconvert_exporter": "python",
   "pygments_lexer": "ipython2",
   "version": "2.7.6"
  }
 },
 "nbformat": 4,
 "nbformat_minor": 0
}
