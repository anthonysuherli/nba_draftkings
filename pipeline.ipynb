{
 "cells": [
  {
   "cell_type": "code",
   "execution_count": 426,
   "outputs": [],
   "source": [
    "import json\n",
    "import os\n",
    "import pandas as pd\n",
    "import warnings\n",
    "import datetime as dt\n",
    "warnings.filterwarnings('ignore')\n",
    "\n",
    "from tqdm.notebook import  tqdm\n",
    "\n",
    "with open('config.txt', 'r') as f:\n",
    "    names = f.read().split('\\n')\n",
    "\n",
    "def process_roster(path):\n",
    "    roster = pd.read_csv(path)\n",
    "    roster['Game'] = roster.Game.str.split('@').apply(lambda x: set([y.strip() for y in x]))\n",
    "    roster['Name'] = roster.Name\n",
    "    roster['TeamAbbrev'] = roster.TeamAbbrev.apply(lambda x: set([x]))\n",
    "    roster['OppAbbrev'] = roster.Game - roster.TeamAbbrev\n",
    "    roster['Team'] = roster.TeamAbbrev.apply(lambda x: list(x)[0])\n",
    "    roster['Opp'] = roster.OppAbbrev.apply(lambda x: list(x)[0])\n",
    "    roster.Time = pd.to_datetime(roster.Time)\n",
    "    roster.drop(['TeamAbbrev','OppAbbrev', 'Game'], axis = 1, inplace=True)\n",
    "    return roster[['Name','Position', 'ID', 'Time', 'Salary', 'Team', 'Opp']]"
   ],
   "metadata": {
    "collapsed": false
   }
  },
  {
   "cell_type": "code",
   "execution_count": 378,
   "outputs": [],
   "source": [
    "import requests\n",
    "\n",
    "def url_join(*args):\n",
    "    return '/'.join(args)\n",
    "\n",
    "class draftProcessor:\n",
    "    def __init__(self, draft, load_ids = True):\n",
    "        self.local_dir = 'data/NBA_API'\n",
    "        self.base_url = \"https://api-nba-v1.p.rapidapi.com\"\n",
    "        self.headers = {\n",
    "            'x-rapidapi-host': \"api-nba-v1.p.rapidapi.com\",\n",
    "            'x-rapidapi-key': \"3c3966d785msh9c9c037d21ff8a9p1af469jsn475bf58bcbe1\"\n",
    "        }\n",
    "\n",
    "        self.load_ids = load_ids\n",
    "        self.draft = draft\n",
    "        self.id_mapping = json.load(open(url_join(self.local_dir, 'id_mapping.json'), 'r'))\n",
    "\n",
    "        if self.load_ids:\n",
    "            self.get_player_ids()\n",
    "\n",
    "        self.draft.index = [x.lower() for x in self.draft.index]\n",
    "        self.draft = self.draft.join(pd.DataFrame.from_dict(self.id_mapping, orient='index').rename({0: 'api_id'}, axis = 1))\n",
    "        self.draft.dropna(inplace=True)\n",
    "        self.draft['api_id'] = self.draft['api_id'].astype(int)\n",
    "\n",
    "\n",
    "    def get_player_ids(self):\n",
    "        names = list(self.draft.index)\n",
    "\n",
    "        for name in names:\n",
    "            if name.lower() not in self.id_mapping:\n",
    "                last_name = name.split(' ')[-1]\n",
    "                print(f'id not found for {name}, getting id for {last_name}')\n",
    "                try:\n",
    "                    players = self.get_players({'name': last_name})\n",
    "                except Exception as e:\n",
    "                    print(f'failed. Error Message: {e}')\n",
    "                    continue\n",
    "\n",
    "                if type(players) == dict:\n",
    "                    player_name = players['firstname'] + ' ' + players['lastname']\n",
    "                    self.id_mapping[players[player_name.lower()]] = players['id']\n",
    "                else:\n",
    "                    for player in players:\n",
    "                        player_name = player['firstname'] + ' ' + player['lastname']\n",
    "                        player_id = player['id']\n",
    "                        self.id_mapping[player_name.lower()] = player_id\n",
    "\n",
    "                with open(url_join(self.local_dir, 'id_mapping.json'), 'w') as f:\n",
    "                    json.dump(self.id_mapping,f)\n",
    "            else:\n",
    "                continue\n",
    "\n",
    "    def get_players(self, params):\n",
    "        url = url_join(self.base_url, 'players')\n",
    "        print(url)\n",
    "        resp= requests.get(url, headers = self.headers, params = params).json()\n",
    "        return resp['response']\n",
    "\n",
    "\n",
    "    def load_player_stats(self, params, ret = False):\n",
    "        url = url_join(self.base_url, 'players','statistics')\n",
    "        data_path = url_join(self.local_dir, 'stats', str(params['season']))\n",
    "        params['id'] = int(params['id'])\n",
    "\n",
    "        if f\"{params['id']}.csv\" in os.listdir(data_path):\n",
    "            if ret:\n",
    "                data = pd.read_csv(url_join(data_path, f\"{params['id']}.csv\"))\n",
    "                data['id'] = params['id']\n",
    "            else:\n",
    "                return\n",
    "        else:\n",
    "            print(f\"downloading data for id: {params['id']}\")\n",
    "            try:\n",
    "                data = requests.get(url, headers=headers, params = params).json()\n",
    "                data = pd.DataFrame(data['response']).drop(['team', 'player', 'game'], axis=1)\n",
    "                data.to_csv(url_join(data_path, f\"{params['id']}.csv\"), index = False)\n",
    "            except:\n",
    "                print(f\"failed. n_games = {len(data)}\")\n",
    "                return\n",
    "\n",
    "        if ret:\n",
    "            return data\n"
   ],
   "metadata": {
    "collapsed": false
   }
  },
  {
   "cell_type": "code",
   "execution_count": 394,
   "outputs": [],
   "source": [
    "name = 'NBA $3K AND-ONE [20 ENTRY MAX]'\n",
    "date = dt.datetime.now().strftime('%Y-%m-%d')\n",
    "path = f'data/{name}/{date}.csv'\n",
    "\n",
    "df = process_roster(path).set_index('Name')\n",
    "df.head()\n",
    "\n",
    "\n",
    "test = draftProcessor(df, False)"
   ],
   "metadata": {
    "collapsed": false
   }
  },
  {
   "cell_type": "code",
   "execution_count": 510,
   "outputs": [
    {
     "data": {
      "text/plain": "  0%|          | 0/138 [00:00<?, ?it/s]",
      "application/vnd.jupyter.widget-view+json": {
       "version_major": 2,
       "version_minor": 0,
       "model_id": "8039f7ca08f84e7b82b384e2ec20035d"
      },
      "application/json": {
       "n": 0,
       "total": 138,
       "elapsed": 0.019003629684448242,
       "ncols": null,
       "nrows": null,
       "prefix": "",
       "ascii": false,
       "unit": "it",
       "unit_scale": false,
       "rate": null,
       "bar_format": null,
       "postfix": null,
       "unit_divisor": 1000,
       "initial": 0,
       "colour": null
      }
     },
     "metadata": {},
     "output_type": "display_data"
    },
    {
     "name": "stdout",
     "output_type": "stream",
     "text": [
      "failed for player id: 45, Error: list index out of range\n",
      "failed for player id: 383, Error: Can only use .str accessor with string values!\n",
      "failed for player id: 327, Error: list index out of range\n",
      "failed for player id: 459, Error: list index out of range\n",
      "failed for player id: 317, Error: list index out of range\n",
      "failed for player id: 998, Error: list index out of range\n",
      "failed for player id: 403, Error: list index out of range\n",
      "failed for player id: 1227, Error: [Errno 2] No such file or directory: 'data/NBA_API/stats/2021/1227.csv'\n",
      "failed for player id: 3428, Error: [Errno 2] No such file or directory: 'data/NBA_API/stats/2021/3428.csv'\n",
      "failed for player id: 2242, Error: list index out of range\n",
      "failed for player id: 207, Error: list index out of range\n",
      "failed for player id: 468, Error: Can only use .str accessor with string values!\n",
      "failed for player id: 3453, Error: [Errno 2] No such file or directory: 'data/NBA_API/stats/2021/3453.csv'\n",
      "failed for player id: 3435, Error: [Errno 2] No such file or directory: 'data/NBA_API/stats/2021/3435.csv'\n",
      "failed for player id: 3506, Error: [Errno 2] No such file or directory: 'data/NBA_API/stats/2021/3506.csv'\n",
      "failed for player id: 1447, Error: [Errno 2] No such file or directory: 'data/NBA_API/stats/2021/1447.csv'\n",
      "failed for player id: 3420, Error: [Errno 2] No such file or directory: 'data/NBA_API/stats/2021/3420.csv'\n",
      "failed for player id: 169, Error: list index out of range\n",
      "failed for player id: 3472, Error: [Errno 2] No such file or directory: 'data/NBA_API/stats/2021/3472.csv'\n",
      "failed for player id: 3498, Error: [Errno 2] No such file or directory: 'data/NBA_API/stats/2021/3498.csv'\n",
      "failed for player id: 3469, Error: [Errno 2] No such file or directory: 'data/NBA_API/stats/2021/3469.csv'\n",
      "failed for player id: 3424, Error: [Errno 2] No such file or directory: 'data/NBA_API/stats/2021/3424.csv'\n",
      "failed for player id: 3418, Error: [Errno 2] No such file or directory: 'data/NBA_API/stats/2021/3418.csv'\n",
      "failed for player id: 3482, Error: [Errno 2] No such file or directory: 'data/NBA_API/stats/2021/3482.csv'\n",
      "failed for player id: 3450, Error: [Errno 2] No such file or directory: 'data/NBA_API/stats/2021/3450.csv'\n",
      "failed for player id: 2590, Error: list index out of range\n",
      "failed for player id: 3452, Error: [Errno 2] No such file or directory: 'data/NBA_API/stats/2021/3452.csv'\n",
      "failed for player id: 3464, Error: [Errno 2] No such file or directory: 'data/NBA_API/stats/2021/3464.csv'\n",
      "failed for player id: 3626, Error: [Errno 2] No such file or directory: 'data/NBA_API/stats/2021/3626.csv'\n",
      "failed for player id: 3488, Error: [Errno 2] No such file or directory: 'data/NBA_API/stats/2021/3488.csv'\n",
      "failed for player id: 3425, Error: [Errno 2] No such file or directory: 'data/NBA_API/stats/2021/3425.csv'\n",
      "failed for player id: 3442, Error: [Errno 2] No such file or directory: 'data/NBA_API/stats/2021/3442.csv'\n",
      "failed for player id: 3501, Error: [Errno 2] No such file or directory: 'data/NBA_API/stats/2021/3501.csv'\n",
      "failed for player id: 3441, Error: [Errno 2] No such file or directory: 'data/NBA_API/stats/2021/3441.csv'\n"
     ]
    }
   ],
   "source": [
    "import numpy as np\n",
    "df_factors = []\n",
    "\n",
    "def calc_fp(scores):\n",
    "    multiplier = np.array([1, .5, 1.25, 1.5, 2, 2, -.5, 1.5, 3])\n",
    "    return np.dot(multiplier, scores)\n",
    "\n",
    "for id in tqdm(test.draft.api_id):\n",
    "    try:\n",
    "        data = pd.read_csv(f'data/NBA_API/stats/2021/{id}.csv')\n",
    "        data = data.drop(['pos', 'comment'], axis=1).dropna()\n",
    "\n",
    "        data['min'] = data['min'].str.split(':').apply(lambda x: float(f\"{x[0]}.{str((int(x[1])/60)).split('.')[-1]}\"))\n",
    "        factors = pd.DataFrame(data.mean().rename(id)).T.reset_index()\n",
    "        factors = factors.rename({'index' : 'api_id'}, axis = 1)\n",
    "        factors['dd'] = ((data[['points', 'totReb', 'assists', 'steals', 'blocks']] > 10).sum(axis=1) >= 2).astype(int).mean()\n",
    "        factors['td'] = ((data[['points', 'totReb', 'assists', 'steals', 'blocks']] > 10).sum(axis=1) >= 3).astype(int).mean()\n",
    "\n",
    "        fp_cols = ['points', 'tpm', 'totReb', 'assists', 'steals', 'blocks', 'turnovers', 'dd', 'td']\n",
    "        factors['fp'] = calc_fp(np.array(factors[fp_cols]).reshape(-1, 1))\n",
    "\n",
    "        df_factors.append(factors)\n",
    "    except Exception as e:\n",
    "        print(f'failed for player id: {id}, Error: {e}')\n",
    "        continue\n",
    "    # test.load_player_stats(params = {'id': id, 'season': 2021})\n",
    "df_factors = pd.concat(df_factors)\n",
    "df_factors = pd.merge(test.draft.reset_index(), df_factors, left_on = 'api_id', right_on = 'api_id').rename({'index': 'Name'}, axis = 1)"
   ],
   "metadata": {
    "collapsed": false
   }
  },
  {
   "cell_type": "code",
   "execution_count": 512,
   "outputs": [
    {
     "data": {
      "text/plain": "           Name Position       ID                      Time   Salary Team  \\\n0  nikola jokic        C   830650 2022-10-11 01:00:00+00:00  10100.0  DEN   \n1   joel embiid        C   794508 2022-10-10 23:00:00+00:00   9900.0  PHI   \n2  james harden    PG/SG   395388 2022-10-10 23:00:00+00:00   9600.0  PHI   \n3   lamelo ball       PG  1257420 2022-10-10 23:00:00+00:00   9200.0  CHA   \n4  devin booker    PG/SG   845564 2022-10-11 01:00:00+00:00   9100.0  PHX   \n\n   Opp  api_id     points        min  ...     totReb   assists    pFouls  \\\n0  PHX     279  26.404762  32.617063  ...  13.392857  7.595238  2.607143   \n1  CLE     159  29.101266  33.744726  ...  11.265823  3.911392  2.721519   \n2  CLE     216  20.609756  36.346138  ...   7.060976  9.658537  2.292683   \n3  WAS    2566  19.548780  31.268089  ...   6.439024  7.365854  3.060976   \n4  DEN      64  25.204819  33.230924  ...   4.795181  4.530120  2.518072   \n\n     steals  turnovers    blocks  plusMinus        dd        td         fp  \n0  1.428571   3.702381  0.869048   4.869048  0.761905  0.119048  59.431548  \n1  1.012658   3.088608  1.291139   4.835443  0.556962  0.000000  53.601266  \n2  1.134146   4.231707  0.536585   2.317073  0.426829  0.048780  47.039634  \n3  1.548780   3.146341  0.365854   0.731707  0.231707  0.024390  42.737805  \n4  1.048193   2.433735  0.361446   5.554217  0.024096  0.000000  40.933735  \n\n[5 rows x 31 columns]",
      "text/html": "<div>\n<style scoped>\n    .dataframe tbody tr th:only-of-type {\n        vertical-align: middle;\n    }\n\n    .dataframe tbody tr th {\n        vertical-align: top;\n    }\n\n    .dataframe thead th {\n        text-align: right;\n    }\n</style>\n<table border=\"1\" class=\"dataframe\">\n  <thead>\n    <tr style=\"text-align: right;\">\n      <th></th>\n      <th>Name</th>\n      <th>Position</th>\n      <th>ID</th>\n      <th>Time</th>\n      <th>Salary</th>\n      <th>Team</th>\n      <th>Opp</th>\n      <th>api_id</th>\n      <th>points</th>\n      <th>min</th>\n      <th>...</th>\n      <th>totReb</th>\n      <th>assists</th>\n      <th>pFouls</th>\n      <th>steals</th>\n      <th>turnovers</th>\n      <th>blocks</th>\n      <th>plusMinus</th>\n      <th>dd</th>\n      <th>td</th>\n      <th>fp</th>\n    </tr>\n  </thead>\n  <tbody>\n    <tr>\n      <th>0</th>\n      <td>nikola jokic</td>\n      <td>C</td>\n      <td>830650</td>\n      <td>2022-10-11 01:00:00+00:00</td>\n      <td>10100.0</td>\n      <td>DEN</td>\n      <td>PHX</td>\n      <td>279</td>\n      <td>26.404762</td>\n      <td>32.617063</td>\n      <td>...</td>\n      <td>13.392857</td>\n      <td>7.595238</td>\n      <td>2.607143</td>\n      <td>1.428571</td>\n      <td>3.702381</td>\n      <td>0.869048</td>\n      <td>4.869048</td>\n      <td>0.761905</td>\n      <td>0.119048</td>\n      <td>59.431548</td>\n    </tr>\n    <tr>\n      <th>1</th>\n      <td>joel embiid</td>\n      <td>C</td>\n      <td>794508</td>\n      <td>2022-10-10 23:00:00+00:00</td>\n      <td>9900.0</td>\n      <td>PHI</td>\n      <td>CLE</td>\n      <td>159</td>\n      <td>29.101266</td>\n      <td>33.744726</td>\n      <td>...</td>\n      <td>11.265823</td>\n      <td>3.911392</td>\n      <td>2.721519</td>\n      <td>1.012658</td>\n      <td>3.088608</td>\n      <td>1.291139</td>\n      <td>4.835443</td>\n      <td>0.556962</td>\n      <td>0.000000</td>\n      <td>53.601266</td>\n    </tr>\n    <tr>\n      <th>2</th>\n      <td>james harden</td>\n      <td>PG/SG</td>\n      <td>395388</td>\n      <td>2022-10-10 23:00:00+00:00</td>\n      <td>9600.0</td>\n      <td>PHI</td>\n      <td>CLE</td>\n      <td>216</td>\n      <td>20.609756</td>\n      <td>36.346138</td>\n      <td>...</td>\n      <td>7.060976</td>\n      <td>9.658537</td>\n      <td>2.292683</td>\n      <td>1.134146</td>\n      <td>4.231707</td>\n      <td>0.536585</td>\n      <td>2.317073</td>\n      <td>0.426829</td>\n      <td>0.048780</td>\n      <td>47.039634</td>\n    </tr>\n    <tr>\n      <th>3</th>\n      <td>lamelo ball</td>\n      <td>PG</td>\n      <td>1257420</td>\n      <td>2022-10-10 23:00:00+00:00</td>\n      <td>9200.0</td>\n      <td>CHA</td>\n      <td>WAS</td>\n      <td>2566</td>\n      <td>19.548780</td>\n      <td>31.268089</td>\n      <td>...</td>\n      <td>6.439024</td>\n      <td>7.365854</td>\n      <td>3.060976</td>\n      <td>1.548780</td>\n      <td>3.146341</td>\n      <td>0.365854</td>\n      <td>0.731707</td>\n      <td>0.231707</td>\n      <td>0.024390</td>\n      <td>42.737805</td>\n    </tr>\n    <tr>\n      <th>4</th>\n      <td>devin booker</td>\n      <td>PG/SG</td>\n      <td>845564</td>\n      <td>2022-10-11 01:00:00+00:00</td>\n      <td>9100.0</td>\n      <td>PHX</td>\n      <td>DEN</td>\n      <td>64</td>\n      <td>25.204819</td>\n      <td>33.230924</td>\n      <td>...</td>\n      <td>4.795181</td>\n      <td>4.530120</td>\n      <td>2.518072</td>\n      <td>1.048193</td>\n      <td>2.433735</td>\n      <td>0.361446</td>\n      <td>5.554217</td>\n      <td>0.024096</td>\n      <td>0.000000</td>\n      <td>40.933735</td>\n    </tr>\n  </tbody>\n</table>\n<p>5 rows × 31 columns</p>\n</div>"
     },
     "execution_count": 512,
     "metadata": {},
     "output_type": "execute_result"
    }
   ],
   "source": [
    "df_factors.head()"
   ],
   "metadata": {
    "collapsed": false
   }
  },
  {
   "cell_type": "code",
   "execution_count": 538,
   "outputs": [],
   "source": [
    "df_optimize = df_factors[['Name', 'Position', 'Salary', 'fp']]\n",
    "df_optimize.Position = df_optimize.Position.str.split('/')\n",
    "\n",
    "positions = ['PG', 'SG', 'SF', 'PF', 'C']\n",
    "for pos in positions:\n",
    "    df_optimize[pos] = df_optimize['Position'].apply(lambda x: 1 if pos in x else 0)\n",
    "\n",
    "df_optimize['G'] = df_optimize.Position.apply(lambda x: 1 if ('PG' in x or 'SG' in x) else 0 )\n",
    "df_optimize['F'] = df_optimize.Position.apply(lambda x: 1 if ('SF' in x or 'PF' in x) else 0 )\n",
    "df_optimize['UTIL'] = 1\n"
   ],
   "metadata": {
    "collapsed": false
   }
  },
  {
   "cell_type": "code",
   "execution_count": 539,
   "outputs": [
    {
     "data": {
      "text/plain": "               Name  Position   Salary         fp  PG  SG  SF  PF  C  G  F  \\\n0      nikola jokic       [C]  10100.0  59.431548   0   0   0   0  1  0  0   \n1       joel embiid       [C]   9900.0  53.601266   0   0   0   0  1  0  0   \n2      james harden  [PG, SG]   9600.0  47.039634   1   1   0   0  0  1  0   \n3       lamelo ball      [PG]   9200.0  42.737805   1   0   0   0  0  1  0   \n4      devin booker  [PG, SG]   9100.0  40.933735   1   1   0   0  0  1  0   \n..              ...       ...      ...        ...  ..  ..  ..  .. .. .. ..   \n99   mamadi diakite      [PF]   3000.0  11.294118   0   0   0   1  0  0  1   \n100     nate hinton      [SF]   3000.0   1.525000   0   0   1   0  0  0  1   \n101     josh okogie  [SG, SF]   3000.0   4.640625   0   1   1   0  0  1  1   \n102   ish wainright      [PF]   3000.0   3.615385   0   0   0   1  0  0  1   \n103   vlatko cancar      [SF]   3000.0   7.080357   0   0   1   0  0  0  1   \n\n     UTIL  \n0       1  \n1       1  \n2       1  \n3       1  \n4       1  \n..    ...  \n99      1  \n100     1  \n101     1  \n102     1  \n103     1  \n\n[104 rows x 12 columns]",
      "text/html": "<div>\n<style scoped>\n    .dataframe tbody tr th:only-of-type {\n        vertical-align: middle;\n    }\n\n    .dataframe tbody tr th {\n        vertical-align: top;\n    }\n\n    .dataframe thead th {\n        text-align: right;\n    }\n</style>\n<table border=\"1\" class=\"dataframe\">\n  <thead>\n    <tr style=\"text-align: right;\">\n      <th></th>\n      <th>Name</th>\n      <th>Position</th>\n      <th>Salary</th>\n      <th>fp</th>\n      <th>PG</th>\n      <th>SG</th>\n      <th>SF</th>\n      <th>PF</th>\n      <th>C</th>\n      <th>G</th>\n      <th>F</th>\n      <th>UTIL</th>\n    </tr>\n  </thead>\n  <tbody>\n    <tr>\n      <th>0</th>\n      <td>nikola jokic</td>\n      <td>[C]</td>\n      <td>10100.0</td>\n      <td>59.431548</td>\n      <td>0</td>\n      <td>0</td>\n      <td>0</td>\n      <td>0</td>\n      <td>1</td>\n      <td>0</td>\n      <td>0</td>\n      <td>1</td>\n    </tr>\n    <tr>\n      <th>1</th>\n      <td>joel embiid</td>\n      <td>[C]</td>\n      <td>9900.0</td>\n      <td>53.601266</td>\n      <td>0</td>\n      <td>0</td>\n      <td>0</td>\n      <td>0</td>\n      <td>1</td>\n      <td>0</td>\n      <td>0</td>\n      <td>1</td>\n    </tr>\n    <tr>\n      <th>2</th>\n      <td>james harden</td>\n      <td>[PG, SG]</td>\n      <td>9600.0</td>\n      <td>47.039634</td>\n      <td>1</td>\n      <td>1</td>\n      <td>0</td>\n      <td>0</td>\n      <td>0</td>\n      <td>1</td>\n      <td>0</td>\n      <td>1</td>\n    </tr>\n    <tr>\n      <th>3</th>\n      <td>lamelo ball</td>\n      <td>[PG]</td>\n      <td>9200.0</td>\n      <td>42.737805</td>\n      <td>1</td>\n      <td>0</td>\n      <td>0</td>\n      <td>0</td>\n      <td>0</td>\n      <td>1</td>\n      <td>0</td>\n      <td>1</td>\n    </tr>\n    <tr>\n      <th>4</th>\n      <td>devin booker</td>\n      <td>[PG, SG]</td>\n      <td>9100.0</td>\n      <td>40.933735</td>\n      <td>1</td>\n      <td>1</td>\n      <td>0</td>\n      <td>0</td>\n      <td>0</td>\n      <td>1</td>\n      <td>0</td>\n      <td>1</td>\n    </tr>\n    <tr>\n      <th>...</th>\n      <td>...</td>\n      <td>...</td>\n      <td>...</td>\n      <td>...</td>\n      <td>...</td>\n      <td>...</td>\n      <td>...</td>\n      <td>...</td>\n      <td>...</td>\n      <td>...</td>\n      <td>...</td>\n      <td>...</td>\n    </tr>\n    <tr>\n      <th>99</th>\n      <td>mamadi diakite</td>\n      <td>[PF]</td>\n      <td>3000.0</td>\n      <td>11.294118</td>\n      <td>0</td>\n      <td>0</td>\n      <td>0</td>\n      <td>1</td>\n      <td>0</td>\n      <td>0</td>\n      <td>1</td>\n      <td>1</td>\n    </tr>\n    <tr>\n      <th>100</th>\n      <td>nate hinton</td>\n      <td>[SF]</td>\n      <td>3000.0</td>\n      <td>1.525000</td>\n      <td>0</td>\n      <td>0</td>\n      <td>1</td>\n      <td>0</td>\n      <td>0</td>\n      <td>0</td>\n      <td>1</td>\n      <td>1</td>\n    </tr>\n    <tr>\n      <th>101</th>\n      <td>josh okogie</td>\n      <td>[SG, SF]</td>\n      <td>3000.0</td>\n      <td>4.640625</td>\n      <td>0</td>\n      <td>1</td>\n      <td>1</td>\n      <td>0</td>\n      <td>0</td>\n      <td>1</td>\n      <td>1</td>\n      <td>1</td>\n    </tr>\n    <tr>\n      <th>102</th>\n      <td>ish wainright</td>\n      <td>[PF]</td>\n      <td>3000.0</td>\n      <td>3.615385</td>\n      <td>0</td>\n      <td>0</td>\n      <td>0</td>\n      <td>1</td>\n      <td>0</td>\n      <td>0</td>\n      <td>1</td>\n      <td>1</td>\n    </tr>\n    <tr>\n      <th>103</th>\n      <td>vlatko cancar</td>\n      <td>[SF]</td>\n      <td>3000.0</td>\n      <td>7.080357</td>\n      <td>0</td>\n      <td>0</td>\n      <td>1</td>\n      <td>0</td>\n      <td>0</td>\n      <td>0</td>\n      <td>1</td>\n      <td>1</td>\n    </tr>\n  </tbody>\n</table>\n<p>104 rows × 12 columns</p>\n</div>"
     },
     "execution_count": 539,
     "metadata": {},
     "output_type": "execute_result"
    }
   ],
   "source": [
    "df_optimize"
   ],
   "metadata": {
    "collapsed": false
   }
  },
  {
   "cell_type": "code",
   "execution_count": 576,
   "outputs": [],
   "source": [
    "from pulp import *\n",
    "\n",
    "model = LpProblem(\"daily_fantasy\", LpMaximize)\n",
    "\n",
    "# variable_names = list(df_optimize.columns[-8:])\n",
    "n_players = df_optimize.shape[0]\n",
    "n_positions = 8\n",
    "\n",
    "variable_names = [str(i)+str(j) for j in range(1, n_players+1) for i in range(1, n_positions+1)]\n",
    "#print(variable_names)\n",
    "\n",
    "salary = np.array(df_optimize.Salary)\n",
    "fpoints = np.array(df_optimize.fp).reshape(-1,1)\n",
    "\n",
    "\n",
    "\n",
    "dv = LpVariable.matrix('X', variable_names, cat = \"integer\", lowBound=0, upBound=1)\n",
    "allocation = np.array(dv).reshape(n_players, n_positions)"
   ],
   "metadata": {
    "collapsed": false
   }
  },
  {
   "cell_type": "code",
   "execution_count": 580,
   "outputs": [],
   "source": [
    "obj_func = lpDot(allocation.T, fpoints)"
   ],
   "metadata": {
    "collapsed": false
   }
  },
  {
   "cell_type": "code",
   "execution_count": null,
   "outputs": [],
   "source": [],
   "metadata": {
    "collapsed": false
   }
  }
 ],
 "metadata": {
  "kernelspec": {
   "display_name": "Python 3",
   "language": "python",
   "name": "python3"
  },
  "language_info": {
   "codemirror_mode": {
    "name": "ipython",
    "version": 2
   },
   "file_extension": ".py",
   "mimetype": "text/x-python",
   "name": "python",
   "nbconvert_exporter": "python",
   "pygments_lexer": "ipython2",
   "version": "2.7.6"
  }
 },
 "nbformat": 4,
 "nbformat_minor": 0
}
