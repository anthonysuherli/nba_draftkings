{
 "cells": [
  {
   "cell_type": "code",
   "execution_count": 1,
   "outputs": [],
   "source": [
    "import json\n",
    "import os\n",
    "import pandas as pd\n",
    "import warnings\n",
    "import datetime as dt\n",
    "warnings.filterwarnings('ignore')\n",
    "\n",
    "from tqdm.notebook import  tqdm\n",
    "\n",
    "with open('config.txt', 'r') as f:\n",
    "    names = f.read().split('\\n')\n",
    "\n",
    "def process_roster(path):\n",
    "    roster = pd.read_csv(path)\n",
    "    roster['Game'] = roster.Game.str.split('@').apply(lambda x: set([y.strip() for y in x]))\n",
    "    roster['Name'] = roster.Name\n",
    "    roster['TeamAbbrev'] = roster.TeamAbbrev.apply(lambda x: set([x]))\n",
    "    roster['OppAbbrev'] = roster.Game - roster.TeamAbbrev\n",
    "    roster['Team'] = roster.TeamAbbrev.apply(lambda x: list(x)[0])\n",
    "    roster['Opp'] = roster.OppAbbrev.apply(lambda x: list(x)[0])\n",
    "    roster.Time = pd.to_datetime(roster.Time)\n",
    "    roster.drop(['TeamAbbrev','OppAbbrev', 'Game'], axis = 1, inplace=True)\n",
    "    return roster[['Name','Position', 'ID', 'Time', 'Salary', 'Team', 'Opp']]\n",
    "\n",
    "import requests\n",
    "\n",
    "def url_join(*args):\n",
    "    return '/'.join(args)\n",
    "\n",
    "class draftProcessor:\n",
    "    def __init__(self, draft, load_ids = True):\n",
    "        self.local_dir = 'data/NBA_API'\n",
    "        self.base_url = \"https://api-nba-v1.p.rapidapi.com\"\n",
    "        self.headers = {\n",
    "            'x-rapidapi-host': \"api-nba-v1.p.rapidapi.com\",\n",
    "            'x-rapidapi-key': \"3c3966d785msh9c9c037d21ff8a9p1af469jsn475bf58bcbe1\"\n",
    "        }\n",
    "\n",
    "        self.load_ids = load_ids\n",
    "        self.draft = draft\n",
    "        self.id_mapping = json.load(open(url_join(self.local_dir, 'id_mapping.json'), 'r'))\n",
    "\n",
    "        if self.load_ids:\n",
    "            self.get_player_ids()\n",
    "\n",
    "        self.draft.index = [x.lower() for x in self.draft.index]\n",
    "        self.draft = self.draft.join(pd.DataFrame.from_dict(self.id_mapping, orient='index').rename({0: 'api_id'}, axis = 1))\n",
    "        self.draft.dropna(inplace=True)\n",
    "        self.draft['api_id'] = self.draft['api_id'].astype(int)\n",
    "\n",
    "\n",
    "    def get_player_ids(self):\n",
    "        names = list(self.draft.index)\n",
    "\n",
    "        for name in names:\n",
    "            if name.lower() not in self.id_mapping:\n",
    "                last_name = name.split(' ')[-1]\n",
    "                print(f'id not found for {name}, getting id for {last_name}')\n",
    "                try:\n",
    "                    players = self.get_players({'name': last_name})\n",
    "                except Exception as e:\n",
    "                    print(f'failed. Error Message: {e}')\n",
    "                    continue\n",
    "\n",
    "                if type(players) == dict:\n",
    "                    player_name = players['firstname'] + ' ' + players['lastname']\n",
    "                    self.id_mapping[players[player_name.lower()]] = players['id']\n",
    "                else:\n",
    "                    for player in players:\n",
    "                        player_name = player['firstname'] + ' ' + player['lastname']\n",
    "                        player_id = player['id']\n",
    "                        self.id_mapping[player_name.lower()] = player_id\n",
    "\n",
    "                with open(url_join(self.local_dir, 'id_mapping.json'), 'w') as f:\n",
    "                    json.dump(self.id_mapping,f)\n",
    "            else:\n",
    "                continue\n",
    "\n",
    "    def get_players(self, params):\n",
    "        url = url_join(self.base_url, 'players')\n",
    "        print(url)\n",
    "        resp= requests.get(url, headers = self.headers, params = params).json()\n",
    "        return resp['response']\n",
    "\n",
    "\n",
    "    def load_player_stats(self, params, ret = False):\n",
    "        url = url_join(self.base_url, 'players','statistics')\n",
    "        data_path = url_join(self.local_dir, 'stats', str(params['season']))\n",
    "        params['id'] = int(params['id'])\n",
    "\n",
    "        if f\"{params['id']}.csv\" in os.listdir(data_path):\n",
    "            if ret:\n",
    "                data = pd.read_csv(url_join(data_path, f\"{params['id']}.csv\"))\n",
    "                data['id'] = params['id']\n",
    "            else:\n",
    "                return\n",
    "        else:\n",
    "            print(f\"downloading data for id: {params['id']}\")\n",
    "            try:\n",
    "                data = requests.get(url, headers=headers, params = params).json()\n",
    "                data = pd.DataFrame(data['response']).drop(['team', 'player', 'game'], axis=1)\n",
    "                data.to_csv(url_join(data_path, f\"{params['id']}.csv\"), index = False)\n",
    "            except:\n",
    "                print(f\"failed. n_games = {len(data)}\")\n",
    "                return\n",
    "\n",
    "        if ret:\n",
    "            return data\n"
   ],
   "metadata": {
    "collapsed": false
   }
  },
  {
   "cell_type": "code",
   "execution_count": 12,
   "outputs": [
    {
     "ename": "NameError",
     "evalue": "name 'Client' is not defined",
     "output_type": "error",
     "traceback": [
      "\u001B[0;31m---------------------------------------------------------------------------\u001B[0m",
      "\u001B[0;31mNameError\u001B[0m                                 Traceback (most recent call last)",
      "Input \u001B[0;32mIn [12]\u001B[0m, in \u001B[0;36m<cell line: 1>\u001B[0;34m()\u001B[0m\n\u001B[0;32m----> 1\u001B[0m \u001B[43mget_contests\u001B[49m\u001B[43m(\u001B[49m\u001B[38;5;124;43m'\u001B[39;49m\u001B[38;5;124;43mNBA SINGLE ENTRY $10 DOUBLE UP\u001B[39;49m\u001B[38;5;124;43m'\u001B[39;49m\u001B[43m)\u001B[49m\n",
      "Input \u001B[0;32mIn [11]\u001B[0m, in \u001B[0;36mget_contests\u001B[0;34m(names, date)\u001B[0m\n\u001B[1;32m      1\u001B[0m \u001B[38;5;28;01mdef\u001B[39;00m \u001B[38;5;21mget_contests\u001B[39m(names, date\u001B[38;5;241m=\u001B[39mdt\u001B[38;5;241m.\u001B[39mdatetime\u001B[38;5;241m.\u001B[39mnow()):\n\u001B[0;32m----> 2\u001B[0m     contests \u001B[38;5;241m=\u001B[39m \u001B[43mClient\u001B[49m()\u001B[38;5;241m.\u001B[39mcontests(sport\u001B[38;5;241m=\u001B[39mSport\u001B[38;5;241m.\u001B[39mNBA)\u001B[38;5;241m.\u001B[39mcontests\n\u001B[1;32m      3\u001B[0m     names \u001B[38;5;241m=\u001B[39m [x\u001B[38;5;241m.\u001B[39mlower() \u001B[38;5;28;01mfor\u001B[39;00m x \u001B[38;5;129;01min\u001B[39;00m names]\n\u001B[1;32m      4\u001B[0m     cinfo \u001B[38;5;241m=\u001B[39m {}\n",
      "\u001B[0;31mNameError\u001B[0m: name 'Client' is not defined"
     ]
    }
   ],
   "source": [
    "get_contests('NBA SINGLE ENTRY $10 DOUBLE UP')"
   ],
   "metadata": {
    "collapsed": false
   }
  },
  {
   "cell_type": "code",
   "execution_count": 11,
   "outputs": [],
   "source": [
    "def get_contests(names, date=dt.datetime.now()):\n",
    "    contests = Client().contests(sport=Sport.NBA).contests\n",
    "    names = [x.lower() for x in names]\n",
    "    cinfo = {}\n",
    "    for idx, contest in enumerate(contests):\n",
    "        # contest_start =\n",
    "        # contest_start.replace(tzinfo = et)\n",
    "        if contest.name.lower() in names and contest.starts_at.replace(tzinfo=et) >= date.replace(tzinfo=et):\n",
    "            cinfo[contest.name] = {\n",
    "                'start_time': contest.starts_at,\n",
    "                'id': contest.contest_id,\n",
    "                'draft_id': contest.draft_group_id,\n",
    "                'payout': contest.payout\n",
    "            }\n",
    "    return cinfo"
   ],
   "metadata": {
    "collapsed": false
   }
  },
  {
   "cell_type": "code",
   "execution_count": 3,
   "outputs": [],
   "source": [
    "name = 'NBA $3K AND-ONE [20 ENTRY MAX]'\n",
    "date = dt.datetime.now().strftime('%Y-%m-%d')\n",
    "path = f'data/{name}/{date}.csv'\n",
    "\n",
    "df = process_roster(path).set_index('Name')\n",
    "df.head()\n",
    "\n",
    "\n",
    "test = draftProcessor(df, False)"
   ],
   "metadata": {
    "collapsed": false
   }
  },
  {
   "cell_type": "code",
   "execution_count": 4,
   "outputs": [
    {
     "data": {
      "text/plain": "  0%|          | 0/138 [00:00<?, ?it/s]",
      "application/vnd.jupyter.widget-view+json": {
       "version_major": 2,
       "version_minor": 0,
       "model_id": "165686781b0b4cb1abc0ac8f6e646035"
      }
     },
     "metadata": {},
     "output_type": "display_data"
    },
    {
     "name": "stdout",
     "output_type": "stream",
     "text": [
      "failed for player id: 45, Error: list index out of range\n",
      "failed for player id: 383, Error: Can only use .str accessor with string values!\n",
      "failed for player id: 327, Error: list index out of range\n",
      "failed for player id: 459, Error: list index out of range\n",
      "failed for player id: 317, Error: list index out of range\n",
      "failed for player id: 998, Error: list index out of range\n",
      "failed for player id: 403, Error: list index out of range\n",
      "failed for player id: 1227, Error: [Errno 2] No such file or directory: 'data/NBA_API/stats/2021/1227.csv'\n",
      "failed for player id: 3428, Error: [Errno 2] No such file or directory: 'data/NBA_API/stats/2021/3428.csv'\n",
      "failed for player id: 2242, Error: list index out of range\n",
      "failed for player id: 207, Error: list index out of range\n",
      "failed for player id: 468, Error: Can only use .str accessor with string values!\n",
      "failed for player id: 3453, Error: [Errno 2] No such file or directory: 'data/NBA_API/stats/2021/3453.csv'\n",
      "failed for player id: 3435, Error: [Errno 2] No such file or directory: 'data/NBA_API/stats/2021/3435.csv'\n",
      "failed for player id: 3506, Error: [Errno 2] No such file or directory: 'data/NBA_API/stats/2021/3506.csv'\n",
      "failed for player id: 1447, Error: [Errno 2] No such file or directory: 'data/NBA_API/stats/2021/1447.csv'\n",
      "failed for player id: 3420, Error: [Errno 2] No such file or directory: 'data/NBA_API/stats/2021/3420.csv'\n",
      "failed for player id: 169, Error: list index out of range\n",
      "failed for player id: 3472, Error: [Errno 2] No such file or directory: 'data/NBA_API/stats/2021/3472.csv'\n",
      "failed for player id: 3498, Error: [Errno 2] No such file or directory: 'data/NBA_API/stats/2021/3498.csv'\n",
      "failed for player id: 3469, Error: [Errno 2] No such file or directory: 'data/NBA_API/stats/2021/3469.csv'\n",
      "failed for player id: 3424, Error: [Errno 2] No such file or directory: 'data/NBA_API/stats/2021/3424.csv'\n",
      "failed for player id: 3418, Error: [Errno 2] No such file or directory: 'data/NBA_API/stats/2021/3418.csv'\n",
      "failed for player id: 3482, Error: [Errno 2] No such file or directory: 'data/NBA_API/stats/2021/3482.csv'\n",
      "failed for player id: 3450, Error: [Errno 2] No such file or directory: 'data/NBA_API/stats/2021/3450.csv'\n",
      "failed for player id: 2590, Error: list index out of range\n",
      "failed for player id: 3452, Error: [Errno 2] No such file or directory: 'data/NBA_API/stats/2021/3452.csv'\n",
      "failed for player id: 3464, Error: [Errno 2] No such file or directory: 'data/NBA_API/stats/2021/3464.csv'\n",
      "failed for player id: 3626, Error: [Errno 2] No such file or directory: 'data/NBA_API/stats/2021/3626.csv'\n",
      "failed for player id: 3488, Error: [Errno 2] No such file or directory: 'data/NBA_API/stats/2021/3488.csv'\n",
      "failed for player id: 3425, Error: [Errno 2] No such file or directory: 'data/NBA_API/stats/2021/3425.csv'\n",
      "failed for player id: 3442, Error: [Errno 2] No such file or directory: 'data/NBA_API/stats/2021/3442.csv'\n",
      "failed for player id: 3501, Error: [Errno 2] No such file or directory: 'data/NBA_API/stats/2021/3501.csv'\n",
      "failed for player id: 3441, Error: [Errno 2] No such file or directory: 'data/NBA_API/stats/2021/3441.csv'\n"
     ]
    }
   ],
   "source": [
    "import numpy as np\n",
    "df_factors = []\n",
    "\n",
    "def calc_fp(scores):\n",
    "    multiplier = np.array([1, .5, 1.25, 1.5, 2, 2, -.5, 1.5, 3])\n",
    "    return np.dot(multiplier, scores)\n",
    "\n",
    "for id in tqdm(test.draft.api_id):\n",
    "    try:\n",
    "        data = pd.read_csv(f'data/NBA_API/stats/2021/{id}.csv')\n",
    "        data = data.drop(['pos', 'comment'], axis=1).dropna()\n",
    "\n",
    "        data['min'] = data['min'].str.split(':').apply(lambda x: float(f\"{x[0]}.{str((int(x[1])/60)).split('.')[-1]}\"))\n",
    "        factors = pd.DataFrame(data.mean().rename(id)).T.reset_index()\n",
    "        factors = factors.rename({'index' : 'api_id'}, axis = 1)\n",
    "        factors['dd'] = ((data[['points', 'totReb', 'assists', 'steals', 'blocks']] > 10).sum(axis=1) >= 2).astype(int).mean()\n",
    "        factors['td'] = ((data[['points', 'totReb', 'assists', 'steals', 'blocks']] > 10).sum(axis=1) >= 3).astype(int).mean()\n",
    "\n",
    "        fp_cols = ['points', 'tpm', 'totReb', 'assists', 'steals', 'blocks', 'turnovers', 'dd', 'td']\n",
    "        factors['fp'] = calc_fp(np.array(factors[fp_cols]).reshape(-1, 1))\n",
    "\n",
    "        df_factors.append(factors)\n",
    "    except Exception as e:\n",
    "        print(f'failed for player id: {id}, Error: {e}')\n",
    "        continue\n",
    "    # test.load_player_stats(params = {'id': id, 'season': 2021})\n",
    "df_factors = pd.concat(df_factors)\n",
    "df_factors = pd.merge(test.draft.reset_index(), df_factors, left_on = 'api_id', right_on = 'api_id').rename({'index': 'Name'}, axis = 1)"
   ],
   "metadata": {
    "collapsed": false
   }
  },
  {
   "cell_type": "code",
   "execution_count": 5,
   "outputs": [
    {
     "data": {
      "text/plain": "           Name Position       ID                      Time   Salary Team  \\\n0  nikola jokic        C   830650 2022-10-11 01:00:00+00:00  10100.0  DEN   \n1   joel embiid        C   794508 2022-10-10 23:00:00+00:00   9900.0  PHI   \n2  james harden    PG/SG   395388 2022-10-10 23:00:00+00:00   9600.0  PHI   \n3   lamelo ball       PG  1257420 2022-10-10 23:00:00+00:00   9200.0  CHA   \n4  devin booker    PG/SG   845564 2022-10-11 01:00:00+00:00   9100.0  PHX   \n\n   Opp  api_id     points        min  ...     totReb   assists    pFouls  \\\n0  PHX     279  26.404762  32.617063  ...  13.392857  7.595238  2.607143   \n1  CLE     159  29.101266  33.744726  ...  11.265823  3.911392  2.721519   \n2  CLE     216  20.609756  36.346138  ...   7.060976  9.658537  2.292683   \n3  WAS    2566  19.548780  31.268089  ...   6.439024  7.365854  3.060976   \n4  DEN      64  25.204819  33.230924  ...   4.795181  4.530120  2.518072   \n\n     steals  turnovers    blocks  plusMinus        dd        td         fp  \n0  1.428571   3.702381  0.869048   4.869048  0.761905  0.119048  59.431548  \n1  1.012658   3.088608  1.291139   4.835443  0.556962  0.000000  53.601266  \n2  1.134146   4.231707  0.536585   2.317073  0.426829  0.048780  47.039634  \n3  1.548780   3.146341  0.365854   0.731707  0.231707  0.024390  42.737805  \n4  1.048193   2.433735  0.361446   5.554217  0.024096  0.000000  40.933735  \n\n[5 rows x 31 columns]",
      "text/html": "<div>\n<style scoped>\n    .dataframe tbody tr th:only-of-type {\n        vertical-align: middle;\n    }\n\n    .dataframe tbody tr th {\n        vertical-align: top;\n    }\n\n    .dataframe thead th {\n        text-align: right;\n    }\n</style>\n<table border=\"1\" class=\"dataframe\">\n  <thead>\n    <tr style=\"text-align: right;\">\n      <th></th>\n      <th>Name</th>\n      <th>Position</th>\n      <th>ID</th>\n      <th>Time</th>\n      <th>Salary</th>\n      <th>Team</th>\n      <th>Opp</th>\n      <th>api_id</th>\n      <th>points</th>\n      <th>min</th>\n      <th>...</th>\n      <th>totReb</th>\n      <th>assists</th>\n      <th>pFouls</th>\n      <th>steals</th>\n      <th>turnovers</th>\n      <th>blocks</th>\n      <th>plusMinus</th>\n      <th>dd</th>\n      <th>td</th>\n      <th>fp</th>\n    </tr>\n  </thead>\n  <tbody>\n    <tr>\n      <th>0</th>\n      <td>nikola jokic</td>\n      <td>C</td>\n      <td>830650</td>\n      <td>2022-10-11 01:00:00+00:00</td>\n      <td>10100.0</td>\n      <td>DEN</td>\n      <td>PHX</td>\n      <td>279</td>\n      <td>26.404762</td>\n      <td>32.617063</td>\n      <td>...</td>\n      <td>13.392857</td>\n      <td>7.595238</td>\n      <td>2.607143</td>\n      <td>1.428571</td>\n      <td>3.702381</td>\n      <td>0.869048</td>\n      <td>4.869048</td>\n      <td>0.761905</td>\n      <td>0.119048</td>\n      <td>59.431548</td>\n    </tr>\n    <tr>\n      <th>1</th>\n      <td>joel embiid</td>\n      <td>C</td>\n      <td>794508</td>\n      <td>2022-10-10 23:00:00+00:00</td>\n      <td>9900.0</td>\n      <td>PHI</td>\n      <td>CLE</td>\n      <td>159</td>\n      <td>29.101266</td>\n      <td>33.744726</td>\n      <td>...</td>\n      <td>11.265823</td>\n      <td>3.911392</td>\n      <td>2.721519</td>\n      <td>1.012658</td>\n      <td>3.088608</td>\n      <td>1.291139</td>\n      <td>4.835443</td>\n      <td>0.556962</td>\n      <td>0.000000</td>\n      <td>53.601266</td>\n    </tr>\n    <tr>\n      <th>2</th>\n      <td>james harden</td>\n      <td>PG/SG</td>\n      <td>395388</td>\n      <td>2022-10-10 23:00:00+00:00</td>\n      <td>9600.0</td>\n      <td>PHI</td>\n      <td>CLE</td>\n      <td>216</td>\n      <td>20.609756</td>\n      <td>36.346138</td>\n      <td>...</td>\n      <td>7.060976</td>\n      <td>9.658537</td>\n      <td>2.292683</td>\n      <td>1.134146</td>\n      <td>4.231707</td>\n      <td>0.536585</td>\n      <td>2.317073</td>\n      <td>0.426829</td>\n      <td>0.048780</td>\n      <td>47.039634</td>\n    </tr>\n    <tr>\n      <th>3</th>\n      <td>lamelo ball</td>\n      <td>PG</td>\n      <td>1257420</td>\n      <td>2022-10-10 23:00:00+00:00</td>\n      <td>9200.0</td>\n      <td>CHA</td>\n      <td>WAS</td>\n      <td>2566</td>\n      <td>19.548780</td>\n      <td>31.268089</td>\n      <td>...</td>\n      <td>6.439024</td>\n      <td>7.365854</td>\n      <td>3.060976</td>\n      <td>1.548780</td>\n      <td>3.146341</td>\n      <td>0.365854</td>\n      <td>0.731707</td>\n      <td>0.231707</td>\n      <td>0.024390</td>\n      <td>42.737805</td>\n    </tr>\n    <tr>\n      <th>4</th>\n      <td>devin booker</td>\n      <td>PG/SG</td>\n      <td>845564</td>\n      <td>2022-10-11 01:00:00+00:00</td>\n      <td>9100.0</td>\n      <td>PHX</td>\n      <td>DEN</td>\n      <td>64</td>\n      <td>25.204819</td>\n      <td>33.230924</td>\n      <td>...</td>\n      <td>4.795181</td>\n      <td>4.530120</td>\n      <td>2.518072</td>\n      <td>1.048193</td>\n      <td>2.433735</td>\n      <td>0.361446</td>\n      <td>5.554217</td>\n      <td>0.024096</td>\n      <td>0.000000</td>\n      <td>40.933735</td>\n    </tr>\n  </tbody>\n</table>\n<p>5 rows × 31 columns</p>\n</div>"
     },
     "execution_count": 5,
     "metadata": {},
     "output_type": "execute_result"
    }
   ],
   "source": [
    "df_factors.head()"
   ],
   "metadata": {
    "collapsed": false
   }
  },
  {
   "cell_type": "code",
   "execution_count": 6,
   "outputs": [],
   "source": [
    "df_optimize = df_factors[['Name', 'Position', 'Salary', 'fp']]\n",
    "df_optimize.Position = df_optimize.Position.str.split('/')\n",
    "\n",
    "positions = ['PG', 'SG', 'SF', 'PF', 'C']\n",
    "for pos in positions:\n",
    "    df_optimize[pos] = df_optimize['Position'].apply(lambda x: 1 if pos in x else 0)\n",
    "\n",
    "df_optimize['G'] = df_optimize.Position.apply(lambda x: 1 if ('PG' in x or 'SG' in x) else 0 )\n",
    "df_optimize['F'] = df_optimize.Position.apply(lambda x: 1 if ('SF' in x or 'PF' in x) else 0 )\n",
    "df_optimize['UTIL'] = 1\n"
   ],
   "metadata": {
    "collapsed": false
   }
  },
  {
   "cell_type": "code",
   "execution_count": 7,
   "outputs": [
    {
     "data": {
      "text/plain": "               Name  Position   Salary         fp  PG  SG  SF  PF  C  G  F  \\\n0      nikola jokic       [C]  10100.0  59.431548   0   0   0   0  1  0  0   \n1       joel embiid       [C]   9900.0  53.601266   0   0   0   0  1  0  0   \n2      james harden  [PG, SG]   9600.0  47.039634   1   1   0   0  0  1  0   \n3       lamelo ball      [PG]   9200.0  42.737805   1   0   0   0  0  1  0   \n4      devin booker  [PG, SG]   9100.0  40.933735   1   1   0   0  0  1  0   \n..              ...       ...      ...        ...  ..  ..  ..  .. .. .. ..   \n99   mamadi diakite      [PF]   3000.0  11.294118   0   0   0   1  0  0  1   \n100     nate hinton      [SF]   3000.0   1.525000   0   0   1   0  0  0  1   \n101     josh okogie  [SG, SF]   3000.0   4.640625   0   1   1   0  0  1  1   \n102   ish wainright      [PF]   3000.0   3.615385   0   0   0   1  0  0  1   \n103   vlatko cancar      [SF]   3000.0   7.080357   0   0   1   0  0  0  1   \n\n     UTIL  \n0       1  \n1       1  \n2       1  \n3       1  \n4       1  \n..    ...  \n99      1  \n100     1  \n101     1  \n102     1  \n103     1  \n\n[104 rows x 12 columns]",
      "text/html": "<div>\n<style scoped>\n    .dataframe tbody tr th:only-of-type {\n        vertical-align: middle;\n    }\n\n    .dataframe tbody tr th {\n        vertical-align: top;\n    }\n\n    .dataframe thead th {\n        text-align: right;\n    }\n</style>\n<table border=\"1\" class=\"dataframe\">\n  <thead>\n    <tr style=\"text-align: right;\">\n      <th></th>\n      <th>Name</th>\n      <th>Position</th>\n      <th>Salary</th>\n      <th>fp</th>\n      <th>PG</th>\n      <th>SG</th>\n      <th>SF</th>\n      <th>PF</th>\n      <th>C</th>\n      <th>G</th>\n      <th>F</th>\n      <th>UTIL</th>\n    </tr>\n  </thead>\n  <tbody>\n    <tr>\n      <th>0</th>\n      <td>nikola jokic</td>\n      <td>[C]</td>\n      <td>10100.0</td>\n      <td>59.431548</td>\n      <td>0</td>\n      <td>0</td>\n      <td>0</td>\n      <td>0</td>\n      <td>1</td>\n      <td>0</td>\n      <td>0</td>\n      <td>1</td>\n    </tr>\n    <tr>\n      <th>1</th>\n      <td>joel embiid</td>\n      <td>[C]</td>\n      <td>9900.0</td>\n      <td>53.601266</td>\n      <td>0</td>\n      <td>0</td>\n      <td>0</td>\n      <td>0</td>\n      <td>1</td>\n      <td>0</td>\n      <td>0</td>\n      <td>1</td>\n    </tr>\n    <tr>\n      <th>2</th>\n      <td>james harden</td>\n      <td>[PG, SG]</td>\n      <td>9600.0</td>\n      <td>47.039634</td>\n      <td>1</td>\n      <td>1</td>\n      <td>0</td>\n      <td>0</td>\n      <td>0</td>\n      <td>1</td>\n      <td>0</td>\n      <td>1</td>\n    </tr>\n    <tr>\n      <th>3</th>\n      <td>lamelo ball</td>\n      <td>[PG]</td>\n      <td>9200.0</td>\n      <td>42.737805</td>\n      <td>1</td>\n      <td>0</td>\n      <td>0</td>\n      <td>0</td>\n      <td>0</td>\n      <td>1</td>\n      <td>0</td>\n      <td>1</td>\n    </tr>\n    <tr>\n      <th>4</th>\n      <td>devin booker</td>\n      <td>[PG, SG]</td>\n      <td>9100.0</td>\n      <td>40.933735</td>\n      <td>1</td>\n      <td>1</td>\n      <td>0</td>\n      <td>0</td>\n      <td>0</td>\n      <td>1</td>\n      <td>0</td>\n      <td>1</td>\n    </tr>\n    <tr>\n      <th>...</th>\n      <td>...</td>\n      <td>...</td>\n      <td>...</td>\n      <td>...</td>\n      <td>...</td>\n      <td>...</td>\n      <td>...</td>\n      <td>...</td>\n      <td>...</td>\n      <td>...</td>\n      <td>...</td>\n      <td>...</td>\n    </tr>\n    <tr>\n      <th>99</th>\n      <td>mamadi diakite</td>\n      <td>[PF]</td>\n      <td>3000.0</td>\n      <td>11.294118</td>\n      <td>0</td>\n      <td>0</td>\n      <td>0</td>\n      <td>1</td>\n      <td>0</td>\n      <td>0</td>\n      <td>1</td>\n      <td>1</td>\n    </tr>\n    <tr>\n      <th>100</th>\n      <td>nate hinton</td>\n      <td>[SF]</td>\n      <td>3000.0</td>\n      <td>1.525000</td>\n      <td>0</td>\n      <td>0</td>\n      <td>1</td>\n      <td>0</td>\n      <td>0</td>\n      <td>0</td>\n      <td>1</td>\n      <td>1</td>\n    </tr>\n    <tr>\n      <th>101</th>\n      <td>josh okogie</td>\n      <td>[SG, SF]</td>\n      <td>3000.0</td>\n      <td>4.640625</td>\n      <td>0</td>\n      <td>1</td>\n      <td>1</td>\n      <td>0</td>\n      <td>0</td>\n      <td>1</td>\n      <td>1</td>\n      <td>1</td>\n    </tr>\n    <tr>\n      <th>102</th>\n      <td>ish wainright</td>\n      <td>[PF]</td>\n      <td>3000.0</td>\n      <td>3.615385</td>\n      <td>0</td>\n      <td>0</td>\n      <td>0</td>\n      <td>1</td>\n      <td>0</td>\n      <td>0</td>\n      <td>1</td>\n      <td>1</td>\n    </tr>\n    <tr>\n      <th>103</th>\n      <td>vlatko cancar</td>\n      <td>[SF]</td>\n      <td>3000.0</td>\n      <td>7.080357</td>\n      <td>0</td>\n      <td>0</td>\n      <td>1</td>\n      <td>0</td>\n      <td>0</td>\n      <td>0</td>\n      <td>1</td>\n      <td>1</td>\n    </tr>\n  </tbody>\n</table>\n<p>104 rows × 12 columns</p>\n</div>"
     },
     "execution_count": 7,
     "metadata": {},
     "output_type": "execute_result"
    }
   ],
   "source": [
    "df_optimize"
   ],
   "metadata": {
    "collapsed": false
   }
  },
  {
   "cell_type": "code",
   "execution_count": 10,
   "outputs": [
    {
     "name": "stdout",
     "output_type": "stream",
     "text": [
      "[[X_11 X_21 X_31 X_41 X_51 X_61 X_71 X_81]\n",
      " [X_12 X_22 X_32 X_42 X_52 X_62 X_72 X_82]\n",
      " [X_13 X_23 X_33 X_43 X_53 X_63 X_73 X_83]\n",
      " [X_14 X_24 X_34 X_44 X_54 X_64 X_74 X_84]\n",
      " [X_15 X_25 X_35 X_45 X_55 X_65 X_75 X_85]\n",
      " [X_16 X_26 X_36 X_46 X_56 X_66 X_76 X_86]\n",
      " [X_17 X_27 X_37 X_47 X_57 X_67 X_77 X_87]\n",
      " [X_18 X_28 X_38 X_48 X_58 X_68 X_78 X_88]\n",
      " [X_19 X_29 X_39 X_49 X_59 X_69 X_79 X_89]\n",
      " [X_110 X_210 X_310 X_410 X_510 X_610 X_710 X_810]\n",
      " [X_111 X_211 X_311 X_411 X_511 X_611 X_711 X_811]\n",
      " [X_112 X_212 X_312 X_412 X_512 X_612 X_712 X_812]\n",
      " [X_113 X_213 X_313 X_413 X_513 X_613 X_713 X_813]\n",
      " [X_114 X_214 X_314 X_414 X_514 X_614 X_714 X_814]\n",
      " [X_115 X_215 X_315 X_415 X_515 X_615 X_715 X_815]\n",
      " [X_116 X_216 X_316 X_416 X_516 X_616 X_716 X_816]\n",
      " [X_117 X_217 X_317 X_417 X_517 X_617 X_717 X_817]\n",
      " [X_118 X_218 X_318 X_418 X_518 X_618 X_718 X_818]\n",
      " [X_119 X_219 X_319 X_419 X_519 X_619 X_719 X_819]\n",
      " [X_120 X_220 X_320 X_420 X_520 X_620 X_720 X_820]\n",
      " [X_121 X_221 X_321 X_421 X_521 X_621 X_721 X_821]\n",
      " [X_122 X_222 X_322 X_422 X_522 X_622 X_722 X_822]\n",
      " [X_123 X_223 X_323 X_423 X_523 X_623 X_723 X_823]\n",
      " [X_124 X_224 X_324 X_424 X_524 X_624 X_724 X_824]\n",
      " [X_125 X_225 X_325 X_425 X_525 X_625 X_725 X_825]\n",
      " [X_126 X_226 X_326 X_426 X_526 X_626 X_726 X_826]\n",
      " [X_127 X_227 X_327 X_427 X_527 X_627 X_727 X_827]\n",
      " [X_128 X_228 X_328 X_428 X_528 X_628 X_728 X_828]\n",
      " [X_129 X_229 X_329 X_429 X_529 X_629 X_729 X_829]\n",
      " [X_130 X_230 X_330 X_430 X_530 X_630 X_730 X_830]\n",
      " [X_131 X_231 X_331 X_431 X_531 X_631 X_731 X_831]\n",
      " [X_132 X_232 X_332 X_432 X_532 X_632 X_732 X_832]\n",
      " [X_133 X_233 X_333 X_433 X_533 X_633 X_733 X_833]\n",
      " [X_134 X_234 X_334 X_434 X_534 X_634 X_734 X_834]\n",
      " [X_135 X_235 X_335 X_435 X_535 X_635 X_735 X_835]\n",
      " [X_136 X_236 X_336 X_436 X_536 X_636 X_736 X_836]\n",
      " [X_137 X_237 X_337 X_437 X_537 X_637 X_737 X_837]\n",
      " [X_138 X_238 X_338 X_438 X_538 X_638 X_738 X_838]\n",
      " [X_139 X_239 X_339 X_439 X_539 X_639 X_739 X_839]\n",
      " [X_140 X_240 X_340 X_440 X_540 X_640 X_740 X_840]\n",
      " [X_141 X_241 X_341 X_441 X_541 X_641 X_741 X_841]\n",
      " [X_142 X_242 X_342 X_442 X_542 X_642 X_742 X_842]\n",
      " [X_143 X_243 X_343 X_443 X_543 X_643 X_743 X_843]\n",
      " [X_144 X_244 X_344 X_444 X_544 X_644 X_744 X_844]\n",
      " [X_145 X_245 X_345 X_445 X_545 X_645 X_745 X_845]\n",
      " [X_146 X_246 X_346 X_446 X_546 X_646 X_746 X_846]\n",
      " [X_147 X_247 X_347 X_447 X_547 X_647 X_747 X_847]\n",
      " [X_148 X_248 X_348 X_448 X_548 X_648 X_748 X_848]\n",
      " [X_149 X_249 X_349 X_449 X_549 X_649 X_749 X_849]\n",
      " [X_150 X_250 X_350 X_450 X_550 X_650 X_750 X_850]\n",
      " [X_151 X_251 X_351 X_451 X_551 X_651 X_751 X_851]\n",
      " [X_152 X_252 X_352 X_452 X_552 X_652 X_752 X_852]\n",
      " [X_153 X_253 X_353 X_453 X_553 X_653 X_753 X_853]\n",
      " [X_154 X_254 X_354 X_454 X_554 X_654 X_754 X_854]\n",
      " [X_155 X_255 X_355 X_455 X_555 X_655 X_755 X_855]\n",
      " [X_156 X_256 X_356 X_456 X_556 X_656 X_756 X_856]\n",
      " [X_157 X_257 X_357 X_457 X_557 X_657 X_757 X_857]\n",
      " [X_158 X_258 X_358 X_458 X_558 X_658 X_758 X_858]\n",
      " [X_159 X_259 X_359 X_459 X_559 X_659 X_759 X_859]\n",
      " [X_160 X_260 X_360 X_460 X_560 X_660 X_760 X_860]\n",
      " [X_161 X_261 X_361 X_461 X_561 X_661 X_761 X_861]\n",
      " [X_162 X_262 X_362 X_462 X_562 X_662 X_762 X_862]\n",
      " [X_163 X_263 X_363 X_463 X_563 X_663 X_763 X_863]\n",
      " [X_164 X_264 X_364 X_464 X_564 X_664 X_764 X_864]\n",
      " [X_165 X_265 X_365 X_465 X_565 X_665 X_765 X_865]\n",
      " [X_166 X_266 X_366 X_466 X_566 X_666 X_766 X_866]\n",
      " [X_167 X_267 X_367 X_467 X_567 X_667 X_767 X_867]\n",
      " [X_168 X_268 X_368 X_468 X_568 X_668 X_768 X_868]\n",
      " [X_169 X_269 X_369 X_469 X_569 X_669 X_769 X_869]\n",
      " [X_170 X_270 X_370 X_470 X_570 X_670 X_770 X_870]\n",
      " [X_171 X_271 X_371 X_471 X_571 X_671 X_771 X_871]\n",
      " [X_172 X_272 X_372 X_472 X_572 X_672 X_772 X_872]\n",
      " [X_173 X_273 X_373 X_473 X_573 X_673 X_773 X_873]\n",
      " [X_174 X_274 X_374 X_474 X_574 X_674 X_774 X_874]\n",
      " [X_175 X_275 X_375 X_475 X_575 X_675 X_775 X_875]\n",
      " [X_176 X_276 X_376 X_476 X_576 X_676 X_776 X_876]\n",
      " [X_177 X_277 X_377 X_477 X_577 X_677 X_777 X_877]\n",
      " [X_178 X_278 X_378 X_478 X_578 X_678 X_778 X_878]\n",
      " [X_179 X_279 X_379 X_479 X_579 X_679 X_779 X_879]\n",
      " [X_180 X_280 X_380 X_480 X_580 X_680 X_780 X_880]\n",
      " [X_181 X_281 X_381 X_481 X_581 X_681 X_781 X_881]\n",
      " [X_182 X_282 X_382 X_482 X_582 X_682 X_782 X_882]\n",
      " [X_183 X_283 X_383 X_483 X_583 X_683 X_783 X_883]\n",
      " [X_184 X_284 X_384 X_484 X_584 X_684 X_784 X_884]\n",
      " [X_185 X_285 X_385 X_485 X_585 X_685 X_785 X_885]\n",
      " [X_186 X_286 X_386 X_486 X_586 X_686 X_786 X_886]\n",
      " [X_187 X_287 X_387 X_487 X_587 X_687 X_787 X_887]\n",
      " [X_188 X_288 X_388 X_488 X_588 X_688 X_788 X_888]\n",
      " [X_189 X_289 X_389 X_489 X_589 X_689 X_789 X_889]\n",
      " [X_190 X_290 X_390 X_490 X_590 X_690 X_790 X_890]\n",
      " [X_191 X_291 X_391 X_491 X_591 X_691 X_791 X_891]\n",
      " [X_192 X_292 X_392 X_492 X_592 X_692 X_792 X_892]\n",
      " [X_193 X_293 X_393 X_493 X_593 X_693 X_793 X_893]\n",
      " [X_194 X_294 X_394 X_494 X_594 X_694 X_794 X_894]\n",
      " [X_195 X_295 X_395 X_495 X_595 X_695 X_795 X_895]\n",
      " [X_196 X_296 X_396 X_496 X_596 X_696 X_796 X_896]\n",
      " [X_197 X_297 X_397 X_497 X_597 X_697 X_797 X_897]\n",
      " [X_198 X_298 X_398 X_498 X_598 X_698 X_798 X_898]\n",
      " [X_199 X_299 X_399 X_499 X_599 X_699 X_799 X_899]\n",
      " [X_1100 X_2100 X_3100 X_4100 X_5100 X_6100 X_7100 X_8100]\n",
      " [X_1101 X_2101 X_3101 X_4101 X_5101 X_6101 X_7101 X_8101]\n",
      " [X_1102 X_2102 X_3102 X_4102 X_5102 X_6102 X_7102 X_8102]\n",
      " [X_1103 X_2103 X_3103 X_4103 X_5103 X_6103 X_7103 X_8103]\n",
      " [X_1104 X_2104 X_3104 X_4104 X_5104 X_6104 X_7104 X_8104]]\n"
     ]
    }
   ],
   "source": [
    "from pulp import *\n",
    "\n",
    "model = LpProblem(\"daily_fantasy\", LpMaximize)\n",
    "\n",
    "# variable_names = list(df_optimize.columns[-8:])\n",
    "n_players = df_optimize.shape[0]\n",
    "n_positions = 8\n",
    "\n",
    "variable_names = [str(i)+str(j) for j in range(1, n_players+1) for i in range(1, n_positions+1)]\n",
    "#print(variable_names)\n",
    "\n",
    "salary = np.array(df_optimize.Salary)\n",
    "fpoints = np.array(df_optimize.fp).reshape(-1,1)\n",
    "\n",
    "\n",
    "\n",
    "dv = LpVariable.matrix('X', variable_names, cat = \"integer\", lowBound=0, upBound=1)\n",
    "allocation = np.array(dv).reshape(n_players, n_positions)\n",
    "\n",
    "print(allocation)"
   ],
   "metadata": {
    "collapsed": false
   }
  },
  {
   "cell_type": "code",
   "execution_count": 580,
   "outputs": [],
   "source": [
    "obj_func = lpDot(allocation.T, fpoints)"
   ],
   "metadata": {
    "collapsed": false
   }
  },
  {
   "cell_type": "code",
   "execution_count": null,
   "outputs": [],
   "source": [],
   "metadata": {
    "collapsed": false
   }
  }
 ],
 "metadata": {
  "kernelspec": {
   "display_name": "Python 3",
   "language": "python",
   "name": "python3"
  },
  "language_info": {
   "codemirror_mode": {
    "name": "ipython",
    "version": 2
   },
   "file_extension": ".py",
   "mimetype": "text/x-python",
   "name": "python",
   "nbconvert_exporter": "python",
   "pygments_lexer": "ipython2",
   "version": "2.7.6"
  }
 },
 "nbformat": 4,
 "nbformat_minor": 0
}
