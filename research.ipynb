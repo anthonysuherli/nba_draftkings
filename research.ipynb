{
 "cells": [
  {
   "cell_type": "code",
   "execution_count": 2,
   "outputs": [],
   "source": [
    "import warnings\n",
    "warnings.filterwarnings('ignore')\n",
    "\n",
    "import pandas as pd\n",
    "pd.options.display.max_rows = 100\n",
    "pd.options.display.max_columns = 100\n",
    "\n",
    "with open('config.txt', 'r') as f:\n",
    "    names = f.read().split('\\n')\n",
    "\n",
    "def process_roster(path):\n",
    "    roster = pd.read_csv(path)\n",
    "    roster['Game'] = roster.Game.str.split('@').apply(lambda x: set([y.strip() for y in x]))\n",
    "\n",
    "    roster['TeamAbbrev'] = roster.TeamAbbrev.apply(lambda x: set([x]))\n",
    "    roster['OppAbbrev'] = roster.Game - roster.TeamAbbrev\n",
    "    roster['Team'] = roster.TeamAbbrev.apply(lambda x: list(x)[0])\n",
    "    roster['Opp'] = roster.OppAbbrev.apply(lambda x: list(x)[0])\n",
    "\n",
    "    return roster[['Name','Time','Team', 'Opp', 'Position', 'Salary']]\n",
    "\n",
    "\n",
    "import os\n",
    "import requests\n",
    "base_url = 'https://www.balldontlie.io/api/v1'\n",
    "\n",
    "def get_players(args):\n",
    "    if 'id' in args:\n",
    "        resp = requests.get(os.path.join(base_url, 'players', args['id']))\n",
    "        return resp\n",
    "    elif 'npages' in args:\n",
    "            resp_list = []\n",
    "            for page in range(args['npages']):\n",
    "                resp = requests.get(os.path.join(base_url, 'players'),\n",
    "                                    params={\n",
    "                                        'page': page,\n",
    "                                        'per_page': 100\n",
    "                                    })\n",
    "                resp = pd.DataFrame(resp.json()['data'])\n",
    "                resp_list.append(resp)\n",
    "            return pd.concat(resp_list)\n",
    "    else:\n",
    "        resp = requests.get(os.path.join(base_url, 'players'), params=args)\n",
    "        resp = pd.DataFrame(resp.json()['data'])\n",
    "        return resp"
   ],
   "metadata": {
    "collapsed": false
   }
  },
  {
   "cell_type": "code",
   "execution_count": 3,
   "outputs": [],
   "source": [
    "df = process_roster(f'data/NBA $3K AND-ONE [20 ENTRY MAX]/2022-10-10.csv')\n",
    "df = df.set_index('Name')"
   ],
   "metadata": {
    "collapsed": false
   }
  },
  {
   "cell_type": "code",
   "execution_count": 75,
   "outputs": [
    {
     "data": {
      "text/plain": "                                               Time Team  Opp Position  \\\nName                                                                     \nAaron Gordon              2022-10-11 01:00:00+00:00  DEN  PHX       PF   \nBam Adebayo               2022-10-10 23:30:00+00:00  MIA  HOU        C   \nBismack Biyombo           2022-10-11 01:00:00+00:00  PHX  DEN        C   \nBoban Marjanovic          2022-10-10 23:30:00+00:00  HOU  MIA        C   \nBradley Beal              2022-10-10 23:00:00+00:00  WAS  CHA    PG/SG   \nBruce Brown               2022-10-11 01:00:00+00:00  DEN  PHX    SG/SF   \nCameron Payne             2022-10-11 01:00:00+00:00  PHX  DEN       PG   \nCaris LeVert              2022-10-10 23:00:00+00:00  CLE  PHI    SG/SF   \nCedi Osman                2022-10-10 23:00:00+00:00  CLE  PHI    SF/PF   \nChris Paul                2022-10-11 01:00:00+00:00  PHX  DEN       PG   \nDamion Lee                2022-10-11 01:00:00+00:00  PHX  DEN       SG   \nDanuel House Jr.          2022-10-10 23:00:00+00:00  PHI  CLE    SF/PF   \nDario Saric               2022-10-11 01:00:00+00:00  PHX  DEN     PF/C   \nDavon Reed                2022-10-11 01:00:00+00:00  DEN  PHX    SG/SF   \nDe'Anthony Melton         2022-10-10 23:00:00+00:00  PHI  CLE    PG/SG   \nDeAndre Jordan            2022-10-11 01:00:00+00:00  DEN  PHX        C   \nDeandre Ayton             2022-10-11 01:00:00+00:00  PHX  DEN        C   \nDelon Wright              2022-10-10 23:00:00+00:00  WAS  CHA       PG   \nDennis Smith Jr.          2022-10-10 23:00:00+00:00  CHA  WAS       PG   \nDerrick Favors            2022-10-10 23:30:00+00:00  HOU  MIA        C   \nDevin Booker              2022-10-11 01:00:00+00:00  PHX  DEN    PG/SG   \nDewayne Dedmon            2022-10-10 23:30:00+00:00  MIA  HOU        C   \nDonovan Mitchell          2022-10-10 23:00:00+00:00  CLE  PHI    PG/SG   \nDuncan Robinson           2022-10-10 23:30:00+00:00  MIA  HOU    SF/PF   \nEric Gordon               2022-10-10 23:30:00+00:00  HOU  MIA    SG/SF   \nFrank Jackson             2022-10-11 01:00:00+00:00  PHX  DEN       PG   \nFurkan Korkmaz            2022-10-10 23:00:00+00:00  PHI  CLE    SG/SF   \nGeorges Niang             2022-10-10 23:00:00+00:00  PHI  CLE       PF   \nGordon Hayward            2022-10-10 23:00:00+00:00  CHA  WAS       SF   \nHaywood Highsmith         2022-10-10 23:30:00+00:00  MIA  HOU       PF   \nIsh Smith                 2022-10-11 01:00:00+00:00  DEN  PHX       PG   \nJae Crowder               2022-10-11 01:00:00+00:00  PHX  DEN       PF   \nJamal Murray              2022-10-11 01:00:00+00:00  DEN  PHX       PG   \nJames Harden              2022-10-10 23:00:00+00:00  PHI  CLE    PG/SG   \nJarrett Allen             2022-10-10 23:00:00+00:00  CLE  PHI        C   \nJeff Green                2022-10-11 01:00:00+00:00  DEN  PHX    SF/PF   \nJimmy Butler              2022-10-10 23:30:00+00:00  MIA  HOU    SF/PF   \nJoel Embiid               2022-10-10 23:00:00+00:00  PHI  CLE        C   \nJohnny Davis              2022-10-10 23:00:00+00:00  WAS  CHA    PG/SG   \nJosh Okogie               2022-10-11 01:00:00+00:00  PHX  DEN    SG/SF   \nKelly Oubre Jr.           2022-10-10 23:00:00+00:00  CHA  WAS    SG/SF   \nKentavious Caldwell-Pope  2022-10-11 01:00:00+00:00  DEN  PHX       SG   \nKevin Love                2022-10-10 23:00:00+00:00  CLE  PHI     PF/C   \nKristaps Porzingis        2022-10-10 23:00:00+00:00  WAS  CHA        C   \nKyle Kuzma                2022-10-10 23:00:00+00:00  WAS  CHA       PF   \nKyle Lowry                2022-10-10 23:30:00+00:00  MIA  HOU       PG   \nLandry Shamet             2022-10-11 01:00:00+00:00  PHX  DEN    SG/SF   \nMason Plumlee             2022-10-10 23:00:00+00:00  CHA  WAS        C   \nMichael Porter Jr.        2022-10-11 01:00:00+00:00  DEN  PHX    SF/PF   \nMikal Bridges             2022-10-11 01:00:00+00:00  PHX  DEN       SF   \nMonte Morris              2022-10-10 23:00:00+00:00  WAS  CHA       PG   \nMontrezl Harrell          2022-10-10 23:00:00+00:00  PHI  CLE        C   \nNikola Jokic              2022-10-11 01:00:00+00:00  DEN  PHX        C   \nRaul Neto                 2022-10-10 23:00:00+00:00  CLE  PHI       PG   \nRicky Rubio               2022-10-10 23:00:00+00:00  CLE  PHI       PG   \nRobin Lopez               2022-10-10 23:00:00+00:00  CLE  PHI        C   \nShake Milton              2022-10-10 23:00:00+00:00  PHI  CLE       PG   \nTaj Gibson                2022-10-10 23:00:00+00:00  WAS  CHA        C   \nTerry Rozier              2022-10-10 23:00:00+00:00  CHA  WAS       SG   \nTobias Harris             2022-10-10 23:00:00+00:00  PHI  CLE    SF/PF   \nTorrey Craig              2022-10-11 01:00:00+00:00  PHX  DEN    SF/PF   \nUdonis Haslem             2022-10-10 23:30:00+00:00  MIA  HOU        C   \nVictor Oladipo            2022-10-10 23:30:00+00:00  MIA  HOU    PG/SG   \nWill Barton               2022-10-10 23:00:00+00:00  WAS  CHA    SG/SF   \nWillie Cauley-Stein       2022-10-10 23:30:00+00:00  HOU  MIA        C   \n\n                           Salary      id  \nName                                       \nAaron Gordon               6800.0   177.0  \nBam Adebayo                8700.0     4.0  \nBismack Biyombo            3300.0    48.0  \nBoban Marjanovic           3000.0   296.0  \nBradley Beal               8800.0    37.0  \nBruce Brown                4700.0    69.0  \nCameron Payne              5600.0   368.0  \nCaris LeVert               7100.0   277.0  \nCedi Osman                 4100.0   359.0  \nChris Paul                 8500.0   367.0  \nDamion Lee                 3200.0   272.0  \nDanuel House Jr.           3100.0  2175.0  \nDario Saric                3700.0   407.0  \nDavon Reed                 3100.0   390.0  \nDe'Anthony Melton          5900.0   313.0  \nDeAndre Jordan             3400.0   250.0  \nDeandre Ayton              7900.0    22.0  \nDelon Wright               3100.0   487.0  \nDennis Smith Jr.           4100.0   421.0  \nDerrick Favors             3200.0   153.0  \nDevin Booker               9100.0    57.0  \nDewayne Dedmon             3600.0   120.0  \nDonovan Mitchell           9000.0   322.0  \nDuncan Robinson            4000.0   397.0  \nEric Gordon                4900.0   178.0  \nFrank Jackson              3400.0   233.0  \nFurkan Korkmaz             3300.0   260.0  \nGeorges Niang              3600.0   344.0  \nGordon Hayward             7000.0   204.0  \nHaywood Highsmith          3000.0  3092.0  \nIsh Smith                  3600.0   422.0  \nJae Crowder                5200.0   112.0  \nJamal Murray               8400.0   335.0  \nJames Harden               9600.0   192.0  \nJarrett Allen              8100.0     9.0  \nJeff Green                 3700.0   188.0  \nJimmy Butler               8600.0    79.0  \nJoel Embiid                9900.0   145.0  \nJohnny Davis               4000.0  2336.0  \nJosh Okogie                3000.0   356.0  \nKelly Oubre Jr.            6200.0   360.0  \nKentavious Caldwell-Pope   5500.0    81.0  \nKevin Love                 6700.0   285.0  \nKristaps Porzingis         8300.0   378.0  \nKyle Kuzma                 8200.0   265.0  \nKyle Lowry                 7400.0   286.0  \nLandry Shamet              3200.0   414.0  \nMason Plumlee              5400.0   371.0  \nMichael Porter Jr.         5700.0   375.0  \nMikal Bridges              6500.0    61.0  \nMonte Morris               6100.0   330.0  \nMontrezl Harrell           6400.0   194.0  \nNikola Jokic              10100.0   246.0  \nRaul Neto                  3400.0   343.0  \nRicky Rubio                7300.0   404.0  \nRobin Lopez                3300.0   284.0  \nShake Milton               3700.0   320.0  \nTaj Gibson                 3100.0   173.0  \nTerry Rozier               8000.0   403.0  \nTobias Harris              7600.0   200.0  \nTorrey Craig               3300.0   110.0  \nUdonis Haslem              3000.0   203.0  \nVictor Oladipo             5000.0   357.0  \nWill Barton                6900.0    31.0  \nWillie Cauley-Stein        3000.0    91.0  ",
      "text/html": "<div>\n<style scoped>\n    .dataframe tbody tr th:only-of-type {\n        vertical-align: middle;\n    }\n\n    .dataframe tbody tr th {\n        vertical-align: top;\n    }\n\n    .dataframe thead th {\n        text-align: right;\n    }\n</style>\n<table border=\"1\" class=\"dataframe\">\n  <thead>\n    <tr style=\"text-align: right;\">\n      <th></th>\n      <th>Time</th>\n      <th>Team</th>\n      <th>Opp</th>\n      <th>Position</th>\n      <th>Salary</th>\n      <th>id</th>\n    </tr>\n    <tr>\n      <th>Name</th>\n      <th></th>\n      <th></th>\n      <th></th>\n      <th></th>\n      <th></th>\n      <th></th>\n    </tr>\n  </thead>\n  <tbody>\n    <tr>\n      <th>Aaron Gordon</th>\n      <td>2022-10-11 01:00:00+00:00</td>\n      <td>DEN</td>\n      <td>PHX</td>\n      <td>PF</td>\n      <td>6800.0</td>\n      <td>177.0</td>\n    </tr>\n    <tr>\n      <th>Bam Adebayo</th>\n      <td>2022-10-10 23:30:00+00:00</td>\n      <td>MIA</td>\n      <td>HOU</td>\n      <td>C</td>\n      <td>8700.0</td>\n      <td>4.0</td>\n    </tr>\n    <tr>\n      <th>Bismack Biyombo</th>\n      <td>2022-10-11 01:00:00+00:00</td>\n      <td>PHX</td>\n      <td>DEN</td>\n      <td>C</td>\n      <td>3300.0</td>\n      <td>48.0</td>\n    </tr>\n    <tr>\n      <th>Boban Marjanovic</th>\n      <td>2022-10-10 23:30:00+00:00</td>\n      <td>HOU</td>\n      <td>MIA</td>\n      <td>C</td>\n      <td>3000.0</td>\n      <td>296.0</td>\n    </tr>\n    <tr>\n      <th>Bradley Beal</th>\n      <td>2022-10-10 23:00:00+00:00</td>\n      <td>WAS</td>\n      <td>CHA</td>\n      <td>PG/SG</td>\n      <td>8800.0</td>\n      <td>37.0</td>\n    </tr>\n    <tr>\n      <th>Bruce Brown</th>\n      <td>2022-10-11 01:00:00+00:00</td>\n      <td>DEN</td>\n      <td>PHX</td>\n      <td>SG/SF</td>\n      <td>4700.0</td>\n      <td>69.0</td>\n    </tr>\n    <tr>\n      <th>Cameron Payne</th>\n      <td>2022-10-11 01:00:00+00:00</td>\n      <td>PHX</td>\n      <td>DEN</td>\n      <td>PG</td>\n      <td>5600.0</td>\n      <td>368.0</td>\n    </tr>\n    <tr>\n      <th>Caris LeVert</th>\n      <td>2022-10-10 23:00:00+00:00</td>\n      <td>CLE</td>\n      <td>PHI</td>\n      <td>SG/SF</td>\n      <td>7100.0</td>\n      <td>277.0</td>\n    </tr>\n    <tr>\n      <th>Cedi Osman</th>\n      <td>2022-10-10 23:00:00+00:00</td>\n      <td>CLE</td>\n      <td>PHI</td>\n      <td>SF/PF</td>\n      <td>4100.0</td>\n      <td>359.0</td>\n    </tr>\n    <tr>\n      <th>Chris Paul</th>\n      <td>2022-10-11 01:00:00+00:00</td>\n      <td>PHX</td>\n      <td>DEN</td>\n      <td>PG</td>\n      <td>8500.0</td>\n      <td>367.0</td>\n    </tr>\n    <tr>\n      <th>Damion Lee</th>\n      <td>2022-10-11 01:00:00+00:00</td>\n      <td>PHX</td>\n      <td>DEN</td>\n      <td>SG</td>\n      <td>3200.0</td>\n      <td>272.0</td>\n    </tr>\n    <tr>\n      <th>Danuel House Jr.</th>\n      <td>2022-10-10 23:00:00+00:00</td>\n      <td>PHI</td>\n      <td>CLE</td>\n      <td>SF/PF</td>\n      <td>3100.0</td>\n      <td>2175.0</td>\n    </tr>\n    <tr>\n      <th>Dario Saric</th>\n      <td>2022-10-11 01:00:00+00:00</td>\n      <td>PHX</td>\n      <td>DEN</td>\n      <td>PF/C</td>\n      <td>3700.0</td>\n      <td>407.0</td>\n    </tr>\n    <tr>\n      <th>Davon Reed</th>\n      <td>2022-10-11 01:00:00+00:00</td>\n      <td>DEN</td>\n      <td>PHX</td>\n      <td>SG/SF</td>\n      <td>3100.0</td>\n      <td>390.0</td>\n    </tr>\n    <tr>\n      <th>De'Anthony Melton</th>\n      <td>2022-10-10 23:00:00+00:00</td>\n      <td>PHI</td>\n      <td>CLE</td>\n      <td>PG/SG</td>\n      <td>5900.0</td>\n      <td>313.0</td>\n    </tr>\n    <tr>\n      <th>DeAndre Jordan</th>\n      <td>2022-10-11 01:00:00+00:00</td>\n      <td>DEN</td>\n      <td>PHX</td>\n      <td>C</td>\n      <td>3400.0</td>\n      <td>250.0</td>\n    </tr>\n    <tr>\n      <th>Deandre Ayton</th>\n      <td>2022-10-11 01:00:00+00:00</td>\n      <td>PHX</td>\n      <td>DEN</td>\n      <td>C</td>\n      <td>7900.0</td>\n      <td>22.0</td>\n    </tr>\n    <tr>\n      <th>Delon Wright</th>\n      <td>2022-10-10 23:00:00+00:00</td>\n      <td>WAS</td>\n      <td>CHA</td>\n      <td>PG</td>\n      <td>3100.0</td>\n      <td>487.0</td>\n    </tr>\n    <tr>\n      <th>Dennis Smith Jr.</th>\n      <td>2022-10-10 23:00:00+00:00</td>\n      <td>CHA</td>\n      <td>WAS</td>\n      <td>PG</td>\n      <td>4100.0</td>\n      <td>421.0</td>\n    </tr>\n    <tr>\n      <th>Derrick Favors</th>\n      <td>2022-10-10 23:30:00+00:00</td>\n      <td>HOU</td>\n      <td>MIA</td>\n      <td>C</td>\n      <td>3200.0</td>\n      <td>153.0</td>\n    </tr>\n    <tr>\n      <th>Devin Booker</th>\n      <td>2022-10-11 01:00:00+00:00</td>\n      <td>PHX</td>\n      <td>DEN</td>\n      <td>PG/SG</td>\n      <td>9100.0</td>\n      <td>57.0</td>\n    </tr>\n    <tr>\n      <th>Dewayne Dedmon</th>\n      <td>2022-10-10 23:30:00+00:00</td>\n      <td>MIA</td>\n      <td>HOU</td>\n      <td>C</td>\n      <td>3600.0</td>\n      <td>120.0</td>\n    </tr>\n    <tr>\n      <th>Donovan Mitchell</th>\n      <td>2022-10-10 23:00:00+00:00</td>\n      <td>CLE</td>\n      <td>PHI</td>\n      <td>PG/SG</td>\n      <td>9000.0</td>\n      <td>322.0</td>\n    </tr>\n    <tr>\n      <th>Duncan Robinson</th>\n      <td>2022-10-10 23:30:00+00:00</td>\n      <td>MIA</td>\n      <td>HOU</td>\n      <td>SF/PF</td>\n      <td>4000.0</td>\n      <td>397.0</td>\n    </tr>\n    <tr>\n      <th>Eric Gordon</th>\n      <td>2022-10-10 23:30:00+00:00</td>\n      <td>HOU</td>\n      <td>MIA</td>\n      <td>SG/SF</td>\n      <td>4900.0</td>\n      <td>178.0</td>\n    </tr>\n    <tr>\n      <th>Frank Jackson</th>\n      <td>2022-10-11 01:00:00+00:00</td>\n      <td>PHX</td>\n      <td>DEN</td>\n      <td>PG</td>\n      <td>3400.0</td>\n      <td>233.0</td>\n    </tr>\n    <tr>\n      <th>Furkan Korkmaz</th>\n      <td>2022-10-10 23:00:00+00:00</td>\n      <td>PHI</td>\n      <td>CLE</td>\n      <td>SG/SF</td>\n      <td>3300.0</td>\n      <td>260.0</td>\n    </tr>\n    <tr>\n      <th>Georges Niang</th>\n      <td>2022-10-10 23:00:00+00:00</td>\n      <td>PHI</td>\n      <td>CLE</td>\n      <td>PF</td>\n      <td>3600.0</td>\n      <td>344.0</td>\n    </tr>\n    <tr>\n      <th>Gordon Hayward</th>\n      <td>2022-10-10 23:00:00+00:00</td>\n      <td>CHA</td>\n      <td>WAS</td>\n      <td>SF</td>\n      <td>7000.0</td>\n      <td>204.0</td>\n    </tr>\n    <tr>\n      <th>Haywood Highsmith</th>\n      <td>2022-10-10 23:30:00+00:00</td>\n      <td>MIA</td>\n      <td>HOU</td>\n      <td>PF</td>\n      <td>3000.0</td>\n      <td>3092.0</td>\n    </tr>\n    <tr>\n      <th>Ish Smith</th>\n      <td>2022-10-11 01:00:00+00:00</td>\n      <td>DEN</td>\n      <td>PHX</td>\n      <td>PG</td>\n      <td>3600.0</td>\n      <td>422.0</td>\n    </tr>\n    <tr>\n      <th>Jae Crowder</th>\n      <td>2022-10-11 01:00:00+00:00</td>\n      <td>PHX</td>\n      <td>DEN</td>\n      <td>PF</td>\n      <td>5200.0</td>\n      <td>112.0</td>\n    </tr>\n    <tr>\n      <th>Jamal Murray</th>\n      <td>2022-10-11 01:00:00+00:00</td>\n      <td>DEN</td>\n      <td>PHX</td>\n      <td>PG</td>\n      <td>8400.0</td>\n      <td>335.0</td>\n    </tr>\n    <tr>\n      <th>James Harden</th>\n      <td>2022-10-10 23:00:00+00:00</td>\n      <td>PHI</td>\n      <td>CLE</td>\n      <td>PG/SG</td>\n      <td>9600.0</td>\n      <td>192.0</td>\n    </tr>\n    <tr>\n      <th>Jarrett Allen</th>\n      <td>2022-10-10 23:00:00+00:00</td>\n      <td>CLE</td>\n      <td>PHI</td>\n      <td>C</td>\n      <td>8100.0</td>\n      <td>9.0</td>\n    </tr>\n    <tr>\n      <th>Jeff Green</th>\n      <td>2022-10-11 01:00:00+00:00</td>\n      <td>DEN</td>\n      <td>PHX</td>\n      <td>SF/PF</td>\n      <td>3700.0</td>\n      <td>188.0</td>\n    </tr>\n    <tr>\n      <th>Jimmy Butler</th>\n      <td>2022-10-10 23:30:00+00:00</td>\n      <td>MIA</td>\n      <td>HOU</td>\n      <td>SF/PF</td>\n      <td>8600.0</td>\n      <td>79.0</td>\n    </tr>\n    <tr>\n      <th>Joel Embiid</th>\n      <td>2022-10-10 23:00:00+00:00</td>\n      <td>PHI</td>\n      <td>CLE</td>\n      <td>C</td>\n      <td>9900.0</td>\n      <td>145.0</td>\n    </tr>\n    <tr>\n      <th>Johnny Davis</th>\n      <td>2022-10-10 23:00:00+00:00</td>\n      <td>WAS</td>\n      <td>CHA</td>\n      <td>PG/SG</td>\n      <td>4000.0</td>\n      <td>2336.0</td>\n    </tr>\n    <tr>\n      <th>Josh Okogie</th>\n      <td>2022-10-11 01:00:00+00:00</td>\n      <td>PHX</td>\n      <td>DEN</td>\n      <td>SG/SF</td>\n      <td>3000.0</td>\n      <td>356.0</td>\n    </tr>\n    <tr>\n      <th>Kelly Oubre Jr.</th>\n      <td>2022-10-10 23:00:00+00:00</td>\n      <td>CHA</td>\n      <td>WAS</td>\n      <td>SG/SF</td>\n      <td>6200.0</td>\n      <td>360.0</td>\n    </tr>\n    <tr>\n      <th>Kentavious Caldwell-Pope</th>\n      <td>2022-10-11 01:00:00+00:00</td>\n      <td>DEN</td>\n      <td>PHX</td>\n      <td>SG</td>\n      <td>5500.0</td>\n      <td>81.0</td>\n    </tr>\n    <tr>\n      <th>Kevin Love</th>\n      <td>2022-10-10 23:00:00+00:00</td>\n      <td>CLE</td>\n      <td>PHI</td>\n      <td>PF/C</td>\n      <td>6700.0</td>\n      <td>285.0</td>\n    </tr>\n    <tr>\n      <th>Kristaps Porzingis</th>\n      <td>2022-10-10 23:00:00+00:00</td>\n      <td>WAS</td>\n      <td>CHA</td>\n      <td>C</td>\n      <td>8300.0</td>\n      <td>378.0</td>\n    </tr>\n    <tr>\n      <th>Kyle Kuzma</th>\n      <td>2022-10-10 23:00:00+00:00</td>\n      <td>WAS</td>\n      <td>CHA</td>\n      <td>PF</td>\n      <td>8200.0</td>\n      <td>265.0</td>\n    </tr>\n    <tr>\n      <th>Kyle Lowry</th>\n      <td>2022-10-10 23:30:00+00:00</td>\n      <td>MIA</td>\n      <td>HOU</td>\n      <td>PG</td>\n      <td>7400.0</td>\n      <td>286.0</td>\n    </tr>\n    <tr>\n      <th>Landry Shamet</th>\n      <td>2022-10-11 01:00:00+00:00</td>\n      <td>PHX</td>\n      <td>DEN</td>\n      <td>SG/SF</td>\n      <td>3200.0</td>\n      <td>414.0</td>\n    </tr>\n    <tr>\n      <th>Mason Plumlee</th>\n      <td>2022-10-10 23:00:00+00:00</td>\n      <td>CHA</td>\n      <td>WAS</td>\n      <td>C</td>\n      <td>5400.0</td>\n      <td>371.0</td>\n    </tr>\n    <tr>\n      <th>Michael Porter Jr.</th>\n      <td>2022-10-11 01:00:00+00:00</td>\n      <td>DEN</td>\n      <td>PHX</td>\n      <td>SF/PF</td>\n      <td>5700.0</td>\n      <td>375.0</td>\n    </tr>\n    <tr>\n      <th>Mikal Bridges</th>\n      <td>2022-10-11 01:00:00+00:00</td>\n      <td>PHX</td>\n      <td>DEN</td>\n      <td>SF</td>\n      <td>6500.0</td>\n      <td>61.0</td>\n    </tr>\n    <tr>\n      <th>Monte Morris</th>\n      <td>2022-10-10 23:00:00+00:00</td>\n      <td>WAS</td>\n      <td>CHA</td>\n      <td>PG</td>\n      <td>6100.0</td>\n      <td>330.0</td>\n    </tr>\n    <tr>\n      <th>Montrezl Harrell</th>\n      <td>2022-10-10 23:00:00+00:00</td>\n      <td>PHI</td>\n      <td>CLE</td>\n      <td>C</td>\n      <td>6400.0</td>\n      <td>194.0</td>\n    </tr>\n    <tr>\n      <th>Nikola Jokic</th>\n      <td>2022-10-11 01:00:00+00:00</td>\n      <td>DEN</td>\n      <td>PHX</td>\n      <td>C</td>\n      <td>10100.0</td>\n      <td>246.0</td>\n    </tr>\n    <tr>\n      <th>Raul Neto</th>\n      <td>2022-10-10 23:00:00+00:00</td>\n      <td>CLE</td>\n      <td>PHI</td>\n      <td>PG</td>\n      <td>3400.0</td>\n      <td>343.0</td>\n    </tr>\n    <tr>\n      <th>Ricky Rubio</th>\n      <td>2022-10-10 23:00:00+00:00</td>\n      <td>CLE</td>\n      <td>PHI</td>\n      <td>PG</td>\n      <td>7300.0</td>\n      <td>404.0</td>\n    </tr>\n    <tr>\n      <th>Robin Lopez</th>\n      <td>2022-10-10 23:00:00+00:00</td>\n      <td>CLE</td>\n      <td>PHI</td>\n      <td>C</td>\n      <td>3300.0</td>\n      <td>284.0</td>\n    </tr>\n    <tr>\n      <th>Shake Milton</th>\n      <td>2022-10-10 23:00:00+00:00</td>\n      <td>PHI</td>\n      <td>CLE</td>\n      <td>PG</td>\n      <td>3700.0</td>\n      <td>320.0</td>\n    </tr>\n    <tr>\n      <th>Taj Gibson</th>\n      <td>2022-10-10 23:00:00+00:00</td>\n      <td>WAS</td>\n      <td>CHA</td>\n      <td>C</td>\n      <td>3100.0</td>\n      <td>173.0</td>\n    </tr>\n    <tr>\n      <th>Terry Rozier</th>\n      <td>2022-10-10 23:00:00+00:00</td>\n      <td>CHA</td>\n      <td>WAS</td>\n      <td>SG</td>\n      <td>8000.0</td>\n      <td>403.0</td>\n    </tr>\n    <tr>\n      <th>Tobias Harris</th>\n      <td>2022-10-10 23:00:00+00:00</td>\n      <td>PHI</td>\n      <td>CLE</td>\n      <td>SF/PF</td>\n      <td>7600.0</td>\n      <td>200.0</td>\n    </tr>\n    <tr>\n      <th>Torrey Craig</th>\n      <td>2022-10-11 01:00:00+00:00</td>\n      <td>PHX</td>\n      <td>DEN</td>\n      <td>SF/PF</td>\n      <td>3300.0</td>\n      <td>110.0</td>\n    </tr>\n    <tr>\n      <th>Udonis Haslem</th>\n      <td>2022-10-10 23:30:00+00:00</td>\n      <td>MIA</td>\n      <td>HOU</td>\n      <td>C</td>\n      <td>3000.0</td>\n      <td>203.0</td>\n    </tr>\n    <tr>\n      <th>Victor Oladipo</th>\n      <td>2022-10-10 23:30:00+00:00</td>\n      <td>MIA</td>\n      <td>HOU</td>\n      <td>PG/SG</td>\n      <td>5000.0</td>\n      <td>357.0</td>\n    </tr>\n    <tr>\n      <th>Will Barton</th>\n      <td>2022-10-10 23:00:00+00:00</td>\n      <td>WAS</td>\n      <td>CHA</td>\n      <td>SG/SF</td>\n      <td>6900.0</td>\n      <td>31.0</td>\n    </tr>\n    <tr>\n      <th>Willie Cauley-Stein</th>\n      <td>2022-10-10 23:30:00+00:00</td>\n      <td>HOU</td>\n      <td>MIA</td>\n      <td>C</td>\n      <td>3000.0</td>\n      <td>91.0</td>\n    </tr>\n  </tbody>\n</table>\n</div>"
     },
     "execution_count": 75,
     "metadata": {},
     "output_type": "execute_result"
    }
   ],
   "source": [
    "df"
   ],
   "metadata": {
    "collapsed": false
   }
  },
  {
   "cell_type": "code",
   "execution_count": 72,
   "outputs": [
    {
     "data": {
      "text/plain": "                          id\nName                        \nAlex Abrines               1\nJaylen Adams               2\nSteven Adams               3\nBam Adebayo                4\nDeVaughn Akoon-Purcell     5\n...                      ...\nRobert Reid             3088\nGary Trent Jr.          3089\nJaron Blossomgame       3090\nBrandon Goodwin         3091\nHaywood Highsmith       3092\n\n[3092 rows x 1 columns]",
      "text/html": "<div>\n<style scoped>\n    .dataframe tbody tr th:only-of-type {\n        vertical-align: middle;\n    }\n\n    .dataframe tbody tr th {\n        vertical-align: top;\n    }\n\n    .dataframe thead th {\n        text-align: right;\n    }\n</style>\n<table border=\"1\" class=\"dataframe\">\n  <thead>\n    <tr style=\"text-align: right;\">\n      <th></th>\n      <th>id</th>\n    </tr>\n    <tr>\n      <th>Name</th>\n      <th></th>\n    </tr>\n  </thead>\n  <tbody>\n    <tr>\n      <th>Alex Abrines</th>\n      <td>1</td>\n    </tr>\n    <tr>\n      <th>Jaylen Adams</th>\n      <td>2</td>\n    </tr>\n    <tr>\n      <th>Steven Adams</th>\n      <td>3</td>\n    </tr>\n    <tr>\n      <th>Bam Adebayo</th>\n      <td>4</td>\n    </tr>\n    <tr>\n      <th>DeVaughn Akoon-Purcell</th>\n      <td>5</td>\n    </tr>\n    <tr>\n      <th>...</th>\n      <td>...</td>\n    </tr>\n    <tr>\n      <th>Robert Reid</th>\n      <td>3088</td>\n    </tr>\n    <tr>\n      <th>Gary Trent Jr.</th>\n      <td>3089</td>\n    </tr>\n    <tr>\n      <th>Jaron Blossomgame</th>\n      <td>3090</td>\n    </tr>\n    <tr>\n      <th>Brandon Goodwin</th>\n      <td>3091</td>\n    </tr>\n    <tr>\n      <th>Haywood Highsmith</th>\n      <td>3092</td>\n    </tr>\n  </tbody>\n</table>\n<p>3092 rows × 1 columns</p>\n</div>"
     },
     "execution_count": 72,
     "metadata": {},
     "output_type": "execute_result"
    }
   ],
   "source": [
    "players"
   ],
   "metadata": {
    "collapsed": false
   }
  },
  {
   "cell_type": "code",
   "execution_count": null,
   "outputs": [],
   "source": [
    "players = pd.DataFrame.from_dict(player_dict, orient = 'index')\n",
    "players['Name'] = players.first_name + ' ' + players.last_name\n",
    "players = players[['Name', 'id']]\n",
    "players.set_index('Name', inplace=True)\n",
    "players.to_csv('data/BDL_ID.csv')"
   ],
   "metadata": {
    "collapsed": false
   }
  },
  {
   "cell_type": "code",
   "execution_count": 82,
   "outputs": [
    {
     "data": {
      "text/plain": "  0%|          | 0/1908 [00:00<?, ?it/s]",
      "application/vnd.jupyter.widget-view+json": {
       "version_major": 2,
       "version_minor": 0,
       "model_id": "a0932bc7bbb3454bbeeecd9ade9a98e3"
      }
     },
     "metadata": {},
     "output_type": "display_data"
    },
    {
     "name": "stdout",
     "output_type": "stream",
     "text": [
      "sleeping for 60\n",
      "429\n",
      "Expecting value: line 1 column 1 (char 0)\n",
      "sleeping for 60\n",
      "429\n",
      "Expecting value: line 1 column 1 (char 0)\n",
      "sleeping for 60\n",
      "429\n",
      "Expecting value: line 1 column 1 (char 0)\n",
      "sleeping for 60\n",
      "429\n",
      "Expecting value: line 1 column 1 (char 0)\n",
      "sleeping for 60\n",
      "429\n",
      "Expecting value: line 1 column 1 (char 0)\n",
      "sleeping for 60\n",
      "429\n",
      "Expecting value: line 1 column 1 (char 0)\n",
      "sleeping for 60\n",
      "429\n",
      "Expecting value: line 1 column 1 (char 0)\n",
      "sleeping for 60\n",
      "429\n",
      "Expecting value: line 1 column 1 (char 0)\n",
      "sleeping for 60\n",
      "429\n",
      "Expecting value: line 1 column 1 (char 0)\n",
      "sleeping for 60\n",
      "429\n",
      "Expecting value: line 1 column 1 (char 0)\n",
      "sleeping for 60\n",
      "429\n",
      "Expecting value: line 1 column 1 (char 0)\n",
      "sleeping for 60\n",
      "429\n",
      "Expecting value: line 1 column 1 (char 0)\n",
      "sleeping for 60\n",
      "429\n",
      "Expecting value: line 1 column 1 (char 0)\n",
      "sleeping for 60\n",
      "429\n",
      "Expecting value: line 1 column 1 (char 0)\n",
      "sleeping for 60\n",
      "429\n",
      "Expecting value: line 1 column 1 (char 0)\n",
      "sleeping for 60\n",
      "429\n",
      "Expecting value: line 1 column 1 (char 0)\n",
      "sleeping for 60\n",
      "429\n",
      "Expecting value: line 1 column 1 (char 0)\n",
      "sleeping for 60\n",
      "429\n",
      "Expecting value: line 1 column 1 (char 0)\n",
      "sleeping for 60\n",
      "429\n",
      "Expecting value: line 1 column 1 (char 0)\n",
      "sleeping for 60\n",
      "429\n",
      "Expecting value: line 1 column 1 (char 0)\n",
      "sleeping for 60\n",
      "429\n",
      "Expecting value: line 1 column 1 (char 0)\n",
      "sleeping for 60\n",
      "429\n",
      "Expecting value: line 1 column 1 (char 0)\n",
      "sleeping for 60\n",
      "429\n",
      "Expecting value: line 1 column 1 (char 0)\n",
      "sleeping for 60\n",
      "429\n",
      "Expecting value: line 1 column 1 (char 0)\n",
      "sleeping for 60\n",
      "429\n",
      "Expecting value: line 1 column 1 (char 0)\n",
      "sleeping for 60\n",
      "429\n",
      "Expecting value: line 1 column 1 (char 0)\n",
      "sleeping for 60\n",
      "429\n",
      "Expecting value: line 1 column 1 (char 0)\n",
      "sleeping for 60\n",
      "429\n",
      "Expecting value: line 1 column 1 (char 0)\n",
      "sleeping for 60\n",
      "429\n",
      "Expecting value: line 1 column 1 (char 0)\n",
      "sleeping for 60\n",
      "429\n",
      "Expecting value: line 1 column 1 (char 0)\n"
     ]
    }
   ],
   "source": [
    "import time\n",
    "from tqdm.notebook import tqdm\n",
    "#player_dict = {}\n",
    "for i in tqdm(range(len(player_dict), 5000)):\n",
    "    try:\n",
    "        cur = get_players({'id': str(i)})\n",
    "\n",
    "        if cur.status_code == 429:\n",
    "            print('sleeping for 60')\n",
    "            print(cur.status_code)\n",
    "            time.sleep(60)\n",
    "            cur = get_players({'id': str(i)})\n",
    "        elif cur.status_code == 404:\n",
    "            continue\n",
    "\n",
    "\n",
    "        player_dict[i] = cur.json()\n",
    "    except Exception as e:\n",
    "        print(e)\n",
    "        continue\n",
    "\n"
   ],
   "metadata": {
    "collapsed": false
   }
  },
  {
   "cell_type": "code",
   "execution_count": 84,
   "outputs": [
    {
     "data": {
      "text/plain": "3094"
     },
     "execution_count": 84,
     "metadata": {},
     "output_type": "execute_result"
    }
   ],
   "source": [
    "len(player_dict)"
   ],
   "metadata": {
    "collapsed": false
   }
  },
  {
   "cell_type": "code",
   "execution_count": 81,
   "outputs": [],
   "source": [
    "import json\n",
    "with open ('bdl_ID.json','w') as f:\n",
    "    json.dump(player_dict, f)"
   ],
   "metadata": {
    "collapsed": false
   }
  },
  {
   "cell_type": "code",
   "execution_count": 86,
   "outputs": [
    {
     "data": {
      "text/plain": "3094"
     },
     "execution_count": 86,
     "metadata": {},
     "output_type": "execute_result"
    }
   ],
   "source": [
    "len(player_dict)"
   ],
   "metadata": {
    "collapsed": false
   }
  },
  {
   "cell_type": "code",
   "execution_count": 98,
   "outputs": [],
   "source": [
    "resp = requests.get(os.path.join(base_url, 'players'), params={'per_page': 100})"
   ],
   "metadata": {
    "collapsed": false
   }
  },
  {
   "cell_type": "code",
   "execution_count": 83,
   "outputs": [
    {
     "ename": "TypeError",
     "evalue": "get_all_players() got an unexpected keyword argument 'per_page'",
     "output_type": "error",
     "traceback": [
      "\u001B[0;31m---------------------------------------------------------------------------\u001B[0m",
      "\u001B[0;31mTypeError\u001B[0m                                 Traceback (most recent call last)",
      "Input \u001B[0;32mIn [83]\u001B[0m, in \u001B[0;36m<cell line: 1>\u001B[0;34m()\u001B[0m\n\u001B[0;32m----> 1\u001B[0m players \u001B[38;5;241m=\u001B[39m \u001B[43mget_all_players\u001B[49m\u001B[43m(\u001B[49m\u001B[43mper_page\u001B[49m\u001B[43m \u001B[49m\u001B[38;5;241;43m=\u001B[39;49m\u001B[43m \u001B[49m\u001B[38;5;241;43m100\u001B[39;49m\u001B[43m)\u001B[49m\n\u001B[1;32m      2\u001B[0m players[\u001B[38;5;124m'\u001B[39m\u001B[38;5;124mName\u001B[39m\u001B[38;5;124m'\u001B[39m] \u001B[38;5;241m=\u001B[39m players\u001B[38;5;241m.\u001B[39mfirst_name \u001B[38;5;241m+\u001B[39m \u001B[38;5;124m'\u001B[39m\u001B[38;5;124m \u001B[39m\u001B[38;5;124m'\u001B[39m \u001B[38;5;241m+\u001B[39m players\u001B[38;5;241m.\u001B[39mlast_name\n\u001B[1;32m      3\u001B[0m players \u001B[38;5;241m=\u001B[39m players[[\u001B[38;5;124m'\u001B[39m\u001B[38;5;124mName\u001B[39m\u001B[38;5;124m'\u001B[39m, \u001B[38;5;124m'\u001B[39m\u001B[38;5;124mid\u001B[39m\u001B[38;5;124m'\u001B[39m]]\n",
      "\u001B[0;31mTypeError\u001B[0m: get_all_players() got an unexpected keyword argument 'per_page'"
     ]
    }
   ],
   "source": [
    "players = get_all_players(per_page = 100)\n"
   ],
   "metadata": {
    "collapsed": false
   }
  },
  {
   "cell_type": "code",
   "execution_count": 103,
   "outputs": [],
   "source": [],
   "metadata": {
    "collapsed": false
   }
  },
  {
   "cell_type": "code",
   "execution_count": 42,
   "outputs": [
    {
     "data": {
      "text/plain": "      id first_name  height_feet  height_inches   last_name position  \\\n0     14        Ike          NaN            NaN    Anigbogu        C   \n1     25        Ron          NaN            NaN       Baker        G   \n2     47     Jabari          NaN            NaN        Bird        G   \n3     67    MarShon          NaN            NaN      Brooks        G   \n4     71    Lorenzo          NaN            NaN       Brown        G   \n5     90       Omri          NaN            NaN      Casspi        F   \n6      1       Alex          6.0            6.0     Abrines        G   \n7    119      Tyler          NaN            NaN       Davis        C   \n8    149     Keenan          NaN            NaN       Evans        G   \n9    179     Marcin          NaN            NaN      Gortat        C   \n10  1593     Andrew          NaN            NaN       Bogut        F   \n11   241       Amir          6.0            9.0     Johnson      C-F   \n12   392    Malachi          NaN            NaN  Richardson        G   \n13   281       Zach          NaN            NaN      Lofton        G   \n14   263      Kosta          7.0            0.0      Koufos        C   \n15   382      Billy          NaN            NaN     Preston        F   \n16   384       Zhou          NaN            NaN          Qi      F-C   \n17   388       Zach          NaN            NaN    Randolph        F   \n18   430         DJ          NaN            NaN    Stephens      G-F   \n19   437      Milos          NaN            NaN    Teodosic        G   \n20   448       Gary          NaN            NaN   Trent Jr.        G   \n21   494    Michael          NaN            NaN       Smith            \n22   495       John          NaN            NaN      Morton            \n23   496     Howard          NaN            NaN      Wright            \n24   497    Michael          NaN            NaN      Ansley            \n\n                                                 team  weight_pounds  \n0   {'id': 12, 'abbreviation': 'IND', 'city': 'Ind...            NaN  \n1   {'id': 20, 'abbreviation': 'NYK', 'city': 'New...            NaN  \n2   {'id': 2, 'abbreviation': 'BOS', 'city': 'Bost...            NaN  \n3   {'id': 15, 'abbreviation': 'MEM', 'city': 'Mem...            NaN  \n4   {'id': 28, 'abbreviation': 'TOR', 'city': 'Tor...            NaN  \n5   {'id': 15, 'abbreviation': 'MEM', 'city': 'Mem...            NaN  \n6   {'id': 21, 'abbreviation': 'OKC', 'city': 'Okl...          200.0  \n7   {'id': 21, 'abbreviation': 'OKC', 'city': 'Okl...            NaN  \n8   {'id': 9, 'abbreviation': 'DET', 'city': 'Detr...            NaN  \n9   {'id': 13, 'abbreviation': 'LAC', 'city': 'LA'...            NaN  \n10  {'id': 10, 'abbreviation': 'GSW', 'city': 'Gol...            NaN  \n11  {'id': 23, 'abbreviation': 'PHI', 'city': 'Phi...          240.0  \n12  {'id': 29, 'abbreviation': 'UTA', 'city': 'Uta...            NaN  \n13  {'id': 9, 'abbreviation': 'DET', 'city': 'Detr...            NaN  \n14  {'id': 26, 'abbreviation': 'SAC', 'city': 'Sac...          245.0  \n15  {'id': 6, 'abbreviation': 'CLE', 'city': 'Clev...            NaN  \n16  {'id': 11, 'abbreviation': 'HOU', 'city': 'Hou...            NaN  \n17  {'id': 26, 'abbreviation': 'SAC', 'city': 'Sac...            NaN  \n18  {'id': 15, 'abbreviation': 'MEM', 'city': 'Mem...            NaN  \n19  {'id': 13, 'abbreviation': 'LAC', 'city': 'LA'...            NaN  \n20  {'id': 25, 'abbreviation': 'POR', 'city': 'Por...            NaN  \n21  {'id': 2, 'abbreviation': 'BOS', 'city': 'Bost...            NaN  \n22  {'id': 6, 'abbreviation': 'CLE', 'city': 'Clev...            NaN  \n23  {'id': 1, 'abbreviation': 'ATL', 'city': 'Atla...            NaN  \n24  {'id': 22, 'abbreviation': 'ORL', 'city': 'Orl...            NaN  ",
      "text/html": "<div>\n<style scoped>\n    .dataframe tbody tr th:only-of-type {\n        vertical-align: middle;\n    }\n\n    .dataframe tbody tr th {\n        vertical-align: top;\n    }\n\n    .dataframe thead th {\n        text-align: right;\n    }\n</style>\n<table border=\"1\" class=\"dataframe\">\n  <thead>\n    <tr style=\"text-align: right;\">\n      <th></th>\n      <th>id</th>\n      <th>first_name</th>\n      <th>height_feet</th>\n      <th>height_inches</th>\n      <th>last_name</th>\n      <th>position</th>\n      <th>team</th>\n      <th>weight_pounds</th>\n    </tr>\n  </thead>\n  <tbody>\n    <tr>\n      <th>0</th>\n      <td>14</td>\n      <td>Ike</td>\n      <td>NaN</td>\n      <td>NaN</td>\n      <td>Anigbogu</td>\n      <td>C</td>\n      <td>{'id': 12, 'abbreviation': 'IND', 'city': 'Ind...</td>\n      <td>NaN</td>\n    </tr>\n    <tr>\n      <th>1</th>\n      <td>25</td>\n      <td>Ron</td>\n      <td>NaN</td>\n      <td>NaN</td>\n      <td>Baker</td>\n      <td>G</td>\n      <td>{'id': 20, 'abbreviation': 'NYK', 'city': 'New...</td>\n      <td>NaN</td>\n    </tr>\n    <tr>\n      <th>2</th>\n      <td>47</td>\n      <td>Jabari</td>\n      <td>NaN</td>\n      <td>NaN</td>\n      <td>Bird</td>\n      <td>G</td>\n      <td>{'id': 2, 'abbreviation': 'BOS', 'city': 'Bost...</td>\n      <td>NaN</td>\n    </tr>\n    <tr>\n      <th>3</th>\n      <td>67</td>\n      <td>MarShon</td>\n      <td>NaN</td>\n      <td>NaN</td>\n      <td>Brooks</td>\n      <td>G</td>\n      <td>{'id': 15, 'abbreviation': 'MEM', 'city': 'Mem...</td>\n      <td>NaN</td>\n    </tr>\n    <tr>\n      <th>4</th>\n      <td>71</td>\n      <td>Lorenzo</td>\n      <td>NaN</td>\n      <td>NaN</td>\n      <td>Brown</td>\n      <td>G</td>\n      <td>{'id': 28, 'abbreviation': 'TOR', 'city': 'Tor...</td>\n      <td>NaN</td>\n    </tr>\n    <tr>\n      <th>5</th>\n      <td>90</td>\n      <td>Omri</td>\n      <td>NaN</td>\n      <td>NaN</td>\n      <td>Casspi</td>\n      <td>F</td>\n      <td>{'id': 15, 'abbreviation': 'MEM', 'city': 'Mem...</td>\n      <td>NaN</td>\n    </tr>\n    <tr>\n      <th>6</th>\n      <td>1</td>\n      <td>Alex</td>\n      <td>6.0</td>\n      <td>6.0</td>\n      <td>Abrines</td>\n      <td>G</td>\n      <td>{'id': 21, 'abbreviation': 'OKC', 'city': 'Okl...</td>\n      <td>200.0</td>\n    </tr>\n    <tr>\n      <th>7</th>\n      <td>119</td>\n      <td>Tyler</td>\n      <td>NaN</td>\n      <td>NaN</td>\n      <td>Davis</td>\n      <td>C</td>\n      <td>{'id': 21, 'abbreviation': 'OKC', 'city': 'Okl...</td>\n      <td>NaN</td>\n    </tr>\n    <tr>\n      <th>8</th>\n      <td>149</td>\n      <td>Keenan</td>\n      <td>NaN</td>\n      <td>NaN</td>\n      <td>Evans</td>\n      <td>G</td>\n      <td>{'id': 9, 'abbreviation': 'DET', 'city': 'Detr...</td>\n      <td>NaN</td>\n    </tr>\n    <tr>\n      <th>9</th>\n      <td>179</td>\n      <td>Marcin</td>\n      <td>NaN</td>\n      <td>NaN</td>\n      <td>Gortat</td>\n      <td>C</td>\n      <td>{'id': 13, 'abbreviation': 'LAC', 'city': 'LA'...</td>\n      <td>NaN</td>\n    </tr>\n    <tr>\n      <th>10</th>\n      <td>1593</td>\n      <td>Andrew</td>\n      <td>NaN</td>\n      <td>NaN</td>\n      <td>Bogut</td>\n      <td>F</td>\n      <td>{'id': 10, 'abbreviation': 'GSW', 'city': 'Gol...</td>\n      <td>NaN</td>\n    </tr>\n    <tr>\n      <th>11</th>\n      <td>241</td>\n      <td>Amir</td>\n      <td>6.0</td>\n      <td>9.0</td>\n      <td>Johnson</td>\n      <td>C-F</td>\n      <td>{'id': 23, 'abbreviation': 'PHI', 'city': 'Phi...</td>\n      <td>240.0</td>\n    </tr>\n    <tr>\n      <th>12</th>\n      <td>392</td>\n      <td>Malachi</td>\n      <td>NaN</td>\n      <td>NaN</td>\n      <td>Richardson</td>\n      <td>G</td>\n      <td>{'id': 29, 'abbreviation': 'UTA', 'city': 'Uta...</td>\n      <td>NaN</td>\n    </tr>\n    <tr>\n      <th>13</th>\n      <td>281</td>\n      <td>Zach</td>\n      <td>NaN</td>\n      <td>NaN</td>\n      <td>Lofton</td>\n      <td>G</td>\n      <td>{'id': 9, 'abbreviation': 'DET', 'city': 'Detr...</td>\n      <td>NaN</td>\n    </tr>\n    <tr>\n      <th>14</th>\n      <td>263</td>\n      <td>Kosta</td>\n      <td>7.0</td>\n      <td>0.0</td>\n      <td>Koufos</td>\n      <td>C</td>\n      <td>{'id': 26, 'abbreviation': 'SAC', 'city': 'Sac...</td>\n      <td>245.0</td>\n    </tr>\n    <tr>\n      <th>15</th>\n      <td>382</td>\n      <td>Billy</td>\n      <td>NaN</td>\n      <td>NaN</td>\n      <td>Preston</td>\n      <td>F</td>\n      <td>{'id': 6, 'abbreviation': 'CLE', 'city': 'Clev...</td>\n      <td>NaN</td>\n    </tr>\n    <tr>\n      <th>16</th>\n      <td>384</td>\n      <td>Zhou</td>\n      <td>NaN</td>\n      <td>NaN</td>\n      <td>Qi</td>\n      <td>F-C</td>\n      <td>{'id': 11, 'abbreviation': 'HOU', 'city': 'Hou...</td>\n      <td>NaN</td>\n    </tr>\n    <tr>\n      <th>17</th>\n      <td>388</td>\n      <td>Zach</td>\n      <td>NaN</td>\n      <td>NaN</td>\n      <td>Randolph</td>\n      <td>F</td>\n      <td>{'id': 26, 'abbreviation': 'SAC', 'city': 'Sac...</td>\n      <td>NaN</td>\n    </tr>\n    <tr>\n      <th>18</th>\n      <td>430</td>\n      <td>DJ</td>\n      <td>NaN</td>\n      <td>NaN</td>\n      <td>Stephens</td>\n      <td>G-F</td>\n      <td>{'id': 15, 'abbreviation': 'MEM', 'city': 'Mem...</td>\n      <td>NaN</td>\n    </tr>\n    <tr>\n      <th>19</th>\n      <td>437</td>\n      <td>Milos</td>\n      <td>NaN</td>\n      <td>NaN</td>\n      <td>Teodosic</td>\n      <td>G</td>\n      <td>{'id': 13, 'abbreviation': 'LAC', 'city': 'LA'...</td>\n      <td>NaN</td>\n    </tr>\n    <tr>\n      <th>20</th>\n      <td>448</td>\n      <td>Gary</td>\n      <td>NaN</td>\n      <td>NaN</td>\n      <td>Trent Jr.</td>\n      <td>G</td>\n      <td>{'id': 25, 'abbreviation': 'POR', 'city': 'Por...</td>\n      <td>NaN</td>\n    </tr>\n    <tr>\n      <th>21</th>\n      <td>494</td>\n      <td>Michael</td>\n      <td>NaN</td>\n      <td>NaN</td>\n      <td>Smith</td>\n      <td></td>\n      <td>{'id': 2, 'abbreviation': 'BOS', 'city': 'Bost...</td>\n      <td>NaN</td>\n    </tr>\n    <tr>\n      <th>22</th>\n      <td>495</td>\n      <td>John</td>\n      <td>NaN</td>\n      <td>NaN</td>\n      <td>Morton</td>\n      <td></td>\n      <td>{'id': 6, 'abbreviation': 'CLE', 'city': 'Clev...</td>\n      <td>NaN</td>\n    </tr>\n    <tr>\n      <th>23</th>\n      <td>496</td>\n      <td>Howard</td>\n      <td>NaN</td>\n      <td>NaN</td>\n      <td>Wright</td>\n      <td></td>\n      <td>{'id': 1, 'abbreviation': 'ATL', 'city': 'Atla...</td>\n      <td>NaN</td>\n    </tr>\n    <tr>\n      <th>24</th>\n      <td>497</td>\n      <td>Michael</td>\n      <td>NaN</td>\n      <td>NaN</td>\n      <td>Ansley</td>\n      <td></td>\n      <td>{'id': 22, 'abbreviation': 'ORL', 'city': 'Orl...</td>\n      <td>NaN</td>\n    </tr>\n  </tbody>\n</table>\n</div>"
     },
     "execution_count": 42,
     "metadata": {},
     "output_type": "execute_result"
    }
   ],
   "source": [
    "pd.DataFrame(resp)"
   ],
   "metadata": {
    "collapsed": false
   }
  },
  {
   "cell_type": "code",
   "execution_count": 20,
   "outputs": [
    {
     "data": {
      "text/plain": "[{'id': 14,\n  'first_name': 'Ike',\n  'height_feet': None,\n  'height_inches': None,\n  'last_name': 'Anigbogu',\n  'position': 'C',\n  'team': {'id': 12,\n   'abbreviation': 'IND',\n   'city': 'Indiana',\n   'conference': 'East',\n   'division': 'Central',\n   'full_name': 'Indiana Pacers',\n   'name': 'Pacers'},\n  'weight_pounds': None},\n {'id': 25,\n  'first_name': 'Ron',\n  'height_feet': None,\n  'height_inches': None,\n  'last_name': 'Baker',\n  'position': 'G',\n  'team': {'id': 20,\n   'abbreviation': 'NYK',\n   'city': 'New York',\n   'conference': 'East',\n   'division': 'Atlantic',\n   'full_name': 'New York Knicks',\n   'name': 'Knicks'},\n  'weight_pounds': None},\n {'id': 47,\n  'first_name': 'Jabari',\n  'height_feet': None,\n  'height_inches': None,\n  'last_name': 'Bird',\n  'position': 'G',\n  'team': {'id': 2,\n   'abbreviation': 'BOS',\n   'city': 'Boston',\n   'conference': 'East',\n   'division': 'Atlantic',\n   'full_name': 'Boston Celtics',\n   'name': 'Celtics'},\n  'weight_pounds': None},\n {'id': 67,\n  'first_name': 'MarShon',\n  'height_feet': None,\n  'height_inches': None,\n  'last_name': 'Brooks',\n  'position': 'G',\n  'team': {'id': 15,\n   'abbreviation': 'MEM',\n   'city': 'Memphis',\n   'conference': 'West',\n   'division': 'Southwest',\n   'full_name': 'Memphis Grizzlies',\n   'name': 'Grizzlies'},\n  'weight_pounds': None},\n {'id': 71,\n  'first_name': 'Lorenzo',\n  'height_feet': None,\n  'height_inches': None,\n  'last_name': 'Brown',\n  'position': 'G',\n  'team': {'id': 28,\n   'abbreviation': 'TOR',\n   'city': 'Toronto',\n   'conference': 'East',\n   'division': 'Atlantic',\n   'full_name': 'Toronto Raptors',\n   'name': 'Raptors'},\n  'weight_pounds': None},\n {'id': 90,\n  'first_name': 'Omri',\n  'height_feet': None,\n  'height_inches': None,\n  'last_name': 'Casspi',\n  'position': 'F',\n  'team': {'id': 15,\n   'abbreviation': 'MEM',\n   'city': 'Memphis',\n   'conference': 'West',\n   'division': 'Southwest',\n   'full_name': 'Memphis Grizzlies',\n   'name': 'Grizzlies'},\n  'weight_pounds': None},\n {'id': 1,\n  'first_name': 'Alex',\n  'height_feet': 6,\n  'height_inches': 6,\n  'last_name': 'Abrines',\n  'position': 'G',\n  'team': {'id': 21,\n   'abbreviation': 'OKC',\n   'city': 'Oklahoma City',\n   'conference': 'West',\n   'division': 'Northwest',\n   'full_name': 'Oklahoma City Thunder',\n   'name': 'Thunder'},\n  'weight_pounds': 200},\n {'id': 119,\n  'first_name': 'Tyler',\n  'height_feet': None,\n  'height_inches': None,\n  'last_name': 'Davis',\n  'position': 'C',\n  'team': {'id': 21,\n   'abbreviation': 'OKC',\n   'city': 'Oklahoma City',\n   'conference': 'West',\n   'division': 'Northwest',\n   'full_name': 'Oklahoma City Thunder',\n   'name': 'Thunder'},\n  'weight_pounds': None},\n {'id': 149,\n  'first_name': 'Keenan',\n  'height_feet': None,\n  'height_inches': None,\n  'last_name': 'Evans',\n  'position': 'G',\n  'team': {'id': 9,\n   'abbreviation': 'DET',\n   'city': 'Detroit',\n   'conference': 'East',\n   'division': 'Central',\n   'full_name': 'Detroit Pistons',\n   'name': 'Pistons'},\n  'weight_pounds': None},\n {'id': 179,\n  'first_name': 'Marcin',\n  'height_feet': None,\n  'height_inches': None,\n  'last_name': 'Gortat',\n  'position': 'C',\n  'team': {'id': 13,\n   'abbreviation': 'LAC',\n   'city': 'LA',\n   'conference': 'West',\n   'division': 'Pacific',\n   'full_name': 'LA Clippers',\n   'name': 'Clippers'},\n  'weight_pounds': None},\n {'id': 1593,\n  'first_name': 'Andrew',\n  'height_feet': None,\n  'height_inches': None,\n  'last_name': 'Bogut',\n  'position': 'F',\n  'team': {'id': 10,\n   'abbreviation': 'GSW',\n   'city': 'Golden State',\n   'conference': 'West',\n   'division': 'Pacific',\n   'full_name': 'Golden State Warriors',\n   'name': 'Warriors'},\n  'weight_pounds': None},\n {'id': 241,\n  'first_name': 'Amir',\n  'height_feet': 6,\n  'height_inches': 9,\n  'last_name': 'Johnson',\n  'position': 'C-F',\n  'team': {'id': 23,\n   'abbreviation': 'PHI',\n   'city': 'Philadelphia',\n   'conference': 'East',\n   'division': 'Atlantic',\n   'full_name': 'Philadelphia 76ers',\n   'name': '76ers'},\n  'weight_pounds': 240},\n {'id': 392,\n  'first_name': 'Malachi',\n  'height_feet': None,\n  'height_inches': None,\n  'last_name': 'Richardson',\n  'position': 'G',\n  'team': {'id': 29,\n   'abbreviation': 'UTA',\n   'city': 'Utah',\n   'conference': 'West',\n   'division': 'Northwest',\n   'full_name': 'Utah Jazz',\n   'name': 'Jazz'},\n  'weight_pounds': None},\n {'id': 281,\n  'first_name': 'Zach',\n  'height_feet': None,\n  'height_inches': None,\n  'last_name': 'Lofton',\n  'position': 'G',\n  'team': {'id': 9,\n   'abbreviation': 'DET',\n   'city': 'Detroit',\n   'conference': 'East',\n   'division': 'Central',\n   'full_name': 'Detroit Pistons',\n   'name': 'Pistons'},\n  'weight_pounds': None},\n {'id': 263,\n  'first_name': 'Kosta',\n  'height_feet': 7,\n  'height_inches': 0,\n  'last_name': 'Koufos',\n  'position': 'C',\n  'team': {'id': 26,\n   'abbreviation': 'SAC',\n   'city': 'Sacramento',\n   'conference': 'West',\n   'division': 'Pacific',\n   'full_name': 'Sacramento Kings',\n   'name': 'Kings'},\n  'weight_pounds': 245},\n {'id': 382,\n  'first_name': 'Billy',\n  'height_feet': None,\n  'height_inches': None,\n  'last_name': 'Preston',\n  'position': 'F',\n  'team': {'id': 6,\n   'abbreviation': 'CLE',\n   'city': 'Cleveland',\n   'conference': 'East',\n   'division': 'Central',\n   'full_name': 'Cleveland Cavaliers',\n   'name': 'Cavaliers'},\n  'weight_pounds': None},\n {'id': 384,\n  'first_name': 'Zhou',\n  'height_feet': None,\n  'height_inches': None,\n  'last_name': 'Qi',\n  'position': 'F-C',\n  'team': {'id': 11,\n   'abbreviation': 'HOU',\n   'city': 'Houston',\n   'conference': 'West',\n   'division': 'Southwest',\n   'full_name': 'Houston Rockets',\n   'name': 'Rockets'},\n  'weight_pounds': None},\n {'id': 388,\n  'first_name': 'Zach',\n  'height_feet': None,\n  'height_inches': None,\n  'last_name': 'Randolph',\n  'position': 'F',\n  'team': {'id': 26,\n   'abbreviation': 'SAC',\n   'city': 'Sacramento',\n   'conference': 'West',\n   'division': 'Pacific',\n   'full_name': 'Sacramento Kings',\n   'name': 'Kings'},\n  'weight_pounds': None},\n {'id': 430,\n  'first_name': 'DJ',\n  'height_feet': None,\n  'height_inches': None,\n  'last_name': 'Stephens',\n  'position': 'G-F',\n  'team': {'id': 15,\n   'abbreviation': 'MEM',\n   'city': 'Memphis',\n   'conference': 'West',\n   'division': 'Southwest',\n   'full_name': 'Memphis Grizzlies',\n   'name': 'Grizzlies'},\n  'weight_pounds': None},\n {'id': 437,\n  'first_name': 'Milos',\n  'height_feet': None,\n  'height_inches': None,\n  'last_name': 'Teodosic',\n  'position': 'G',\n  'team': {'id': 13,\n   'abbreviation': 'LAC',\n   'city': 'LA',\n   'conference': 'West',\n   'division': 'Pacific',\n   'full_name': 'LA Clippers',\n   'name': 'Clippers'},\n  'weight_pounds': None},\n {'id': 448,\n  'first_name': 'Gary',\n  'height_feet': None,\n  'height_inches': None,\n  'last_name': 'Trent Jr.',\n  'position': 'G',\n  'team': {'id': 25,\n   'abbreviation': 'POR',\n   'city': 'Portland',\n   'conference': 'West',\n   'division': 'Northwest',\n   'full_name': 'Portland Trail Blazers',\n   'name': 'Trail Blazers'},\n  'weight_pounds': None},\n {'id': 494,\n  'first_name': 'Michael',\n  'height_feet': None,\n  'height_inches': None,\n  'last_name': 'Smith',\n  'position': '',\n  'team': {'id': 2,\n   'abbreviation': 'BOS',\n   'city': 'Boston',\n   'conference': 'East',\n   'division': 'Atlantic',\n   'full_name': 'Boston Celtics',\n   'name': 'Celtics'},\n  'weight_pounds': None},\n {'id': 495,\n  'first_name': 'John',\n  'height_feet': None,\n  'height_inches': None,\n  'last_name': 'Morton',\n  'position': '',\n  'team': {'id': 6,\n   'abbreviation': 'CLE',\n   'city': 'Cleveland',\n   'conference': 'East',\n   'division': 'Central',\n   'full_name': 'Cleveland Cavaliers',\n   'name': 'Cavaliers'},\n  'weight_pounds': None},\n {'id': 496,\n  'first_name': 'Howard',\n  'height_feet': None,\n  'height_inches': None,\n  'last_name': 'Wright',\n  'position': '',\n  'team': {'id': 1,\n   'abbreviation': 'ATL',\n   'city': 'Atlanta',\n   'conference': 'East',\n   'division': 'Southeast',\n   'full_name': 'Atlanta Hawks',\n   'name': 'Hawks'},\n  'weight_pounds': None},\n {'id': 497,\n  'first_name': 'Michael',\n  'height_feet': None,\n  'height_inches': None,\n  'last_name': 'Ansley',\n  'position': '',\n  'team': {'id': 22,\n   'abbreviation': 'ORL',\n   'city': 'Orlando',\n   'conference': 'East',\n   'division': 'Southeast',\n   'full_name': 'Orlando Magic',\n   'name': 'Magic'},\n  'weight_pounds': None}]"
     },
     "execution_count": 20,
     "metadata": {},
     "output_type": "execute_result"
    }
   ],
   "source": [
    "resp"
   ],
   "metadata": {
    "collapsed": false
   }
  },
  {
   "cell_type": "code",
   "execution_count": 14,
   "outputs": [
    {
     "data": {
      "text/plain": "[{'id': 14,\n  'first_name': 'Ike',\n  'height_feet': None,\n  'height_inches': None,\n  'last_name': 'Anigbogu',\n  'position': 'C',\n  'team': {'id': 12,\n   'abbreviation': 'IND',\n   'city': 'Indiana',\n   'conference': 'East',\n   'division': 'Central',\n   'full_name': 'Indiana Pacers',\n   'name': 'Pacers'},\n  'weight_pounds': None},\n {'id': 25,\n  'first_name': 'Ron',\n  'height_feet': None,\n  'height_inches': None,\n  'last_name': 'Baker',\n  'position': 'G',\n  'team': {'id': 20,\n   'abbreviation': 'NYK',\n   'city': 'New York',\n   'conference': 'East',\n   'division': 'Atlantic',\n   'full_name': 'New York Knicks',\n   'name': 'Knicks'},\n  'weight_pounds': None},\n {'id': 47,\n  'first_name': 'Jabari',\n  'height_feet': None,\n  'height_inches': None,\n  'last_name': 'Bird',\n  'position': 'G',\n  'team': {'id': 2,\n   'abbreviation': 'BOS',\n   'city': 'Boston',\n   'conference': 'East',\n   'division': 'Atlantic',\n   'full_name': 'Boston Celtics',\n   'name': 'Celtics'},\n  'weight_pounds': None},\n {'id': 67,\n  'first_name': 'MarShon',\n  'height_feet': None,\n  'height_inches': None,\n  'last_name': 'Brooks',\n  'position': 'G',\n  'team': {'id': 15,\n   'abbreviation': 'MEM',\n   'city': 'Memphis',\n   'conference': 'West',\n   'division': 'Southwest',\n   'full_name': 'Memphis Grizzlies',\n   'name': 'Grizzlies'},\n  'weight_pounds': None},\n {'id': 71,\n  'first_name': 'Lorenzo',\n  'height_feet': None,\n  'height_inches': None,\n  'last_name': 'Brown',\n  'position': 'G',\n  'team': {'id': 28,\n   'abbreviation': 'TOR',\n   'city': 'Toronto',\n   'conference': 'East',\n   'division': 'Atlantic',\n   'full_name': 'Toronto Raptors',\n   'name': 'Raptors'},\n  'weight_pounds': None},\n {'id': 90,\n  'first_name': 'Omri',\n  'height_feet': None,\n  'height_inches': None,\n  'last_name': 'Casspi',\n  'position': 'F',\n  'team': {'id': 15,\n   'abbreviation': 'MEM',\n   'city': 'Memphis',\n   'conference': 'West',\n   'division': 'Southwest',\n   'full_name': 'Memphis Grizzlies',\n   'name': 'Grizzlies'},\n  'weight_pounds': None},\n {'id': 1,\n  'first_name': 'Alex',\n  'height_feet': 6,\n  'height_inches': 6,\n  'last_name': 'Abrines',\n  'position': 'G',\n  'team': {'id': 21,\n   'abbreviation': 'OKC',\n   'city': 'Oklahoma City',\n   'conference': 'West',\n   'division': 'Northwest',\n   'full_name': 'Oklahoma City Thunder',\n   'name': 'Thunder'},\n  'weight_pounds': 200},\n {'id': 119,\n  'first_name': 'Tyler',\n  'height_feet': None,\n  'height_inches': None,\n  'last_name': 'Davis',\n  'position': 'C',\n  'team': {'id': 21,\n   'abbreviation': 'OKC',\n   'city': 'Oklahoma City',\n   'conference': 'West',\n   'division': 'Northwest',\n   'full_name': 'Oklahoma City Thunder',\n   'name': 'Thunder'},\n  'weight_pounds': None},\n {'id': 149,\n  'first_name': 'Keenan',\n  'height_feet': None,\n  'height_inches': None,\n  'last_name': 'Evans',\n  'position': 'G',\n  'team': {'id': 9,\n   'abbreviation': 'DET',\n   'city': 'Detroit',\n   'conference': 'East',\n   'division': 'Central',\n   'full_name': 'Detroit Pistons',\n   'name': 'Pistons'},\n  'weight_pounds': None},\n {'id': 179,\n  'first_name': 'Marcin',\n  'height_feet': None,\n  'height_inches': None,\n  'last_name': 'Gortat',\n  'position': 'C',\n  'team': {'id': 13,\n   'abbreviation': 'LAC',\n   'city': 'LA',\n   'conference': 'West',\n   'division': 'Pacific',\n   'full_name': 'LA Clippers',\n   'name': 'Clippers'},\n  'weight_pounds': None},\n {'id': 1593,\n  'first_name': 'Andrew',\n  'height_feet': None,\n  'height_inches': None,\n  'last_name': 'Bogut',\n  'position': 'F',\n  'team': {'id': 10,\n   'abbreviation': 'GSW',\n   'city': 'Golden State',\n   'conference': 'West',\n   'division': 'Pacific',\n   'full_name': 'Golden State Warriors',\n   'name': 'Warriors'},\n  'weight_pounds': None},\n {'id': 241,\n  'first_name': 'Amir',\n  'height_feet': 6,\n  'height_inches': 9,\n  'last_name': 'Johnson',\n  'position': 'C-F',\n  'team': {'id': 23,\n   'abbreviation': 'PHI',\n   'city': 'Philadelphia',\n   'conference': 'East',\n   'division': 'Atlantic',\n   'full_name': 'Philadelphia 76ers',\n   'name': '76ers'},\n  'weight_pounds': 240},\n {'id': 392,\n  'first_name': 'Malachi',\n  'height_feet': None,\n  'height_inches': None,\n  'last_name': 'Richardson',\n  'position': 'G',\n  'team': {'id': 29,\n   'abbreviation': 'UTA',\n   'city': 'Utah',\n   'conference': 'West',\n   'division': 'Northwest',\n   'full_name': 'Utah Jazz',\n   'name': 'Jazz'},\n  'weight_pounds': None},\n {'id': 281,\n  'first_name': 'Zach',\n  'height_feet': None,\n  'height_inches': None,\n  'last_name': 'Lofton',\n  'position': 'G',\n  'team': {'id': 9,\n   'abbreviation': 'DET',\n   'city': 'Detroit',\n   'conference': 'East',\n   'division': 'Central',\n   'full_name': 'Detroit Pistons',\n   'name': 'Pistons'},\n  'weight_pounds': None},\n {'id': 263,\n  'first_name': 'Kosta',\n  'height_feet': 7,\n  'height_inches': 0,\n  'last_name': 'Koufos',\n  'position': 'C',\n  'team': {'id': 26,\n   'abbreviation': 'SAC',\n   'city': 'Sacramento',\n   'conference': 'West',\n   'division': 'Pacific',\n   'full_name': 'Sacramento Kings',\n   'name': 'Kings'},\n  'weight_pounds': 245},\n {'id': 382,\n  'first_name': 'Billy',\n  'height_feet': None,\n  'height_inches': None,\n  'last_name': 'Preston',\n  'position': 'F',\n  'team': {'id': 6,\n   'abbreviation': 'CLE',\n   'city': 'Cleveland',\n   'conference': 'East',\n   'division': 'Central',\n   'full_name': 'Cleveland Cavaliers',\n   'name': 'Cavaliers'},\n  'weight_pounds': None},\n {'id': 384,\n  'first_name': 'Zhou',\n  'height_feet': None,\n  'height_inches': None,\n  'last_name': 'Qi',\n  'position': 'F-C',\n  'team': {'id': 11,\n   'abbreviation': 'HOU',\n   'city': 'Houston',\n   'conference': 'West',\n   'division': 'Southwest',\n   'full_name': 'Houston Rockets',\n   'name': 'Rockets'},\n  'weight_pounds': None},\n {'id': 388,\n  'first_name': 'Zach',\n  'height_feet': None,\n  'height_inches': None,\n  'last_name': 'Randolph',\n  'position': 'F',\n  'team': {'id': 26,\n   'abbreviation': 'SAC',\n   'city': 'Sacramento',\n   'conference': 'West',\n   'division': 'Pacific',\n   'full_name': 'Sacramento Kings',\n   'name': 'Kings'},\n  'weight_pounds': None},\n {'id': 430,\n  'first_name': 'DJ',\n  'height_feet': None,\n  'height_inches': None,\n  'last_name': 'Stephens',\n  'position': 'G-F',\n  'team': {'id': 15,\n   'abbreviation': 'MEM',\n   'city': 'Memphis',\n   'conference': 'West',\n   'division': 'Southwest',\n   'full_name': 'Memphis Grizzlies',\n   'name': 'Grizzlies'},\n  'weight_pounds': None},\n {'id': 437,\n  'first_name': 'Milos',\n  'height_feet': None,\n  'height_inches': None,\n  'last_name': 'Teodosic',\n  'position': 'G',\n  'team': {'id': 13,\n   'abbreviation': 'LAC',\n   'city': 'LA',\n   'conference': 'West',\n   'division': 'Pacific',\n   'full_name': 'LA Clippers',\n   'name': 'Clippers'},\n  'weight_pounds': None},\n {'id': 448,\n  'first_name': 'Gary',\n  'height_feet': None,\n  'height_inches': None,\n  'last_name': 'Trent Jr.',\n  'position': 'G',\n  'team': {'id': 25,\n   'abbreviation': 'POR',\n   'city': 'Portland',\n   'conference': 'West',\n   'division': 'Northwest',\n   'full_name': 'Portland Trail Blazers',\n   'name': 'Trail Blazers'},\n  'weight_pounds': None},\n {'id': 494,\n  'first_name': 'Michael',\n  'height_feet': None,\n  'height_inches': None,\n  'last_name': 'Smith',\n  'position': '',\n  'team': {'id': 2,\n   'abbreviation': 'BOS',\n   'city': 'Boston',\n   'conference': 'East',\n   'division': 'Atlantic',\n   'full_name': 'Boston Celtics',\n   'name': 'Celtics'},\n  'weight_pounds': None},\n {'id': 495,\n  'first_name': 'John',\n  'height_feet': None,\n  'height_inches': None,\n  'last_name': 'Morton',\n  'position': '',\n  'team': {'id': 6,\n   'abbreviation': 'CLE',\n   'city': 'Cleveland',\n   'conference': 'East',\n   'division': 'Central',\n   'full_name': 'Cleveland Cavaliers',\n   'name': 'Cavaliers'},\n  'weight_pounds': None},\n {'id': 496,\n  'first_name': 'Howard',\n  'height_feet': None,\n  'height_inches': None,\n  'last_name': 'Wright',\n  'position': '',\n  'team': {'id': 1,\n   'abbreviation': 'ATL',\n   'city': 'Atlanta',\n   'conference': 'East',\n   'division': 'Southeast',\n   'full_name': 'Atlanta Hawks',\n   'name': 'Hawks'},\n  'weight_pounds': None},\n {'id': 497,\n  'first_name': 'Michael',\n  'height_feet': None,\n  'height_inches': None,\n  'last_name': 'Ansley',\n  'position': '',\n  'team': {'id': 22,\n   'abbreviation': 'ORL',\n   'city': 'Orlando',\n   'conference': 'East',\n   'division': 'Southeast',\n   'full_name': 'Orlando Magic',\n   'name': 'Magic'},\n  'weight_pounds': None}]"
     },
     "execution_count": 14,
     "metadata": {},
     "output_type": "execute_result"
    }
   ],
   "source": [
    "resp.json()['data']"
   ],
   "metadata": {
    "collapsed": false
   }
  },
  {
   "cell_type": "code",
   "execution_count": null,
   "outputs": [],
   "source": [],
   "metadata": {
    "collapsed": false
   }
  }
 ],
 "metadata": {
  "kernelspec": {
   "display_name": "Python 3 (ipykernel)",
   "language": "python",
   "name": "python3"
  },
  "language_info": {
   "codemirror_mode": {
    "name": "ipython",
    "version": 3
   },
   "file_extension": ".py",
   "mimetype": "text/x-python",
   "name": "python",
   "nbconvert_exporter": "python",
   "pygments_lexer": "ipython3",
   "version": "3.8.13"
  }
 },
 "nbformat": 4,
 "nbformat_minor": 4
}
