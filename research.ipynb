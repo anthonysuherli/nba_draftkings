{
 "cells": [
  {
   "cell_type": "code",
   "execution_count": 8,
   "outputs": [],
   "source": [
    "import requests\n",
    "resp = requests.get('https://www.draftkings.com/lineup/getavailableplayerscsv?contestTypeId=70&draftGroupId=75812')"
   ],
   "metadata": {
    "collapsed": false
   }
  },
  {
   "cell_type": "code",
   "execution_count": 10,
   "outputs": [
    {
     "data": {
      "text/plain": "'Position,Name + ID,Name,ID,Roster Position,Salary,Game Info,TeamAbbrev,AvgPointsPerGame\\r\\nPF/C,Giannis Antetokounmpo (24725319),Giannis Antetokounmpo,24725319,PF/C/F/UTIL,9900,MIL@CHI 10/11/2022 08:00PM ET,MIL,58.78\\r\\nPG,Damian Lillard (24725323),Damian Lillard,24725323,PG/G/UTIL,9600,POR@GSW 10/11/2022 10:00PM ET,POR,42.60\\r\\nPG,Ja Morant (24725326),Ja Morant,24725326,PG/G/UTIL,9500,MEM@ORL 10/11/2022 07:00PM ET,MEM,48.52\\r\\nPG,Shai Gilgeous-Alexander (24725329),Shai Gilgeous-Alexander,24725329,PG/G/UTIL,9400,OKC@DET 10/11/2022 07:00PM ET,OKC,43.37\\r\\nPG,Stephen Curry (24725332),Stephen Curry,24725332,PG/G/UTIL,9300,POR@GSW 10/11/2022 10:00PM ET,GSW,46.15\\r\\nPG,Cade Cunningham (24725335),Cade Cunningham,24725335,PG/G/UTIL,9200,OKC@DET 10/11/2022 07:00PM ET,DET,35.84\\r\\nC,Jusuf Nurkic (24725338),Jusuf Nurkic,24725338,C/UTIL,9100,POR@GSW 10/11/2022 10:00PM ET,POR,36.15\\r\\nSF/PF,DeMar DeRozan (24725340),DeMar DeRozan,24725340,SF/PF/F/UTIL,9000,MIL@CHI 10/11/2022 08:00PM ET,CHI,43.05\\r\\nPG,Jrue Holiday (24725344),Jrue Holiday,24725344,PG/G/UTIL,8800,MIL@CHI 10/11/2022 08:00PM ET,MIL,38.41\\r\\nPG/SG,Jordan Poole (24725347),Jordan Poole,24725347,PG/SG/G/UTIL,8700,POR@GSW 10/11/2022 10:00PM ET,GSW,30.52\\r\\nC,Nikola Vucevic (24725351),Nikola Vucevic,24725351,C/UTIL,8600,MIL@CHI 10/11/2022 08:00PM ET,CHI,41.05\\r\\nC,Wendell Carter Jr. (24725353),Wendell Carter Jr.,24725353,C/UTIL,8500,MEM@ORL 10/11/2022 07:00PM ET,ORL,35.18\\r\\nPG/SG,Josh Giddey (24725355),Josh Giddey,24725355,PG/SG/G/UTIL,8400,OKC@DET 10/11/2022 07:00PM ET,OKC,34.04\\r\\nSF,Khris Middleton (24725359),Khris Middleton,24725359,SF/F/UTIL,8300,MIL@CHI 10/11/2022 08:00PM ET,MIL,37.54\\r\\nSG/SF,Josh Hart (24725362),Josh Hart,24725362,SG/SF/F/G/UTIL,8100,POR@GSW 10/11/2022 10:00PM ET,POR,32.84\\r\\nSG,Anfernee Simons (24725367),Anfernee Simons,24725367,SG/G/UTIL,7900,POR@GSW 10/11/2022 10:00PM ET,POR,28.34\\r\\nSG,Klay Thompson (24725370),Klay Thompson,24725370,SG/G/UTIL,7700,POR@GSW 10/11/2022 10:00PM ET,GSW,32.33\\r\\nSG,Zach LaVine (24725373),Zach LaVine,24725373,SG/G/UTIL,7600,MIL@CHI 10/11/2022 08:00PM ET,CHI,38.85\\r\\nSG,Desmond Bane (24725376),Desmond Bane,24725376,SG/G/UTIL,7500,MEM@ORL 10/11/2022 07:00PM ET,MEM,31.68\\r\\nPF/C,Mo Bamba (24725379),Mo Bamba,24725379,PF/C/F/UTIL,7400,MEM@ORL 10/11/2022 07:00PM ET,ORL,27.54\\r\\nSF,Saddiq Bey (24725383),Saddiq Bey,24725383,SF/F/UTIL,7200,OKC@DET 10/11/2022 07:00PM ET,DET,30.08\\r\\nC,Drew Eubanks (24725386),Drew Eubanks,24725386,C/UTIL,6900,POR@GSW 10/11/2022 10:00PM ET,POR,17.82\\r\\nPF/C,Trendon Watford (24725388),Trendon Watford,24725388,PF/C/F/UTIL,6800,POR@GSW 10/11/2022 10:00PM ET,POR,17.20\\r\\nPG,Mike Conley (24725392),Mike Conley,24725392,PG/G/UTIL,6500,SAS@UTA 10/11/2022 09:00PM ET,UTA,28.55\\r\\nPF,Jerami Grant (24725395),Jerami Grant,24725395,PF/F/UTIL,6300,POR@GSW 10/11/2022 10:00PM ET,POR,31.91\\r\\nPF/C,Aleksej Pokusevski (24725398),Aleksej Pokusevski,24725398,PF/C/F/UTIL,6200,OKC@DET 10/11/2022 07:00PM ET,OKC,19.74\\r\\nPG/SG,Alec Burks (24725402),Alec Burks,24725402,PG/SG/G/UTIL,6100,OKC@DET 10/11/2022 07:00PM ET,DET,25.39\\r\\nC,Moritz Wagner (24725406),Moritz Wagner,24725406,C/UTIL,6000,MEM@ORL 10/11/2022 07:00PM ET,ORL,16.82\\r\\nSG/SF,Jordan Nwora (24725408),Jordan Nwora,24725408,SG/SF/F/G/UTIL,5900,MIL@CHI 10/11/2022 08:00PM ET,MIL,13.74\\r\\nC,Andre Drummond (24725417),Andre Drummond,24725417,C/UTIL,5800,MIL@CHI 10/11/2022 08:00PM ET,CHI,25.15\\r\\nPG/SG,Jordan Clarkson (24725413),Jordan Clarkson,24725413,PG/SG/G/UTIL,5800,SAS@UTA 10/11/2022 09:00PM ET,UTA,26.38\\r\\nPF/C,Bobby Portis (24725426),Bobby Portis,24725426,PF/C/F/UTIL,5700,MIL@CHI 10/11/2022 08:00PM ET,MIL,30.74\\r\\nSG/SF,Dillon Brooks (24725421),Dillon Brooks,24725421,SG/SF/F/G/UTIL,5700,MEM@ORL 10/11/2022 07:00PM ET,MEM,28.10\\r\\nC,Isaiah Roby (24725419),Isaiah Roby,24725419,C/UTIL,5700,SAS@UTA 10/11/2022 09:00PM ET,SAS,21.74\\r\\nPG,Cole Anthony (24725430),Cole Anthony,24725430,PG/G/UTIL,5600,MEM@ORL 10/11/2022 07:00PM ET,ORL,33.4\\r\\nSF/PF,Lauri Markkanen (24725435),Lauri Markkanen,24725435,SF/PF/F/UTIL,5600,SAS@UTA 10/11/2022 09:00PM ET,UTA,27.26\\r\\nC,Marvin Bagley III (24725433),Marvin Bagley III,24725433,C/UTIL,5600,OKC@DET 10/11/2022 07:00PM ET,DET,22.90\\r\\nPF/C,Sandro Mamukelashvili (24725456),Sandro Mamukelashvili,24725456,PF/C/F/UTIL,5500,MIL@CHI 10/11/2022 08:00PM ET,MIL,8.06\\r\\nPG,Tyus Jones (24725445),Tyus Jones,24725445,PG/G/UTIL,5500,MEM@ORL 10/11/2022 07:00PM ET,MEM,20.80\\r\\nSF/PF,Chuma Okeke (24725448),Chuma Okeke,24725448,SF/PF/F/UTIL,5500,MEM@ORL 10/11/2022 07:00PM ET,ORL,21.84\\r\\nPF,Keldon Johnson (24725439),Keldon Johnson,24725439,PF/F/UTIL,5500,SAS@UTA 10/11/2022 09:00PM ET,SAS,30.26\\r\\nPG/SG,Collin Sexton (24725452),Collin Sexton,24725452,PG/SG/G/UTIL,5500,SAS@UTA 10/11/2022 09:00PM ET,UTA,24.14\\r\\nSF,Luguentz Dort (24725442),Luguentz Dort,24725442,SF/F/UTIL,5500,OKC@DET 10/11/2022 07:00PM ET,OKC,27.90\\r\\nPF/C,Draymond Green (24725460),Draymond Green,24725460,PF/C/F/UTIL,5400,POR@GSW 10/11/2022 10:00PM ET,GSW,30.44\\r\\nPG/SG,Brandon Williams (24725464),Brandon Williams,24725464,PG/SG/G/UTIL,5400,POR@GSW 10/11/2022 10:00PM ET,POR,25\\r\\nC,Steven Adams (24725468),Steven Adams,24725468,C/UTIL,5400,MEM@ORL 10/11/2022 07:00PM ET,MEM,26.29\\r\\nC,Cody Zeller (24725470),Cody Zeller,24725470,C/UTIL,5400,SAS@UTA 10/11/2022 09:00PM ET,UTA,12.88\\r\\nC,Tony Bradley (24725488),Tony Bradley,24725488,C/UTIL,5300,MIL@CHI 10/11/2022 08:00PM ET,CHI,9.15\\r\\nPG,Jevon Carter (24725490),Jevon Carter,24725490,PG/G/UTIL,5300,MIL@CHI 10/11/2022 08:00PM ET,MIL,9.39\\r\\nSF,Franz Wagner (24725477),Franz Wagner,24725477,SF/F/UTIL,5300,MEM@ORL 10/11/2022 07:00PM ET,ORL,27.65\\r\\nSG/SF,John Konchar (24725480),John Konchar,24725480,SG/SF/F/G/UTIL,5300,MEM@ORL 10/11/2022 07:00PM ET,MEM,14.06\\r\\nC,Jakob Poeltl (24725472),Jakob Poeltl,24725472,C/UTIL,5300,SAS@UTA 10/11/2022 09:00PM ET,SAS,33.90\\r\\nSF,Simone Fontecchio (24725485),Simone Fontecchio,24725485,SF/F/UTIL,5300,SAS@UTA 10/11/2022 09:00PM ET,UTA,0\\r\\nPF,Bojan Bogdanovic (24725474),Bojan Bogdanovic,24725474,PF/F/UTIL,5300,OKC@DET 10/11/2022 07:00PM ET,DET,27.49\\r\\nSF/PF,Derrick Jones Jr. (24725511),Derrick Jones Jr.,24725511,SF/PF/F/UTIL,5200,MIL@CHI 10/11/2022 08:00PM ET,CHI,12.25\\r\\nPF/C,Serge Ibaka (24725520),Serge Ibaka,24725520,PF/C/F/UTIL,5200,MIL@CHI 10/11/2022 08:00PM ET,MIL,14.35\\r\\nC,James Wiseman (24725515),James Wiseman,24725515,C/UTIL,5200,POR@GSW 10/11/2022 10:00PM ET,GSW,0\\r\\nPG/SG,R.J. Hampton (24725504),R.J. Hampton,24725504,PG/SG/G/UTIL,5200,MEM@ORL 10/11/2022 07:00PM ET,ORL,16.67\\r\\nPF,Brandon Clarke (24725517),Brandon Clarke,24725517,PF/F/UTIL,5200,MEM@ORL 10/11/2022 07:00PM ET,MEM,23.06\\r\\nPG,Tre Jones (24725497),Tre Jones,24725497,PG/G/UTIL,5200,SAS@UTA 10/11/2022 09:00PM ET,SAS,15.02\\r\\nPF,Stanley Johnson (24725508),Stanley Johnson,24725508,PF/F/UTIL,5200,SAS@UTA 10/11/2022 09:00PM ET,UTA,15.56\\r\\nPF/C,Darius Bazley (24725493),Darius Bazley,24725493,PF/C/F/UTIL,5200,OKC@DET 10/11/2022 07:00PM ET,OKC,24.59\\r\\nPF/C,Isaiah Stewart (24725500),Isaiah Stewart,24725500,PF/C/F/UTIL,5200,OKC@DET 10/11/2022 07:00PM ET,DET,23.47\\r\\nSF/PF,Javonte Green (24725546),Javonte Green,24725546,SF/PF/F/UTIL,5100,MIL@CHI 10/11/2022 08:00PM ET,CHI,16.41\\r\\nPG/SG,George Hill (24725554),George Hill,24725554,PG/SG/G/UTIL,5100,MIL@CHI 10/11/2022 08:00PM ET,MIL,13.91\\r\\nSG/SF,Terrence Ross (24725541),Terrence Ross,24725541,SG/SF/F/G/UTIL,5100,MEM@ORL 10/11/2022 07:00PM ET,ORL,17.23\\r\\nPG/SG,Jacob Gilyard (24725550),Jacob Gilyard,24725550,PG/SG/G/UTIL,5100,MEM@ORL 10/11/2022 07:00PM ET,MEM,0\\r\\nPF/C,Santi Aldama (24725558),Santi Aldama,24725558,PF/C/F/UTIL,5100,MEM@ORL 10/11/2022 07:00PM ET,MEM,9.44\\r\\nSG/SF,Devin Vassell (24725524),Devin Vassell,24725524,SG/SF/F/G/UTIL,5100,SAS@UTA 10/11/2022 09:00PM ET,SAS,24.54\\r\\nSG/SF,Malik Beasley (24725536),Malik Beasley,24725536,SG/SF/F/G/UTIL,5100,SAS@UTA 10/11/2022 09:00PM ET,UTA,20.12\\r\\nPG/SG,Tre Mann (24725529),Tre Mann,24725529,PG/SG/G/UTIL,5100,OKC@DET 10/11/2022 07:00PM ET,OKC,18.45\\r\\nPG,Killian Hayes (24725533),Killian Hayes,24725533,PG/G/UTIL,5100,OKC@DET 10/11/2022 07:00PM ET,DET,20.10\\r\\nPG,Goran Dragic (24725576),Goran Dragic,24725576,PG/G/UTIL,5000,MIL@CHI 10/11/2022 08:00PM ET,CHI,18.89\\r\\nPF,Thanasis Antetokounmpo (24725588),Thanasis Antetokounmpo,24725588,PF/F/UTIL,5000,MIL@CHI 10/11/2022 08:00PM ET,MIL,6.92\\r\\nSF,Andrew Wiggins (24725562),Andrew Wiggins,24725562,SF/F/UTIL,5000,POR@GSW 10/11/2022 10:00PM ET,GSW,30.66\\r\\nSF/PF,Aleem Ford (24725572),Aleem Ford,24725572,SF/PF/F/UTIL,5000,MEM@ORL 10/11/2022 07:00PM ET,ORL,7.35\\r\\nSF/PF,Justin Bean (24725584),Justin Bean,24725584,SF/PF/F/UTIL,5000,MEM@ORL 10/11/2022 07:00PM ET,MEM,0\\r\\nPF/C,Zach Collins (24725565),Zach Collins,24725565,PF/C/F/UTIL,5000,SAS@UTA 10/11/2022 09:00PM ET,SAS,19.60\\r\\nPG,Nickeil Alexander-Walker (24725569),Nickeil Alexander-Walker,24725569,PG/G/UTIL,5000,SAS@UTA 10/11/2022 09:00PM ET,UTA,19.95\\r\\nSG/SF,Talen Horton-Tucker (24725591),Talen Horton-Tucker,24725591,SG/SF/F/G/UTIL,5000,SAS@UTA 10/11/2022 09:00PM ET,UTA,20.63\\r\\nSG/SF,Rodney McGruder (24725579),Rodney McGruder,24725579,SG/SF/F/G/UTIL,5000,OKC@DET 10/11/2022 07:00PM ET,DET,10.92\\r\\nPG/SG,Alex Caruso (24725603),Alex Caruso,24725603,PG/SG/G/UTIL,4900,MIL@CHI 10/11/2022 08:00PM ET,CHI,21.95\\r\\nC,Brook Lopez (24725614),Brook Lopez,24725614,C/UTIL,4900,MIL@CHI 10/11/2022 08:00PM ET,MIL,22.48\\r\\nPG/SG,Zavier Simpson (24725599),Zavier Simpson,24725599,PG/SG/G/UTIL,4900,MEM@ORL 10/11/2022 07:00PM ET,ORL,32.19\\r\\nC,Kenneth Lofton Jr. (24725612),Kenneth Lofton Jr.,24725612,C/UTIL,4900,MEM@ORL 10/11/2022 07:00PM ET,MEM,0\\r\\nPF,Rudy Gay (24725596),Rudy Gay,24725596,PF/F/UTIL,4900,SAS@UTA 10/11/2022 09:00PM ET,UTA,16.94\\r\\nC,Gorgui Dieng (24725610),Gorgui Dieng,24725610,C/UTIL,4900,SAS@UTA 10/11/2022 09:00PM ET,SAS,8.79\\r\\nPG,Cory Joseph (24725607),Cory Joseph,24725607,PG/G/UTIL,4900,OKC@DET 10/11/2022 07:00PM ET,DET,18.49\\r\\nC,Jaylin Williams (24725616),Jaylin Williams,24725616,C/UTIL,4900,OKC@DET 10/11/2022 07:00PM ET,OKC,0\\r\\nPG/SG,Coby White (24725628),Coby White,24725628,PG/SG/G/UTIL,4800,MIL@CHI 10/11/2022 08:00PM ET,CHI,22.09\\r\\nSG/SF,Grayson Allen (24725650),Grayson Allen,24725650,SG/SF/F/G/UTIL,4800,MIL@CHI 10/11/2022 08:00PM ET,MIL,19.77\\r\\nSF/PF,Justise Winslow (24725618),Justise Winslow,24725618,SF/PF/F/UTIL,4800,POR@GSW 10/11/2022 10:00PM ET,POR,15.80\\r\\nPG/SG,Ryan Rollins (24725632),Ryan Rollins,24725632,PG/SG/G/UTIL,4800,POR@GSW 10/11/2022 10:00PM ET,GSW,0\\r\\nSG,Kevon Harris (24725625),Kevon Harris,24725625,SG/G/UTIL,4800,MEM@ORL 10/11/2022 07:00PM ET,ORL,0\\r\\nSG/SF,Vince Williams Jr. (24725645),Vince Williams Jr.,24725645,SG/SF/F/G/UTIL,4800,MEM@ORL 10/11/2022 07:00PM ET,MEM,0\\r\\nPF,Jarred Vanderbilt (24725622),Jarred Vanderbilt,24725622,PF/F/UTIL,4800,SAS@UTA 10/11/2022 09:00PM ET,UTA,22.55\\r\\nSG/SF,Josh Richardson (24725636),Josh Richardson,24725636,SG/SF/F/G/UTIL,4800,SAS@UTA 10/11/2022 09:00PM ET,SAS,19.37\\r\\nPG/SG,Joshua Primo (24725641),Joshua Primo,24725641,PG/SG/G/UTIL,4800,SAS@UTA 10/11/2022 09:00PM ET,SAS,12.45\\r\\nSG,Lindy Waters III (24725655),Lindy Waters III,24725655,SG/G/UTIL,4800,OKC@DET 10/11/2022 07:00PM ET,OKC,17.39\\r\\nPG,Carlik Jones (24725666),Carlik Jones,24725666,PG/G/UTIL,4700,MIL@CHI 10/11/2022 08:00PM ET,CHI,3.15\\r\\nSG/SF,Pat Connaughton (24725679),Pat Connaughton,24725679,SG/SF/F/G/UTIL,4700,MIL@CHI 10/11/2022 08:00PM ET,MIL,19.92\\r\\nSF,Nassir Little (24725658),Nassir Little,24725658,SF/F/UTIL,4700,POR@GSW 10/11/2022 10:00PM ET,POR,21.86\\r\\nSF,Caleb Houstan (24725663),Caleb Houstan,24725663,SF/F/UTIL,4700,MEM@ORL 10/11/2022 07:00PM ET,ORL,0\\r\\nPG,Kennedy Chandler (24725676),Kennedy Chandler,24725676,PG/G/UTIL,4700,MEM@ORL 10/11/2022 07:00PM ET,MEM,0\\r\\nC,Kelly Olynyk (24725661),Kelly Olynyk,24725661,C/UTIL,4700,SAS@UTA 10/11/2022 09:00PM ET,UTA,21.13\\r\\nSF/PF,Keita Bates-Diop (24725672),Keita Bates-Diop,24725672,SF/PF/F/UTIL,4700,SAS@UTA 10/11/2022 09:00PM ET,SAS,12.60\\r\\nPF,Braxton Key (24725669),Braxton Key,24725669,PF/F/UTIL,4700,OKC@DET 10/11/2022 07:00PM ET,DET,17.96\\r\\nSF,Aaron Wiggins (24725684),Aaron Wiggins,24725684,SF/F/UTIL,4700,OKC@DET 10/11/2022 07:00PM ET,OKC,16.29\\r\\nPG/SG,Javon Freeman-Liberty (24725696),Javon Freeman-Liberty,24725696,PG/SG/G/UTIL,4600,MIL@CHI 10/11/2022 08:00PM ET,CHI,0\\r\\nC,Marques Bolden (24725713),Marques Bolden,24725713,C/UTIL,4600,MIL@CHI 10/11/2022 08:00PM ET,MIL,0\\r\\nSG/SF,Keon Johnson (24725687),Keon Johnson,24725687,SG/SF/F/G/UTIL,4600,POR@GSW 10/11/2022 10:00PM ET,POR,15.03\\r\\nPG/SG,Devin Cannady (24725692),Devin Cannady,24725692,PG/SG/G/UTIL,4600,MEM@ORL 10/11/2022 07:00PM ET,ORL,18.7\\r\\nSG/SF,David Roddy (24725708),David Roddy,24725708,SG/SF/F/G/UTIL,4600,MEM@ORL 10/11/2022 07:00PM ET,MEM,0\\r\\nSF/PF,Doug McDermott (24725704),Doug McDermott,24725704,SF/PF/F/UTIL,4600,SAS@UTA 10/11/2022 09:00PM ET,SAS,17.42\\r\\nSF/PF,Isaiah Livers (24725700),Isaiah Livers,24725700,SF/PF/F/UTIL,4600,OKC@DET 10/11/2022 07:00PM ET,DET,14.28\\r\\nSG/SF,Jalen Williams (24725715),Jalen Williams,24725715,SG/SF/F/G/UTIL,4600,OKC@DET 10/11/2022 07:00PM ET,OKC,0\\r\\nSF,Malcolm Hill (24725726),Malcolm Hill,24725726,SF/F/UTIL,4500,MIL@CHI 10/11/2022 08:00PM ET,CHI,8.04\\r\\nSG,AJ Green (24725747),AJ Green,24725747,SG/G/UTIL,4500,MIL@CHI 10/11/2022 08:00PM ET,MIL,0\\r\\nPG,Ty Jerome (24725733),Ty Jerome,24725733,PG/G/UTIL,4500,POR@GSW 10/11/2022 10:00PM ET,GSW,14.16\\r\\nSF/PF,Andre Iguodala (24725736),Andre Iguodala,24725736,SF/PF/F/UTIL,4500,POR@GSW 10/11/2022 10:00PM ET,GSW,14.55\\r\\nSG,Wes Iwundu (24725756),Wes Iwundu,24725756,SG/G/UTIL,4500,POR@GSW 10/11/2022 10:00PM ET,POR,13.75\\r\\nPG/SG,Gary Payton II (24725759),Gary Payton II,24725759,PG/SG/G/UTIL,4500,POR@GSW 10/11/2022 10:00PM ET,POR,16.11\\r\\nPF,Paolo Banchero (24725723),Paolo Banchero,24725723,PF/F/UTIL,4500,MEM@ORL 10/11/2022 07:00PM ET,ORL,0\\r\\nPF,Jake LaRavia (24725744),Jake LaRavia,24725744,PF/F/UTIL,4500,MEM@ORL 10/11/2022 07:00PM ET,MEM,0\\r\\nSF,Johnny Juzang (24725720),Johnny Juzang,24725720,SF/F/UTIL,4500,SAS@UTA 10/11/2022 09:00PM ET,UTA,0\\r\\nPF/C,Alize Johnson (24725740),Alize Johnson,24725740,PF/C/F/UTIL,4500,SAS@UTA 10/11/2022 09:00PM ET,SAS,5.86\\r\\nSF/PF,Kevin Knox II (24725729),Kevin Knox II,24725729,SF/PF/F/UTIL,4500,OKC@DET 10/11/2022 07:00PM ET,DET,6.42\\r\\nSF/PF,Ousmane Dieng (24725750),Ousmane Dieng,24725750,SF/PF/F/UTIL,4500,OKC@DET 10/11/2022 07:00PM ET,OKC,0\\r\\nC,Jeremiah Robinson-Earl (24725754),Jeremiah Robinson-Earl,24725754,C/UTIL,4500,OKC@DET 10/11/2022 07:00PM ET,OKC,18.04\\r\\nPF/C,Marko Simonovic (24725773),Marko Simonovic,24725773,PF/C/F/UTIL,4400,MIL@CHI 10/11/2022 08:00PM ET,CHI,3.67\\r\\nSF,Marjon Beauchamp (24725793),Marjon Beauchamp,24725793,SF/F/UTIL,4400,MIL@CHI 10/11/2022 08:00PM ET,MIL,0\\r\\nPG/SG,Donte DiVincenzo (24725763),Donte DiVincenzo,24725763,PG/SG/G/UTIL,4400,POR@GSW 10/11/2022 10:00PM ET,GSW,21.01\\r\\nSG,Pat Spencer (24725780),Pat Spencer,24725780,SG/G/UTIL,4400,POR@GSW 10/11/2022 10:00PM ET,GSW,0\\r\\nSF,Jared Rhoden (24725800),Jared Rhoden,24725800,SF/F/UTIL,4400,POR@GSW 10/11/2022 10:00PM ET,POR,0\\r\\nC,Greg Brown (24725803),Greg Brown,24725803,C/UTIL,4400,POR@GSW 10/11/2022 10:00PM ET,POR,11.20\\r\\nPG/SG,Jalen Suggs (24725769),Jalen Suggs,24725769,PG/SG/G/UTIL,4400,MEM@ORL 10/11/2022 07:00PM ET,ORL,25.00\\r\\nSG/SF,Ziaire Williams (24725788),Ziaire Williams,24725788,SG/SF/F/G/UTIL,4400,MEM@ORL 10/11/2022 07:00PM ET,MEM,13.64\\r\\nC,Walker Kessler (24725767),Walker Kessler,24725767,C/UTIL,4400,SAS@UTA 10/11/2022 09:00PM ET,UTA,0\\r\\nSG/SF,Malaki Branham (24725783),Malaki Branham,24725783,SG/SF/F/G/UTIL,4400,SAS@UTA 10/11/2022 09:00PM ET,SAS,0\\r\\nSG,Jaden Ivey (24725777),Jaden Ivey,24725777,SG/G/UTIL,4400,OKC@DET 10/11/2022 07:00PM ET,DET,0\\r\\nSF/PF,Kenrich Williams (24725796),Kenrich Williams,24725796,SF/PF/F/UTIL,4400,OKC@DET 10/11/2022 07:00PM ET,OKC,18.48\\r\\nPG/SG,Ayo Dosunmu (24725810),Ayo Dosunmu,24725810,PG/SG/G/UTIL,4300,MIL@CHI 10/11/2022 08:00PM ET,CHI,18.90\\r\\nPG,Lindell Wigginton (24725830),Lindell Wigginton,24725830,PG/G/UTIL,4300,MIL@CHI 10/11/2022 08:00PM ET,MIL,8.22\\r\\nPF,Patrick Baldwin Jr. (24725819),Patrick Baldwin Jr.,24725819,PF/F/UTIL,4300,POR@GSW 10/11/2022 10:00PM ET,GSW,0\\r\\nC,Olivier Sarr (24725837),Olivier Sarr,24725837,C/UTIL,4300,POR@GSW 10/11/2022 10:00PM ET,POR,15.31\\r\\nC,Bol Bol (24725808),Bol Bol,24725808,C/UTIL,4300,MEM@ORL 10/11/2022 07:00PM ET,ORL,5.38\\r\\nSF,Ochai Agbaji (24725805),Ochai Agbaji,24725805,SF/F/UTIL,4300,SAS@UTA 10/11/2022 09:00PM ET,UTA,0\\r\\nSF,Dominick Barlow (24725822),Dominick Barlow,24725822,SF/F/UTIL,4300,SAS@UTA 10/11/2022 09:00PM ET,SAS,0\\r\\nSG/SF,Romeo Langford (24725825),Romeo Langford,24725825,SG/SF/F/G/UTIL,4300,SAS@UTA 10/11/2022 09:00PM ET,SAS,9.73\\r\\nSG/SF,Hamidou Diallo (24725814),Hamidou Diallo,24725814,SG/SF/F/G/UTIL,4300,OKC@DET 10/11/2022 07:00PM ET,DET,21.68\\r\\nPG/SG,Trey Burke (24725833),Trey Burke,24725833,PG/SG/G/UTIL,4300,OKC@DET 10/11/2022 07:00PM ET,OKC,7.88\\r\\nSF/PF,Patrick Williams (24725849),Patrick Williams,24725849,SF/PF/F/UTIL,4200,MIL@CHI 10/11/2022 08:00PM ET,CHI,18.86\\r\\nPG,Luca Vildoza (24725865),Luca Vildoza,24725865,PG/G/UTIL,4200,MIL@CHI 10/11/2022 08:00PM ET,MIL,2.57\\r\\nSF/PF,Jonathan Kuminga (24725839),Jonathan Kuminga,24725839,SF/PF/F/UTIL,4200,POR@GSW 10/11/2022 10:00PM ET,GSW,14.79\\r\\nSF,Anthony Lamb (24725856),Anthony Lamb,24725856,SF/F/UTIL,4200,POR@GSW 10/11/2022 10:00PM ET,GSW,2.12\\r\\nPF,Jabari Walker (24725870),Jabari Walker,24725870,PF/F/UTIL,4200,POR@GSW 10/11/2022 10:00PM ET,POR,0\\r\\nSG,Gary Harris (24725846),Gary Harris,24725846,SG/G/UTIL,4200,MEM@ORL 10/11/2022 07:00PM ET,ORL,18.97\\r\\nC,Xavier Tillman (24725863),Xavier Tillman,24725863,C/UTIL,4200,MEM@ORL 10/11/2022 07:00PM ET,MEM,12.23\\r\\nPG,Jared Butler (24725843),Jared Butler,24725843,PG/G/UTIL,4200,SAS@UTA 10/11/2022 09:00PM ET,UTA,8.38\\r\\nSF/PF,Jeremy Sochan (24725859),Jeremy Sochan,24725859,SF/PF/F/UTIL,4200,SAS@UTA 10/11/2022 09:00PM ET,SAS,0\\r\\nPG,Kemba Walker (24725853),Kemba Walker,24725853,PG/G/UTIL,4200,OKC@DET 10/11/2022 07:00PM ET,DET,22.95\\r\\nC,Mike Muscala (24725868),Mike Muscala,24725868,C/UTIL,4200,OKC@DET 10/11/2022 07:00PM ET,OKC,15.22\\r\\nSG/SF,Dalen Terry (24725882),Dalen Terry,24725882,SG/SF/F/G/UTIL,4100,MIL@CHI 10/11/2022 08:00PM ET,CHI,0\\r\\nSG/SF,Wesley Matthews (24725897),Wesley Matthews,24725897,SG/SF/F/G/UTIL,4100,MIL@CHI 10/11/2022 08:00PM ET,MIL,10.96\\r\\nC,Kevon Looney (24725873),Kevon Looney,24725873,C/UTIL,4100,POR@GSW 10/11/2022 10:00PM ET,GSW,20.21\\r\\nSG/SF,Moses Moody (24725889),Moses Moody,24725889,SG/SF/F/G/UTIL,4100,POR@GSW 10/11/2022 10:00PM ET,GSW,7.4\\r\\nPG/SG,Shaedon Sharpe (24725904),Shaedon Sharpe,24725904,PG/SG/G/UTIL,4100,POR@GSW 10/11/2022 10:00PM ET,POR,0\\r\\nSF/PF,Jonathan Isaac (24725878),Jonathan Isaac,24725878,SF/PF/F/UTIL,4100,MEM@ORL 10/11/2022 07:00PM ET,ORL,0\\r\\nPG,Leandro Bolmaro (24725875),Leandro Bolmaro,24725875,PG/G/UTIL,4100,SAS@UTA 10/11/2022 09:00PM ET,UTA,4.09\\r\\nPF,Joe Wieskamp (24725894),Joe Wieskamp,24725894,PF/F/UTIL,4100,SAS@UTA 10/11/2022 09:00PM ET,SAS,3.86\\r\\nC,Nerlens Noel (24725887),Nerlens Noel,24725887,C/UTIL,4100,OKC@DET 10/11/2022 07:00PM ET,DET,16.31\\r\\nC,Marquese Chriss (24725902),Marquese Chriss,24725902,C/UTIL,4100,OKC@DET 10/11/2022 07:00PM ET,OKC,9.02\\r\\nPF,Kostas Antetokounmpo (24725908),Kostas Antetokounmpo,24725908,PF/F/UTIL,4000,MIL@CHI 10/11/2022 08:00PM ET,CHI,0\\r\\nPG,Lonzo Ball (24725916),Lonzo Ball,24725916,PG/G/UTIL,4000,MIL@CHI 10/11/2022 08:00PM ET,CHI,33.46\\r\\nSF/PF,Justin Lewis (24725927),Justin Lewis,24725927,SF/PF/F/UTIL,4000,MIL@CHI 10/11/2022 08:00PM ET,CHI,0\\r\\nPG/SF,Joe Ingles (24725971),Joe Ingles,24725971,PG/SF/F/G/UTIL,4000,MIL@CHI 10/11/2022 08:00PM ET,MIL,17.73\\r\\nPF/C,JaMychal Green (24725944),JaMychal Green,24725944,PF/C/F/UTIL,4000,POR@GSW 10/11/2022 10:00PM ET,GSW,14.43\\r\\nSF,Jerome Robinson (24725948),Jerome Robinson,24725948,SF/F/UTIL,4000,POR@GSW 10/11/2022 10:00PM ET,GSW,0\\r\\nPG,Lester Quinones (24725951),Lester Quinones,24725951,PG/G/UTIL,4000,POR@GSW 10/11/2022 10:00PM ET,GSW,0\\r\\nPG,Quinndary Weatherspoon (24725954),Quinndary Weatherspoon,24725954,PG/G/UTIL,4000,POR@GSW 10/11/2022 10:00PM ET,GSW,5.27\\r\\nPG,Isaiah Miller (24725989),Isaiah Miller,24725989,PG/G/UTIL,4000,POR@GSW 10/11/2022 10:00PM ET,POR,0\\r\\nC,Jaren Jackson Jr. (24725911),Jaren Jackson Jr.,24725911,C/UTIL,4000,MEM@ORL 10/11/2022 07:00PM ET,MEM,31.85\\r\\nPG,Markelle Fultz (24725913),Markelle Fultz,24725913,PG/G/UTIL,4000,MEM@ORL 10/11/2022 07:00PM ET,ORL,24.35\\r\\nSG,Danny Green (24725919),Danny Green,24725919,SG/G/UTIL,4000,MEM@ORL 10/11/2022 07:00PM ET,MEM,14.68\\r\\nSF,Admiral Schofield (24725924),Admiral Schofield,24725924,SF/F/UTIL,4000,MEM@ORL 10/11/2022 07:00PM ET,ORL,8.30\\r\\nPF/C,Killian Tillie (24725967),Killian Tillie,24725967,PF/C/F/UTIL,4000,MEM@ORL 10/11/2022 07:00PM ET,MEM,8.58\\r\\nC,Udoka Azubuike (24725922),Udoka Azubuike,24725922,C/UTIL,4000,SAS@UTA 10/11/2022 09:00PM ET,UTA,11.07\\r\\nPG/SG,Tommy Kuhse (24725957),Tommy Kuhse,24725957,PG/SG/G/UTIL,4000,SAS@UTA 10/11/2022 09:00PM ET,SAS,0\\r\\nPG,Jordan Hall (24725961),Jordan Hall,24725961,PG/G/UTIL,4000,SAS@UTA 10/11/2022 09:00PM ET,SAS,0\\r\\nPG,Blake Wesley (24725964),Blake Wesley,24725964,PG/G/UTIL,4000,SAS@UTA 10/11/2022 09:00PM ET,SAS,0\\r\\nPG/SG,Stanley Umude (24725931),Stanley Umude,24725931,PG/SG/G/UTIL,4000,OKC@DET 10/11/2022 07:00PM ET,DET,0\\r\\nPG/SG,Jules Bernard (24725935),Jules Bernard,24725935,PG/SG/G/UTIL,4000,OKC@DET 10/11/2022 07:00PM ET,DET,0\\r\\nSG,Buddy Boeheim (24725939),Buddy Boeheim,24725939,SG/G/UTIL,4000,OKC@DET 10/11/2022 07:00PM ET,DET,0\\r\\nC,Jalen Duren (24725942),Jalen Duren,24725942,C/UTIL,4000,OKC@DET 10/11/2022 07:00PM ET,DET,0\\r\\nSG/SF,David Nwaba (24725976),David Nwaba,24725976,SG/SF/F/G/UTIL,4000,OKC@DET 10/11/2022 07:00PM ET,OKC,12.33\\r\\nSG,Robert Woodard II (24725981),Robert Woodard II,24725981,SG/G/UTIL,4000,OKC@DET 10/11/2022 07:00PM ET,OKC,2.44\\r\\nPF,Eugene Omoruyi (24725984),Eugene Omoruyi,24725984,PF/F/UTIL,4000,OKC@DET 10/11/2022 07:00PM ET,OKC,4.81\\r\\nC,Chet Holmgren (24725987),Chet Holmgren,24725987,C/UTIL,4000,OKC@DET 10/11/2022 07:00PM ET,OKC,0\\r\\n'"
     },
     "execution_count": 10,
     "metadata": {},
     "output_type": "execute_result"
    }
   ],
   "source": [
    "\n",
    "resp.content.decode('utf-8')"
   ],
   "metadata": {
    "collapsed": false
   }
  },
  {
   "cell_type": "code",
   "execution_count": 7,
   "outputs": [
    {
     "data": {
      "text/plain": "Empty DataFrame\nColumns: [Position, Name + ID, Name, ID, Roster Position, Salary, Game Info, TeamAbbrev, AvgPointsPerGame\\r\\nPF/C, Giannis Antetokounmpo (24725319), Giannis Antetokounmpo, 24725319, PF/C/F/UTIL, 9900, MIL@CHI 10/11/2022 08:00PM ET, MIL, 58.78\\r\\nPG, Damian Lillard (24725323), Damian Lillard, 24725323, PG/G/UTIL, 9600, POR@GSW 10/11/2022 10:00PM ET, POR, 42.60\\r\\nPG, Ja Morant (24725326), Ja Morant, 24725326, PG/G/UTIL.1, 9500, MEM@ORL 10/11/2022 07:00PM ET, MEM, 48.52\\r\\nPG, Shai Gilgeous-Alexander (24725329), Shai Gilgeous-Alexander, 24725329, PG/G/UTIL.2, 9400, OKC@DET 10/11/2022 07:00PM ET, OKC, 43.37\\r\\nPG, Stephen Curry (24725332), Stephen Curry, 24725332, PG/G/UTIL.3, 9300, POR@GSW 10/11/2022 10:00PM ET.1, GSW, 46.15\\r\\nPG, Cade Cunningham (24725335), Cade Cunningham, 24725335, PG/G/UTIL.4, 9200, OKC@DET 10/11/2022 07:00PM ET.1, DET, 35.84\\r\\nC, Jusuf Nurkic (24725338), Jusuf Nurkic, 24725338, C/UTIL, 9100, POR@GSW 10/11/2022 10:00PM ET.2, POR.1, 36.15\\r\\nSF/PF, DeMar DeRozan (24725340), DeMar DeRozan, 24725340, SF/PF/F/UTIL, 9000, MIL@CHI 10/11/2022 08:00PM ET.1, CHI, 43.05\\r\\nPG, Jrue Holiday (24725344), Jrue Holiday, 24725344, PG/G/UTIL.5, 8800, MIL@CHI 10/11/2022 08:00PM ET.2, MIL.1, 38.41\\r\\nPG/SG, Jordan Poole (24725347), Jordan Poole, 24725347, PG/SG/G/UTIL, 8700, POR@GSW 10/11/2022 10:00PM ET.3, GSW.1, 30.52\\r\\nC, Nikola Vucevic (24725351), Nikola Vucevic, 24725351, C/UTIL.1, 8600, MIL@CHI 10/11/2022 08:00PM ET.3, CHI.1, 41.05\\r\\nC, Wendell Carter Jr. (24725353), Wendell Carter Jr., 24725353, ...]\nIndex: []\n\n[0 rows x 1593 columns]",
      "text/html": "<div>\n<style scoped>\n    .dataframe tbody tr th:only-of-type {\n        vertical-align: middle;\n    }\n\n    .dataframe tbody tr th {\n        vertical-align: top;\n    }\n\n    .dataframe thead th {\n        text-align: right;\n    }\n</style>\n<table border=\"1\" class=\"dataframe\">\n  <thead>\n    <tr style=\"text-align: right;\">\n      <th></th>\n      <th>Position</th>\n      <th>Name + ID</th>\n      <th>Name</th>\n      <th>ID</th>\n      <th>Roster Position</th>\n      <th>Salary</th>\n      <th>Game Info</th>\n      <th>TeamAbbrev</th>\n      <th>AvgPointsPerGame\\r\\nPF/C</th>\n      <th>Giannis Antetokounmpo (24725319)</th>\n      <th>...</th>\n      <th>OKC.18</th>\n      <th>4.81\\r\\nC</th>\n      <th>Chet Holmgren (24725987)</th>\n      <th>Chet Holmgren</th>\n      <th>24725987</th>\n      <th>C/UTIL.32</th>\n      <th>4000.25</th>\n      <th>OKC@DET 10/11/2022 07:00PM ET.39</th>\n      <th>OKC.19</th>\n      <th>0\\r\\n</th>\n    </tr>\n  </thead>\n  <tbody>\n  </tbody>\n</table>\n<p>0 rows × 1593 columns</p>\n</div>"
     },
     "execution_count": 7,
     "metadata": {},
     "output_type": "execute_result"
    }
   ],
   "source": [
    "import pandas as pd\n",
    "pd.read_csv('test.csv')"
   ],
   "metadata": {
    "collapsed": false
   }
  },
  {
   "cell_type": "code",
   "execution_count": 1,
   "outputs": [],
   "source": [
    "import warnings\n",
    "warnings.filterwarnings('ignore')\n",
    "\n",
    "from nba_api.stats.endpoints import playercareerstats, commonplayerinfo\n",
    "from nba_api.stats.static import players\n",
    "from tqdm.notebook import tqdm\n",
    "\n",
    "import pandas as pd\n",
    "\n",
    "with open('config.txt', 'r') as f:\n",
    "    names = f.read().split('\\n')\n",
    "\n",
    "def process_roster(path):\n",
    "    roster = pd.read_csv(path)\n",
    "    roster['Game'] = roster.Game.str.split('@').apply(lambda x: set([y.strip() for y in x]))\n",
    "    roster['Name'] = roster.Name\n",
    "    roster['TeamAbbrev'] = roster.TeamAbbrev.apply(lambda x: set([x]))\n",
    "    roster['OppAbbrev'] = roster.Game - roster.TeamAbbrev\n",
    "    roster['Team'] = roster.TeamAbbrev.apply(lambda x: list(x)[0])\n",
    "    roster['Opp'] = roster.OppAbbrev.apply(lambda x: list(x)[0])\n",
    "    roster.Time = pd.to_datetime(roster.Time)\n",
    "    roster.drop(['TeamAbbrev','OppAbbrev', 'Game'], axis = 1, inplace=True)\n",
    "    return roster[['Name','Position', 'ID', 'Time', 'Salary', 'Team', 'Opp']]"
   ],
   "metadata": {
    "collapsed": false
   }
  },
  {
   "cell_type": "code",
   "execution_count": 226,
   "outputs": [
    {
     "data": {
      "text/plain": "'{\"resource\": \"commonplayerinfo\", \"parameters\": [{\"PlayerID\": 203999}, {\"LeagueID\": null}], \"resultSets\": [{\"name\": \"CommonPlayerInfo\", \"headers\": [\"PERSON_ID\", \"FIRST_NAME\", \"LAST_NAME\", \"DISPLAY_FIRST_LAST\", \"DISPLAY_LAST_COMMA_FIRST\", \"DISPLAY_FI_LAST\", \"PLAYER_SLUG\", \"BIRTHDATE\", \"SCHOOL\", \"COUNTRY\", \"LAST_AFFILIATION\", \"HEIGHT\", \"WEIGHT\", \"SEASON_EXP\", \"JERSEY\", \"POSITION\", \"ROSTERSTATUS\", \"GAMES_PLAYED_CURRENT_SEASON_FLAG\", \"TEAM_ID\", \"TEAM_NAME\", \"TEAM_ABBREVIATION\", \"TEAM_CODE\", \"TEAM_CITY\", \"PLAYERCODE\", \"FROM_YEAR\", \"TO_YEAR\", \"DLEAGUE_FLAG\", \"NBA_FLAG\", \"GAMES_PLAYED_FLAG\", \"DRAFT_YEAR\", \"DRAFT_ROUND\", \"DRAFT_NUMBER\", \"GREATEST_75_FLAG\"], \"rowSet\": [[203999, \"Nikola\", \"Jokic\", \"Nikola Jokic\", \"Jokic, Nikola\", \"N. Jokic\", \"nikola-jokic\", \"1995-02-19T00:00:00\", \"Mega Basket\", \"Serbia\", \"Mega Basket/Serbia\", \"6-11\", \"284\", 7, \"15\", \"Center\", \"Active\", \"Y\", 1610612743, \"Nuggets\", \"DEN\", \"nuggets\", \"Denver\", \"nikola_jokic\", 2015, 2022, \"N\", \"Y\", \"Y\", \"2014\", \"2\", \"41\", \"N\"]]}, {\"name\": \"PlayerHeadlineStats\", \"headers\": [\"PLAYER_ID\", \"PLAYER_NAME\", \"TimeFrame\", \"PTS\", \"AST\", \"REB\", \"PIE\"], \"rowSet\": [[203999, \"Nikola Jokic\", \"2021-22\", 27.1, 7.9, 13.8, 0.23]]}, {\"name\": \"AvailableSeasons\", \"headers\": [\"SEASON_ID\"], \"rowSet\": [[\"12015\"], [\"22015\"], [\"12016\"], [\"22016\"], [\"12017\"], [\"22017\"], [\"12018\"], [\"22018\"], [\"32018\"], [\"42018\"], [\"12019\"], [\"22019\"], [\"32019\"], [\"42019\"], [\"12020\"], [\"22020\"], [\"32020\"], [\"42020\"], [\"12021\"], [\"22021\"], [\"32021\"], [\"42021\"], [\"12022\"]]}]}'"
     },
     "execution_count": 226,
     "metadata": {},
     "output_type": "execute_result"
    }
   ],
   "source": [
    "player_info.get_json()"
   ],
   "metadata": {
    "collapsed": false
   }
  },
  {
   "cell_type": "code",
   "execution_count": 215,
   "outputs": [
    {
     "data": {
      "text/plain": "             Position       ID                      Time   Salary Team  Opp  \\\nName                                                                          \nNikola Jokic        C   830650 2022-10-11 01:00:00+00:00  10100.0  DEN  PHX   \nJoel Embiid         C   794508 2022-10-10 23:00:00+00:00   9900.0  PHI  CLE   \nJames Harden    PG/SG   395388 2022-10-10 23:00:00+00:00   9600.0  PHI  CLE   \nLaMelo Ball        PG  1257420 2022-10-10 23:00:00+00:00   9200.0  CHA  WAS   \nDevin Booker    PG/SG   845564 2022-10-11 01:00:00+00:00   9100.0  PHX  DEN   \n\n                 NBA_ID  \nName                     \nNikola Jokic   203999.0  \nJoel Embiid    203954.0  \nJames Harden   201935.0  \nLaMelo Ball   1630163.0  \nDevin Booker  1626164.0  ",
      "text/html": "<div>\n<style scoped>\n    .dataframe tbody tr th:only-of-type {\n        vertical-align: middle;\n    }\n\n    .dataframe tbody tr th {\n        vertical-align: top;\n    }\n\n    .dataframe thead th {\n        text-align: right;\n    }\n</style>\n<table border=\"1\" class=\"dataframe\">\n  <thead>\n    <tr style=\"text-align: right;\">\n      <th></th>\n      <th>Position</th>\n      <th>ID</th>\n      <th>Time</th>\n      <th>Salary</th>\n      <th>Team</th>\n      <th>Opp</th>\n      <th>NBA_ID</th>\n    </tr>\n    <tr>\n      <th>Name</th>\n      <th></th>\n      <th></th>\n      <th></th>\n      <th></th>\n      <th></th>\n      <th></th>\n      <th></th>\n    </tr>\n  </thead>\n  <tbody>\n    <tr>\n      <th>Nikola Jokic</th>\n      <td>C</td>\n      <td>830650</td>\n      <td>2022-10-11 01:00:00+00:00</td>\n      <td>10100.0</td>\n      <td>DEN</td>\n      <td>PHX</td>\n      <td>203999.0</td>\n    </tr>\n    <tr>\n      <th>Joel Embiid</th>\n      <td>C</td>\n      <td>794508</td>\n      <td>2022-10-10 23:00:00+00:00</td>\n      <td>9900.0</td>\n      <td>PHI</td>\n      <td>CLE</td>\n      <td>203954.0</td>\n    </tr>\n    <tr>\n      <th>James Harden</th>\n      <td>PG/SG</td>\n      <td>395388</td>\n      <td>2022-10-10 23:00:00+00:00</td>\n      <td>9600.0</td>\n      <td>PHI</td>\n      <td>CLE</td>\n      <td>201935.0</td>\n    </tr>\n    <tr>\n      <th>LaMelo Ball</th>\n      <td>PG</td>\n      <td>1257420</td>\n      <td>2022-10-10 23:00:00+00:00</td>\n      <td>9200.0</td>\n      <td>CHA</td>\n      <td>WAS</td>\n      <td>1630163.0</td>\n    </tr>\n    <tr>\n      <th>Devin Booker</th>\n      <td>PG/SG</td>\n      <td>845564</td>\n      <td>2022-10-11 01:00:00+00:00</td>\n      <td>9100.0</td>\n      <td>PHX</td>\n      <td>DEN</td>\n      <td>1626164.0</td>\n    </tr>\n  </tbody>\n</table>\n</div>"
     },
     "execution_count": 215,
     "metadata": {},
     "output_type": "execute_result"
    }
   ],
   "source": [
    "df = process_roster(f'data/NBA $3K AND-ONE [20 ENTRY MAX]/2022-10-10.csv').set_index('Name')\n",
    "nba_id = pd.DataFrame(players.get_active_players()).set_index('full_name')['id'].astype(int).rename('NBA_ID')\n",
    "df = df.join(nba_id)\n",
    "df.head()"
   ],
   "metadata": {
    "collapsed": false
   }
  },
  {
   "cell_type": "markdown",
   "source": [],
   "metadata": {
    "collapsed": false
   }
  },
  {
   "cell_type": "code",
   "execution_count": 216,
   "outputs": [],
   "source": [
    "# Appendix\n",
    "#Getting NBA Ids\n",
    "\n",
    "# nba_id = {}\n",
    "#\n",
    "# for name in tqdm(pd.read_csv('data/player_names.csv').Player):\n",
    "#     try:\n",
    "#         id = players.find_players_by_full_name(name)[0]['id']\n",
    "#         nba_id[name] = id\n",
    "#     except Exception as e:\n",
    "#         print(f'failed for {name}')\n",
    "#         print(e)\n",
    "#\n",
    "#     import json\n",
    "# with open('data/nba_id.json', 'w') as f:\n",
    "#     json.dump(nba_id, f)"
   ],
   "metadata": {
    "collapsed": false
   }
  }
 ],
 "metadata": {
  "kernelspec": {
   "display_name": "Python 3 (ipykernel)",
   "language": "python",
   "name": "python3"
  },
  "language_info": {
   "codemirror_mode": {
    "name": "ipython",
    "version": 3
   },
   "file_extension": ".py",
   "mimetype": "text/x-python",
   "name": "python",
   "nbconvert_exporter": "python",
   "pygments_lexer": "ipython3",
   "version": "3.8.13"
  }
 },
 "nbformat": 4,
 "nbformat_minor": 4
}
