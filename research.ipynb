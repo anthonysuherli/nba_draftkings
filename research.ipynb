{
 "cells": [
  {
   "cell_type": "code",
   "execution_count": 6,
   "outputs": [],
   "source": [
    "import warnings\n",
    "warnings.filterwarnings('ignore')\n",
    "\n",
    "import pandas as pd\n",
    "pd.options.display.max_rows = 100\n",
    "pd.options.display.max_columns = 100\n",
    "\n",
    "with open('config.txt', 'r') as f:\n",
    "    names = f.read().split('\\n')\n",
    "\n",
    "def process_roster(path):\n",
    "    roster = pd.read_csv(path)\n",
    "    roster['Game'] = roster.Game.str.split('@').apply(lambda x: set([y.strip() for y in x]))\n",
    "\n",
    "    roster['TeamAbbrev'] = roster.TeamAbbrev.apply(lambda x: set([x]))\n",
    "    roster['OppAbbrev'] = roster.Game - roster.TeamAbbrev\n",
    "    roster['Team'] = roster.TeamAbbrev.apply(lambda x: list(x)[0])\n",
    "    roster['Opp'] = roster.OppAbbrev.apply(lambda x: list(x)[0])\n",
    "\n",
    "    return roster[['Name','Time','Team', 'Opp', 'Position', 'Salary']]"
   ],
   "metadata": {
    "collapsed": false
   }
  },
  {
   "cell_type": "code",
   "execution_count": 7,
   "outputs": [],
   "source": [
    "df = process_roster(f'data/NBA $3K AND-ONE [20 ENTRY MAX]/2022-10-10.csv')"
   ],
   "metadata": {
    "collapsed": false
   }
  },
  {
   "cell_type": "code",
   "execution_count": 8,
   "outputs": [
    {
     "data": {
      "text/plain": "                 Name                       Time Team  Opp Position   Salary\n0        Nikola Jokic  2022-10-11 01:00:00+00:00  DEN  PHX        C  10100.0\n1         Joel Embiid  2022-10-10 23:00:00+00:00  PHI  CLE        C   9900.0\n2        James Harden  2022-10-10 23:00:00+00:00  PHI  CLE    PG/SG   9600.0\n3         LaMelo Ball  2022-10-10 23:00:00+00:00  CHA  WAS       PG   9200.0\n4        Devin Booker  2022-10-11 01:00:00+00:00  PHX  DEN    PG/SG   9100.0\n..                ...                        ...  ...  ...      ...      ...\n151     Ish Wainright  2022-10-11 01:00:00+00:00  PHX  DEN       PF   3000.0\n152     Vlatko Cancar  2022-10-11 01:00:00+00:00  DEN  PHX       SF   3000.0\n153      Kellan Grady  2022-10-11 01:00:00+00:00  DEN  PHX       SG   3000.0\n154        Jack White  2022-10-11 01:00:00+00:00  DEN  PHX       PF   3000.0\n155  Collin Gillespie  2022-10-11 01:00:00+00:00  DEN  PHX       PG   3000.0\n\n[156 rows x 6 columns]",
      "text/html": "<div>\n<style scoped>\n    .dataframe tbody tr th:only-of-type {\n        vertical-align: middle;\n    }\n\n    .dataframe tbody tr th {\n        vertical-align: top;\n    }\n\n    .dataframe thead th {\n        text-align: right;\n    }\n</style>\n<table border=\"1\" class=\"dataframe\">\n  <thead>\n    <tr style=\"text-align: right;\">\n      <th></th>\n      <th>Name</th>\n      <th>Time</th>\n      <th>Team</th>\n      <th>Opp</th>\n      <th>Position</th>\n      <th>Salary</th>\n    </tr>\n  </thead>\n  <tbody>\n    <tr>\n      <th>0</th>\n      <td>Nikola Jokic</td>\n      <td>2022-10-11 01:00:00+00:00</td>\n      <td>DEN</td>\n      <td>PHX</td>\n      <td>C</td>\n      <td>10100.0</td>\n    </tr>\n    <tr>\n      <th>1</th>\n      <td>Joel Embiid</td>\n      <td>2022-10-10 23:00:00+00:00</td>\n      <td>PHI</td>\n      <td>CLE</td>\n      <td>C</td>\n      <td>9900.0</td>\n    </tr>\n    <tr>\n      <th>2</th>\n      <td>James Harden</td>\n      <td>2022-10-10 23:00:00+00:00</td>\n      <td>PHI</td>\n      <td>CLE</td>\n      <td>PG/SG</td>\n      <td>9600.0</td>\n    </tr>\n    <tr>\n      <th>3</th>\n      <td>LaMelo Ball</td>\n      <td>2022-10-10 23:00:00+00:00</td>\n      <td>CHA</td>\n      <td>WAS</td>\n      <td>PG</td>\n      <td>9200.0</td>\n    </tr>\n    <tr>\n      <th>4</th>\n      <td>Devin Booker</td>\n      <td>2022-10-11 01:00:00+00:00</td>\n      <td>PHX</td>\n      <td>DEN</td>\n      <td>PG/SG</td>\n      <td>9100.0</td>\n    </tr>\n    <tr>\n      <th>...</th>\n      <td>...</td>\n      <td>...</td>\n      <td>...</td>\n      <td>...</td>\n      <td>...</td>\n      <td>...</td>\n    </tr>\n    <tr>\n      <th>151</th>\n      <td>Ish Wainright</td>\n      <td>2022-10-11 01:00:00+00:00</td>\n      <td>PHX</td>\n      <td>DEN</td>\n      <td>PF</td>\n      <td>3000.0</td>\n    </tr>\n    <tr>\n      <th>152</th>\n      <td>Vlatko Cancar</td>\n      <td>2022-10-11 01:00:00+00:00</td>\n      <td>DEN</td>\n      <td>PHX</td>\n      <td>SF</td>\n      <td>3000.0</td>\n    </tr>\n    <tr>\n      <th>153</th>\n      <td>Kellan Grady</td>\n      <td>2022-10-11 01:00:00+00:00</td>\n      <td>DEN</td>\n      <td>PHX</td>\n      <td>SG</td>\n      <td>3000.0</td>\n    </tr>\n    <tr>\n      <th>154</th>\n      <td>Jack White</td>\n      <td>2022-10-11 01:00:00+00:00</td>\n      <td>DEN</td>\n      <td>PHX</td>\n      <td>PF</td>\n      <td>3000.0</td>\n    </tr>\n    <tr>\n      <th>155</th>\n      <td>Collin Gillespie</td>\n      <td>2022-10-11 01:00:00+00:00</td>\n      <td>DEN</td>\n      <td>PHX</td>\n      <td>PG</td>\n      <td>3000.0</td>\n    </tr>\n  </tbody>\n</table>\n<p>156 rows × 6 columns</p>\n</div>"
     },
     "execution_count": 8,
     "metadata": {},
     "output_type": "execute_result"
    }
   ],
   "source": [
    "df"
   ],
   "metadata": {
    "collapsed": false
   }
  },
  {
   "cell_type": "code",
   "execution_count": 45,
   "outputs": [],
   "source": [
    "import nba_api"
   ],
   "metadata": {
    "collapsed": false
   }
  },
  {
   "cell_type": "code",
   "execution_count": null,
   "outputs": [],
   "source": [],
   "metadata": {
    "collapsed": false
   }
  }
 ],
 "metadata": {
  "kernelspec": {
   "display_name": "Python 3 (ipykernel)",
   "language": "python",
   "name": "python3"
  },
  "language_info": {
   "codemirror_mode": {
    "name": "ipython",
    "version": 3
   },
   "file_extension": ".py",
   "mimetype": "text/x-python",
   "name": "python",
   "nbconvert_exporter": "python",
   "pygments_lexer": "ipython3",
   "version": "3.8.13"
  }
 },
 "nbformat": 4,
 "nbformat_minor": 4
}
