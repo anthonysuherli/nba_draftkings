{
 "cells": [
  {
   "cell_type": "code",
   "execution_count": 1,
   "outputs": [],
   "source": [
    "import warnings\n",
    "warnings.filterwarnings('ignore')\n",
    "\n",
    "from nba_api.stats.endpoints import playercareerstats, commonplayerinfo\n",
    "from nba_api.stats.static import players\n",
    "from tqdm.notebook import tqdm\n",
    "\n",
    "import pandas as pd\n",
    "\n",
    "with open('config.txt', 'r') as f:\n",
    "    names = f.read().split('\\n')\n",
    "\n",
    "def process_roster(path):\n",
    "    roster = pd.read_csv(path)\n",
    "    roster['Game'] = roster.Game.str.split('@').apply(lambda x: set([y.strip() for y in x]))\n",
    "    roster['Name'] = roster.Name\n",
    "    roster['TeamAbbrev'] = roster.TeamAbbrev.apply(lambda x: set([x]))\n",
    "    roster['OppAbbrev'] = roster.Game - roster.TeamAbbrev\n",
    "    roster['Team'] = roster.TeamAbbrev.apply(lambda x: list(x)[0])\n",
    "    roster['Opp'] = roster.OppAbbrev.apply(lambda x: list(x)[0])\n",
    "    roster.Time = pd.to_datetime(roster.Time)\n",
    "    roster.drop(['TeamAbbrev','OppAbbrev', 'Game'], axis = 1, inplace=True)\n",
    "    return roster[['Name','Position', 'ID', 'Time', 'Salary', 'Team', 'Opp']]"
   ],
   "metadata": {
    "collapsed": false
   }
  },
  {
   "cell_type": "code",
   "execution_count": 226,
   "outputs": [
    {
     "data": {
      "text/plain": "'{\"resource\": \"commonplayerinfo\", \"parameters\": [{\"PlayerID\": 203999}, {\"LeagueID\": null}], \"resultSets\": [{\"name\": \"CommonPlayerInfo\", \"headers\": [\"PERSON_ID\", \"FIRST_NAME\", \"LAST_NAME\", \"DISPLAY_FIRST_LAST\", \"DISPLAY_LAST_COMMA_FIRST\", \"DISPLAY_FI_LAST\", \"PLAYER_SLUG\", \"BIRTHDATE\", \"SCHOOL\", \"COUNTRY\", \"LAST_AFFILIATION\", \"HEIGHT\", \"WEIGHT\", \"SEASON_EXP\", \"JERSEY\", \"POSITION\", \"ROSTERSTATUS\", \"GAMES_PLAYED_CURRENT_SEASON_FLAG\", \"TEAM_ID\", \"TEAM_NAME\", \"TEAM_ABBREVIATION\", \"TEAM_CODE\", \"TEAM_CITY\", \"PLAYERCODE\", \"FROM_YEAR\", \"TO_YEAR\", \"DLEAGUE_FLAG\", \"NBA_FLAG\", \"GAMES_PLAYED_FLAG\", \"DRAFT_YEAR\", \"DRAFT_ROUND\", \"DRAFT_NUMBER\", \"GREATEST_75_FLAG\"], \"rowSet\": [[203999, \"Nikola\", \"Jokic\", \"Nikola Jokic\", \"Jokic, Nikola\", \"N. Jokic\", \"nikola-jokic\", \"1995-02-19T00:00:00\", \"Mega Basket\", \"Serbia\", \"Mega Basket/Serbia\", \"6-11\", \"284\", 7, \"15\", \"Center\", \"Active\", \"Y\", 1610612743, \"Nuggets\", \"DEN\", \"nuggets\", \"Denver\", \"nikola_jokic\", 2015, 2022, \"N\", \"Y\", \"Y\", \"2014\", \"2\", \"41\", \"N\"]]}, {\"name\": \"PlayerHeadlineStats\", \"headers\": [\"PLAYER_ID\", \"PLAYER_NAME\", \"TimeFrame\", \"PTS\", \"AST\", \"REB\", \"PIE\"], \"rowSet\": [[203999, \"Nikola Jokic\", \"2021-22\", 27.1, 7.9, 13.8, 0.23]]}, {\"name\": \"AvailableSeasons\", \"headers\": [\"SEASON_ID\"], \"rowSet\": [[\"12015\"], [\"22015\"], [\"12016\"], [\"22016\"], [\"12017\"], [\"22017\"], [\"12018\"], [\"22018\"], [\"32018\"], [\"42018\"], [\"12019\"], [\"22019\"], [\"32019\"], [\"42019\"], [\"12020\"], [\"22020\"], [\"32020\"], [\"42020\"], [\"12021\"], [\"22021\"], [\"32021\"], [\"42021\"], [\"12022\"]]}]}'"
     },
     "execution_count": 226,
     "metadata": {},
     "output_type": "execute_result"
    }
   ],
   "source": [
    "player_info.get_json()"
   ],
   "metadata": {
    "collapsed": false
   }
  },
  {
   "cell_type": "code",
   "execution_count": 215,
   "outputs": [
    {
     "data": {
      "text/plain": "             Position       ID                      Time   Salary Team  Opp  \\\nName                                                                          \nNikola Jokic        C   830650 2022-10-11 01:00:00+00:00  10100.0  DEN  PHX   \nJoel Embiid         C   794508 2022-10-10 23:00:00+00:00   9900.0  PHI  CLE   \nJames Harden    PG/SG   395388 2022-10-10 23:00:00+00:00   9600.0  PHI  CLE   \nLaMelo Ball        PG  1257420 2022-10-10 23:00:00+00:00   9200.0  CHA  WAS   \nDevin Booker    PG/SG   845564 2022-10-11 01:00:00+00:00   9100.0  PHX  DEN   \n\n                 NBA_ID  \nName                     \nNikola Jokic   203999.0  \nJoel Embiid    203954.0  \nJames Harden   201935.0  \nLaMelo Ball   1630163.0  \nDevin Booker  1626164.0  ",
      "text/html": "<div>\n<style scoped>\n    .dataframe tbody tr th:only-of-type {\n        vertical-align: middle;\n    }\n\n    .dataframe tbody tr th {\n        vertical-align: top;\n    }\n\n    .dataframe thead th {\n        text-align: right;\n    }\n</style>\n<table border=\"1\" class=\"dataframe\">\n  <thead>\n    <tr style=\"text-align: right;\">\n      <th></th>\n      <th>Position</th>\n      <th>ID</th>\n      <th>Time</th>\n      <th>Salary</th>\n      <th>Team</th>\n      <th>Opp</th>\n      <th>NBA_ID</th>\n    </tr>\n    <tr>\n      <th>Name</th>\n      <th></th>\n      <th></th>\n      <th></th>\n      <th></th>\n      <th></th>\n      <th></th>\n      <th></th>\n    </tr>\n  </thead>\n  <tbody>\n    <tr>\n      <th>Nikola Jokic</th>\n      <td>C</td>\n      <td>830650</td>\n      <td>2022-10-11 01:00:00+00:00</td>\n      <td>10100.0</td>\n      <td>DEN</td>\n      <td>PHX</td>\n      <td>203999.0</td>\n    </tr>\n    <tr>\n      <th>Joel Embiid</th>\n      <td>C</td>\n      <td>794508</td>\n      <td>2022-10-10 23:00:00+00:00</td>\n      <td>9900.0</td>\n      <td>PHI</td>\n      <td>CLE</td>\n      <td>203954.0</td>\n    </tr>\n    <tr>\n      <th>James Harden</th>\n      <td>PG/SG</td>\n      <td>395388</td>\n      <td>2022-10-10 23:00:00+00:00</td>\n      <td>9600.0</td>\n      <td>PHI</td>\n      <td>CLE</td>\n      <td>201935.0</td>\n    </tr>\n    <tr>\n      <th>LaMelo Ball</th>\n      <td>PG</td>\n      <td>1257420</td>\n      <td>2022-10-10 23:00:00+00:00</td>\n      <td>9200.0</td>\n      <td>CHA</td>\n      <td>WAS</td>\n      <td>1630163.0</td>\n    </tr>\n    <tr>\n      <th>Devin Booker</th>\n      <td>PG/SG</td>\n      <td>845564</td>\n      <td>2022-10-11 01:00:00+00:00</td>\n      <td>9100.0</td>\n      <td>PHX</td>\n      <td>DEN</td>\n      <td>1626164.0</td>\n    </tr>\n  </tbody>\n</table>\n</div>"
     },
     "execution_count": 215,
     "metadata": {},
     "output_type": "execute_result"
    }
   ],
   "source": [
    "df = process_roster(f'data/NBA $3K AND-ONE [20 ENTRY MAX]/2022-10-10.csv').set_index('Name')\n",
    "nba_id = pd.DataFrame(players.get_active_players()).set_index('full_name')['id'].astype(int).rename('NBA_ID')\n",
    "df = df.join(nba_id)\n",
    "df.head()"
   ],
   "metadata": {
    "collapsed": false
   }
  },
  {
   "cell_type": "markdown",
   "source": [],
   "metadata": {
    "collapsed": false
   }
  },
  {
   "cell_type": "code",
   "execution_count": 216,
   "outputs": [],
   "source": [
    "# Appendix\n",
    "#Getting NBA Ids\n",
    "\n",
    "# nba_id = {}\n",
    "#\n",
    "# for name in tqdm(pd.read_csv('data/player_names.csv').Player):\n",
    "#     try:\n",
    "#         id = players.find_players_by_full_name(name)[0]['id']\n",
    "#         nba_id[name] = id\n",
    "#     except Exception as e:\n",
    "#         print(f'failed for {name}')\n",
    "#         print(e)\n",
    "#\n",
    "#     import json\n",
    "# with open('data/nba_id.json', 'w') as f:\n",
    "#     json.dump(nba_id, f)"
   ],
   "metadata": {
    "collapsed": false
   }
  }
 ],
 "metadata": {
  "kernelspec": {
   "display_name": "Python 3 (ipykernel)",
   "language": "python",
   "name": "python3"
  },
  "language_info": {
   "codemirror_mode": {
    "name": "ipython",
    "version": 3
   },
   "file_extension": ".py",
   "mimetype": "text/x-python",
   "name": "python",
   "nbconvert_exporter": "python",
   "pygments_lexer": "ipython3",
   "version": "3.8.13"
  }
 },
 "nbformat": 4,
 "nbformat_minor": 4
}
