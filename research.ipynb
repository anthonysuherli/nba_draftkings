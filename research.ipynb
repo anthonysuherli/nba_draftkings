{
 "cells": [
  {
   "cell_type": "code",
   "execution_count": 4,
   "metadata": {
    "collapsed": false,
    "jupyter": {
     "outputs_hidden": false
    }
   },
   "outputs": [],
   "source": [
    "import warnings\n",
    "warnings.filterwarnings('ignore')\n",
    "\n",
    "import numpy as np\n",
    "import pandas as pd\n",
    "\n",
    "with open('config.txt', 'r') as f:\n",
    "    names = f.read().split('\\n')"
   ]
  },
  {
   "cell_type": "code",
   "execution_count": 8,
   "outputs": [
    {
     "data": {
      "text/plain": "    Position                   Name + ID              Name       ID  \\\n0          C       Nikola Jokic + 830650      Nikola Jokic   830650   \n1          C        Joel Embiid + 794508       Joel Embiid   794508   \n2      PG/SG       James Harden + 395388      James Harden   395388   \n3         PG       LaMelo Ball + 1257420       LaMelo Ball  1257420   \n4      PG/SG       Devin Booker + 845564      Devin Booker   845564   \n..       ...                         ...               ...      ...   \n151       PF      Ish Wainright + 748530     Ish Wainright   748530   \n152       SF     Vlatko Cancar + 1057007     Vlatko Cancar  1057007   \n153       SG      Kellan Grady + 1061761      Kellan Grady  1061761   \n154       PF         Jack White + 937674        Jack White   937674   \n155       PG  Collin Gillespie + 1070352  Collin Gillespie  1070352   \n\n          Game                       Time TeamAbbrev   Salary  \n0    PHX @ DEN  2022-10-11 01:00:00+00:00        DEN  10100.0  \n1    PHI @ CLE  2022-10-10 23:00:00+00:00        PHI   9900.0  \n2    PHI @ CLE  2022-10-10 23:00:00+00:00        PHI   9600.0  \n3    WAS @ CHA  2022-10-10 23:00:00+00:00        CHA   9200.0  \n4    PHX @ DEN  2022-10-11 01:00:00+00:00        PHX   9100.0  \n..         ...                        ...        ...      ...  \n151  PHX @ DEN  2022-10-11 01:00:00+00:00        PHX   3000.0  \n152  PHX @ DEN  2022-10-11 01:00:00+00:00        DEN   3000.0  \n153  PHX @ DEN  2022-10-11 01:00:00+00:00        DEN   3000.0  \n154  PHX @ DEN  2022-10-11 01:00:00+00:00        DEN   3000.0  \n155  PHX @ DEN  2022-10-11 01:00:00+00:00        DEN   3000.0  \n\n[156 rows x 8 columns]",
      "text/html": "<div>\n<style scoped>\n    .dataframe tbody tr th:only-of-type {\n        vertical-align: middle;\n    }\n\n    .dataframe tbody tr th {\n        vertical-align: top;\n    }\n\n    .dataframe thead th {\n        text-align: right;\n    }\n</style>\n<table border=\"1\" class=\"dataframe\">\n  <thead>\n    <tr style=\"text-align: right;\">\n      <th></th>\n      <th>Position</th>\n      <th>Name + ID</th>\n      <th>Name</th>\n      <th>ID</th>\n      <th>Game</th>\n      <th>Time</th>\n      <th>TeamAbbrev</th>\n      <th>Salary</th>\n    </tr>\n  </thead>\n  <tbody>\n    <tr>\n      <th>0</th>\n      <td>C</td>\n      <td>Nikola Jokic + 830650</td>\n      <td>Nikola Jokic</td>\n      <td>830650</td>\n      <td>PHX @ DEN</td>\n      <td>2022-10-11 01:00:00+00:00</td>\n      <td>DEN</td>\n      <td>10100.0</td>\n    </tr>\n    <tr>\n      <th>1</th>\n      <td>C</td>\n      <td>Joel Embiid + 794508</td>\n      <td>Joel Embiid</td>\n      <td>794508</td>\n      <td>PHI @ CLE</td>\n      <td>2022-10-10 23:00:00+00:00</td>\n      <td>PHI</td>\n      <td>9900.0</td>\n    </tr>\n    <tr>\n      <th>2</th>\n      <td>PG/SG</td>\n      <td>James Harden + 395388</td>\n      <td>James Harden</td>\n      <td>395388</td>\n      <td>PHI @ CLE</td>\n      <td>2022-10-10 23:00:00+00:00</td>\n      <td>PHI</td>\n      <td>9600.0</td>\n    </tr>\n    <tr>\n      <th>3</th>\n      <td>PG</td>\n      <td>LaMelo Ball + 1257420</td>\n      <td>LaMelo Ball</td>\n      <td>1257420</td>\n      <td>WAS @ CHA</td>\n      <td>2022-10-10 23:00:00+00:00</td>\n      <td>CHA</td>\n      <td>9200.0</td>\n    </tr>\n    <tr>\n      <th>4</th>\n      <td>PG/SG</td>\n      <td>Devin Booker + 845564</td>\n      <td>Devin Booker</td>\n      <td>845564</td>\n      <td>PHX @ DEN</td>\n      <td>2022-10-11 01:00:00+00:00</td>\n      <td>PHX</td>\n      <td>9100.0</td>\n    </tr>\n    <tr>\n      <th>...</th>\n      <td>...</td>\n      <td>...</td>\n      <td>...</td>\n      <td>...</td>\n      <td>...</td>\n      <td>...</td>\n      <td>...</td>\n      <td>...</td>\n    </tr>\n    <tr>\n      <th>151</th>\n      <td>PF</td>\n      <td>Ish Wainright + 748530</td>\n      <td>Ish Wainright</td>\n      <td>748530</td>\n      <td>PHX @ DEN</td>\n      <td>2022-10-11 01:00:00+00:00</td>\n      <td>PHX</td>\n      <td>3000.0</td>\n    </tr>\n    <tr>\n      <th>152</th>\n      <td>SF</td>\n      <td>Vlatko Cancar + 1057007</td>\n      <td>Vlatko Cancar</td>\n      <td>1057007</td>\n      <td>PHX @ DEN</td>\n      <td>2022-10-11 01:00:00+00:00</td>\n      <td>DEN</td>\n      <td>3000.0</td>\n    </tr>\n    <tr>\n      <th>153</th>\n      <td>SG</td>\n      <td>Kellan Grady + 1061761</td>\n      <td>Kellan Grady</td>\n      <td>1061761</td>\n      <td>PHX @ DEN</td>\n      <td>2022-10-11 01:00:00+00:00</td>\n      <td>DEN</td>\n      <td>3000.0</td>\n    </tr>\n    <tr>\n      <th>154</th>\n      <td>PF</td>\n      <td>Jack White + 937674</td>\n      <td>Jack White</td>\n      <td>937674</td>\n      <td>PHX @ DEN</td>\n      <td>2022-10-11 01:00:00+00:00</td>\n      <td>DEN</td>\n      <td>3000.0</td>\n    </tr>\n    <tr>\n      <th>155</th>\n      <td>PG</td>\n      <td>Collin Gillespie + 1070352</td>\n      <td>Collin Gillespie</td>\n      <td>1070352</td>\n      <td>PHX @ DEN</td>\n      <td>2022-10-11 01:00:00+00:00</td>\n      <td>DEN</td>\n      <td>3000.0</td>\n    </tr>\n  </tbody>\n</table>\n<p>156 rows × 8 columns</p>\n</div>"
     },
     "execution_count": 8,
     "metadata": {},
     "output_type": "execute_result"
    }
   ],
   "source": [
    "roster = pd.read_csv(f'data/NBA $3K AND-ONE [20 ENTRY MAX]/2022-10-10.csv')\n",
    "roster"
   ],
   "metadata": {
    "collapsed": false
   }
  }
 ],
 "metadata": {
  "kernelspec": {
   "display_name": "Python 3 (ipykernel)",
   "language": "python",
   "name": "python3"
  },
  "language_info": {
   "codemirror_mode": {
    "name": "ipython",
    "version": 3
   },
   "file_extension": ".py",
   "mimetype": "text/x-python",
   "name": "python",
   "nbconvert_exporter": "python",
   "pygments_lexer": "ipython3",
   "version": "3.8.13"
  }
 },
 "nbformat": 4,
 "nbformat_minor": 4
}
