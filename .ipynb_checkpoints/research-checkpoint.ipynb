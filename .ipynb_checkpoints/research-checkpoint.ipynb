{
 "cells": [
  {
   "cell_type": "code",
   "execution_count": 71,
   "metadata": {
    "collapsed": false,
    "jupyter": {
     "outputs_hidden": false
    }
   },
   "outputs": [],
   "source": [
    "import warnings\n",
    "warnings.filterwarnings('ignore')\n",
    "\n",
    "import numpy as np\n",
    "import pandas as pd\n",
    "import datetime as dt\n",
    "from draft_kings import Sport, Client\n",
    "\n",
    "def get_contests(names, date = dt.datetime.now().strftime('%m-%d-%Y')):\n",
    "    contests = Client().contests(sport=Sport.NBA).contests\n",
    "    names = [x.lower() for x in names]\n",
    "    cinfo = {}\n",
    "    for idx, contest in enumerate(contests):\n",
    "        if contest.name.lower() in names and contest.starts_at.strftime('%m-%d-%Y') == date:\n",
    "            cinfo[contest.name] = {\n",
    "                'start_time': contest.starts_at,\n",
    "                'id': contest.contest_id,\n",
    "                'draft_id': contest.draft_group_id,\n",
    "                'payout' : contest.payout\n",
    "        }\n",
    "    return cinfo\n",
    "\n",
    "def get_players(contest): \n",
    "    draft_id = contest['draft_id']\n",
    "    draft = Client().draftables(draft_group_id=draft_id)\n",
    "\n",
    "    player_dict = {}\n",
    "    \n",
    "    for player in draft.players: \n",
    "        player_name = player.name_details.display\n",
    "        player_dict[player_name] = {\n",
    "            'Position': player.position_name, \n",
    "            'Name + ID': f'{player_name} + {player.player_id}', \n",
    "            'Name': player_name, \n",
    "            'ID': player.player_id,\n",
    "            'Slot_ID': player.roster_slot_id, \n",
    "            'Game': player.competition_details.name, \n",
    "            'Time': player.competition_details.starts_at, \n",
    "            'TeamAbbrev': player.team_details.abbreviation, \n",
    "            'Salary': player.salary,\n",
    "        }\n",
    "        \n",
    "    return player_dict\n"
   ]
  },
  {
   "cell_type": "markdown",
   "metadata": {},
   "source": [
    "### Setup"
   ]
  },
  {
   "cell_type": "code",
   "execution_count": 96,
   "metadata": {},
   "outputs": [
    {
     "data": {
      "text/plain": [
       "['.ipynb_checkpoints', 'base_players.csv', 'salaries.csv']"
      ]
     },
     "execution_count": 96,
     "metadata": {},
     "output_type": "execute_result"
    }
   ],
   "source": [
    "import os\n",
    "os.listdir('data')"
   ]
  },
  {
   "cell_type": "code",
   "execution_count": 128,
   "metadata": {
    "tags": []
   },
   "outputs": [
    {
     "name": "stdout",
     "output_type": "stream",
     "text": [
      "PlayerDetails(competition_details=PlayerCompetitionDetails(competition_id=5832540, name='MIN @ LAC', starts_at=datetime.datetime(2022, 10, 10, 2, 30, tzinfo=datetime.timezone.utc)), draftable_id=24665644, draft_alerts=[], image_details=PlayerImageDetails(fifty_pixels_by_fifty_pixels_url='https://dkn.gs/sports/images/nba/players/50/33102.png', one_hundred_and_sixty_pixels_by_one_hundred_and_sixty_pixels_url='https://dkn.gs/sports/images/nba/players/160/33102.png'), is_disabled=False, is_swappable=True, name_details=PlayerNameDetails(display='Kawhi Leonard', first='Kawhi', last='Leonard', short='K. Leonard'), news_status_description='Breaking', player_id=512591, position_name='SF', roster_slot_id=460, salary=9700.0, team_details=PlayerTeamDetails(abbreviation='LAC', team_id=12))\n"
     ]
    }
   ],
   "source": [
    "for player in draft.players:\n",
    "    print(player)\n",
    "    break"
   ]
  },
  {
   "cell_type": "code",
   "execution_count": 99,
   "metadata": {},
   "outputs": [],
   "source": [
    "names = [\n",
    "    'NBA $15K FADEAWAY [$5K TO 1ST]',\n",
    "    'NBA $100 FOUR POINT PLAY', \n",
    "    'NBA $500 AND-ONE (NIGHT)'\n",
    "]\n",
    "\n",
    "date = '10-10-2022'\n",
    "\n",
    "for name in names:\n",
    "    fpath = f'data/{name}'\n",
    "    if name not in os.listdir('data'): \n",
    "        os.mkdir(fpath)\n",
    "        \n",
    "    if date not in os.listdir(fpath): \n",
    "        os.mkdir(f'{fpath}/{date}')\n",
    "\n",
    "        \n",
    "contests = get_contests(names, date = date)\n",
    "players = pd.read_csv('base_players.csv')\n"
   ]
  },
  {
   "cell_type": "code",
   "execution_count": 123,
   "metadata": {
    "tags": []
   },
   "outputs": [
    {
     "data": {
      "text/plain": [
       "{'Greg Brown': {'Position': 'C',\n",
       "  'Name + ID': 'Greg Brown + 1243740',\n",
       "  'Name': 'Greg Brown',\n",
       "  'ID': 1243740,\n",
       "  'Slot_ID': 465,\n",
       "  'Game': 'POR @ SAC',\n",
       "  'Time': datetime.datetime(2022, 10, 10, 1, 0, tzinfo=datetime.timezone.utc),\n",
       "  'TeamAbbrev': 'POR',\n",
       "  'Salary': 3000.0}}"
      ]
     },
     "execution_count": 123,
     "metadata": {},
     "output_type": "execute_result"
    }
   ],
   "source": [
    "get_players(contests['NBA $500 And-One (Night)'])"
   ]
  },
  {
   "cell_type": "code",
   "execution_count": null,
   "metadata": {},
   "outputs": [],
   "source": []
  }
 ],
 "metadata": {
  "kernelspec": {
   "display_name": "Python 3 (ipykernel)",
   "language": "python",
   "name": "python3"
  },
  "language_info": {
   "codemirror_mode": {
    "name": "ipython",
    "version": 3
   },
   "file_extension": ".py",
   "mimetype": "text/x-python",
   "name": "python",
   "nbconvert_exporter": "python",
   "pygments_lexer": "ipython3",
   "version": "3.8.13"
  }
 },
 "nbformat": 4,
 "nbformat_minor": 4
}
